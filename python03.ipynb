{
 "cells": [
  {
   "cell_type": "markdown",
   "metadata": {},
   "source": [
    "## 1. 인스턴스"
   ]
  },
  {
   "cell_type": "markdown",
   "metadata": {
    "vscode": {
     "languageId": "plaintext"
    }
   },
   "source": [
    "#### 1-1. 인스턴스 변수와 메소드\n",
    "- 인스턴스 변수\n",
    "  - 각 객체가 개별적으로 가지는 속성(변수).\n",
    "  - 해당 변수의 값들을 통하여 각 객체가 고유성을 띌 수 있습니다."
   ]
  },
  {
   "cell_type": "code",
   "execution_count": null,
   "metadata": {},
   "outputs": [],
   "source": [
    "class User:\n",
    "\tpass\n",
    "\n",
    "user1 = User()\n",
    "user2 = User()\n",
    "\n",
    "user1.name = \"가나다\"\n",
    "user1.email = \"ganada@codeit.xyz\"\n",
    "user1.password = \"12345\"\n",
    "\n",
    "user2.name = \"마바사\"\n",
    "user2.email = \"mabasa@codeit.xyz\"\n",
    "user2.password = \"abcde\""
   ]
  },
  {
   "cell_type": "markdown",
   "metadata": {
    "vscode": {
     "languageId": "plaintext"
    }
   },
   "source": [
    "- 인스턴스 메소드\n",
    "  - 객체에서 호출될 수 있는 메소드(함수)\n",
    "  <details>\n",
    "  <summary>인자 받기</summary>\n",
    "  <div markdown=\"1\">\n",
    "  <img src=\"https://velog.velcdn.com/images/newnew_daddy/post/33973169-a0aa-4fe4-8f33-17470421cc12/image.png\" width=\"70%\">\n",
    "  </div>\n",
    "  </details>"
   ]
  },
  {
   "cell_type": "code",
   "execution_count": null,
   "metadata": {},
   "outputs": [],
   "source": [
    "class User:\n",
    "\tdef say_hello(some_user):\n",
    "\t\t# 인사 메시지 출력 메소드\n",
    "\t\tprint(f\"안녕하세요! 저는 {some_user.name}입니다!\")\n",
    "\t\t\n",
    "\tdef check_check(something):\n",
    "\t\tprint(something.__dict__)\n",
    "\t\t\n",
    "## 1\n",
    "User.say_hello(user1)\n",
    "User.say_hello(user2)\n",
    "\n",
    "## 2 -> 인스턴스에 메소드를 호출하면, 따로 코드를 쓰지 않아도 인스턴스가 메소드의 첫 번째 아규먼트로 자동 전달됩니다.\n",
    "user1.say_hello()\n",
    "user2.say_hello()"
   ]
  },
  {
   "cell_type": "markdown",
   "metadata": {},
   "source": [
    "#### 1-2. 인스턴스 메소드 활용"
   ]
  },
  {
   "cell_type": "code",
   "execution_count": null,
   "metadata": {},
   "outputs": [],
   "source": [
    "## 인스턴스 메소드에 다른 외부 변수를 받도록 구성\n",
    "\n",
    "class User:\n",
    "\tdef say_hello(some_user):\n",
    "\t\t# 인사 메시지 출력 메소드\n",
    "\t\tprint(f\"안녕하세요! 저는 {some_user.name}입니다!\")\n",
    "\t\n",
    "\t## 인사 반복\n",
    "\tdef say_hello2(some_user, repeat):\n",
    "\t\t# 인사 메시지 출력 메소드\n",
    "\t\tprint(f\"안녕하세요! 저는 {some_user.name}입니다!\" * repeat) \n",
    "\t\t\n",
    "\tdef check_check(something):\n",
    "\t\tprint(something.__dict__)"
   ]
  },
  {
   "cell_type": "code",
   "execution_count": null,
   "metadata": {},
   "outputs": [],
   "source": [
    "\"\"\"\n",
    "인스턴스 메소드의 첫 번째 항은 해당 메소드를 사용하는 인스턴스 자신이 자동으로 들어간다고 했습니다. \n",
    "따라서 위에 예제에서는 ‘some_user’나 ‘something’을 사용했지만, 일반적으로는 ‘self’를 사용합니다.\n",
    "\"\"\"\n",
    "class User:\n",
    "\tdef say_hello(self):\n",
    "\t\t# 인사 메시지 출력 메소드\n",
    "\t\tprint(f\"안녕하세요! 저는 {self.name}입니다!\")\n",
    "\t\n",
    "\t## 인사 반복\n",
    "\tdef say_hello2(self, repeat):\n",
    "\t\t# 인사 메시지 출력 메소드\n",
    "\t\tprint(f\"안녕하세요! 저는 {self.name}입니다!\" * repeat) \n",
    "\t\t\n",
    "\tdef check_check(self):\n",
    "\t\tprint(self.__dict__)"
   ]
  },
  {
   "cell_type": "markdown",
   "metadata": {},
   "source": [
    "#### 1-3. 인스턴스 변수 초기화\n",
    "- 그렇다면 User 클래스의 객체를 여러개 만들고 싶습니다. name, email, password 속성은 다 차있지 않더라도 각 객체들마다 값으로 들어는 있어야 하는데, 지금 상황이라면 내부에 들어가 있는 속성들을 하나하나 일일히 입력해주어서 객체를 만들어 주어야 하죠.\n",
    "- 클래스로부터 객체가 생성되는 순간에 객체가 가져야하는 공통적인 속성들을 초기화시켜주는 로직이 들어가있다면 이 문제를 해결할 수 있습니다. 그 메소드가 `__init__` 입니다."
   ]
  },
  {
   "cell_type": "code",
   "execution_count": null,
   "metadata": {},
   "outputs": [],
   "source": [
    "class User:\n",
    "    def __init__(self, name, email, password):\n",
    "        self.name = name\n",
    "        self.email = email\n",
    "        self.password = password\n",
    "\n",
    "    def say_hello(self):\n",
    "        # 인사 메시지 출력 메소드\n",
    "        print(f\"안녕하세요! 저는 {self.name}입니다!\")\n",
    "\n",
    "    ## 인사 반복\n",
    "    def say_hello2(self, repeat):\n",
    "        # 인사 메시지 출력 메소드\n",
    "        print(f\"안녕하세요! 저는 {self.name}입니다!\" * repeat) \n",
    "        \n",
    "    def check_check(self):\n",
    "        print(self.__dict__)\n",
    "        \n",
    "user1 = User(\"가나다\", \"ganada@codeit.xzy\", \"123456\")    \n",
    "user2 = User(\"마바사\", \"mabada@codeit.xyz\", \"abcdef\")\n",
    "user3 = User(\"\", \"\", \"\")"
   ]
  },
  {
   "cell_type": "markdown",
   "metadata": {},
   "source": [
    "#### 1-4. 인스턴스 정보 확인\n",
    "- **`__dict__`**: 객체의 모든 인스턴스 변수와 그 값을 딕셔너리 형태로 반환합니다.\n",
    "- **`dir()`**: 객체가 가진 모든 속성과 메소드를 리스트로 반환합니다."
   ]
  },
  {
   "cell_type": "code",
   "execution_count": null,
   "metadata": {},
   "outputs": [],
   "source": [
    "user1.__dict__\n",
    "\n",
    "dir(user1)"
   ]
  },
  {
   "cell_type": "markdown",
   "metadata": {},
   "source": [
    "#### 1-5. 클래스, 객체, 인스턴스에 대한 설명\n",
    "- 클래스 : 자동차를 만드는 설계도\n",
    "- 객체 : 해당 설계도를 바탕으로 실제로 만들어진 자동차들 (실제하지만 고유한 어떤 차를 나타내는 것이 아니므로 추상적인 개념에 가까움)\n",
    "- 인스턴스 : 특정한 자동차 (고유함)\n",
    "\n",
    "![](https://velog.velcdn.com/images/newnew_daddy/post/435ddd1a-a536-4d44-9256-6e50b9393bb2/image.png)\n"
   ]
  },
  {
   "cell_type": "markdown",
   "metadata": {},
   "source": [
    "## 2. 클래스"
   ]
  },
  {
   "cell_type": "markdown",
   "metadata": {},
   "source": [
    "#### 2-1. 클래스 변수\n",
    "- 클래스 변수는 클래스에 의해 생성된 모든 인스턴스가 공유하는 변수입니다. \n",
    "- 클래스 변수는 클래스 선언 내부에서 정의되며, 모든 인스턴스에서 동일한 값을 가집니다."
   ]
  },
  {
   "cell_type": "code",
   "execution_count": null,
   "metadata": {},
   "outputs": [],
   "source": [
    "## 객체 선언시마다 숫자가 하나씩 올라가, 해당 클래스 객체 수를 알려주는 클래스 변수 구성\n",
    "\n",
    "class User:\n",
    "    \n",
    "    count = 0\n",
    "    \n",
    "    def __init__(self, name, email, password):\n",
    "        self.name = name\n",
    "        self.email = email\n",
    "        self.password = password\n",
    "        User.count += 1\n",
    "\t\t\t\t\n",
    "    def say_hello(self):\n",
    "        # 인사 메시지 출력 메소드\n",
    "        print(f\"안녕하세요! 저는 {self.name}입니다!\")\n",
    "\n",
    "    ## 인사 반복\n",
    "    def say_hello2(self, repeat):\n",
    "        # 인사 메시지 출력 메소드\n",
    "        print(f\"안녕하세요! 저는 {self.name}입니다!\" * repeat) \n",
    "        \n",
    "    def check_check(self):\n",
    "        print(self.__dict__)\n",
    "        \n",
    "user1 = User(\"가나다\", \"ganada@codeit.xzy\", \"123456\")    \n",
    "user2 = User(\"마바사\", \"mabada@codeit.xyz\", \"abcdef\")\n",
    "user3 = User(\"\", \"\", \"\")\n",
    "\n",
    "print(User.count)"
   ]
  },
  {
   "cell_type": "markdown",
   "metadata": {},
   "source": [
    "#### 2-2. 클래스 메소드 (classmethod)\n",
    "- 클래스 메소드는 클래스 자체를 인자로 받으며, 클래스 변수에 접근하거나 조작할 수 있습니다.\n",
    "- `@classmethod` 데코레이터를 사용하여 정의합니다.\n",
    "\n",
    "**classmethod 사용하는 이유**\n",
    "1. 클래스 자체에 접근해야 할 때\n",
    "   - 클래스 메소드는 클래스 자체를 인자로 받기 때문에, 클래스 수준에서 작업을 수행해야 할 때 유용\n",
    "   - 예를 들어, 클래스 변수를 읽거나 수정할 때 클래스 메소드를 사용\n",
    "   - 클래스 메소드는 인스턴스가 아닌 클래스 자체에 영향을 주는 작업을 할 때 사용됩니다.\n",
    "2. 인스턴스가 없어도 호출할 수 있어야 할 때\n",
    "   - 클래스 메소드는 클래스 자체와 관련된 로직을 구현할 때, 인스턴스를 생성하지 않고도 호출할 수 있다\n",
    "   - 특히 객체를 생성하기 전에 어떤 작업을 수행해야 할 때 유용합니다. \n",
    "   - 예를 들어, 객체를 생성하기 전에 클래스에서 어떤 초기화 작업을 해야 하는 경우, 클래스 메소드를 사용하여 이 작업을 처리할 수 있습니다."
   ]
  },
  {
   "cell_type": "code",
   "execution_count": null,
   "metadata": {},
   "outputs": [],
   "source": [
    "class User:\n",
    "    \n",
    "    count = 0\n",
    "    def __init__(self, name, email, password):\n",
    "        self.name = name\n",
    "        self.email = email\n",
    "        self.password = password\n",
    "        User.count += 1\n",
    "\n",
    "    def say_hello(self):\n",
    "        # 인사 메시지 출력 메소드\n",
    "        print(f\"안녕하세요! 저는 {self.name}입니다!\")\n",
    "\n",
    "    ## 인사 반복\n",
    "    def say_hello2(self, repeat):\n",
    "        # 인사 메시지 출력 메소드\n",
    "        print(f\"안녕하세요! 저는 {self.name}입니다!\" * repeat) \n",
    "        \n",
    "    def check_check(self):\n",
    "        print(self.__dict__)\n",
    "        \n",
    "    @classmethod\n",
    "    def print_number_of_users(cls):\n",
    "        print(f'총 유저 수는: {cls.count}입니다')\n",
    "        \n",
    "user1 = User(\"Young\", \"young@codeit.xzy\", \"123456\")    \n",
    "user2 = User(\"Yoonsoo\", \"yoonsoo@codeit.xyz\", \"abcdef\")\n",
    "user3 = User(\"\", \"\", \"\")\n",
    "\n",
    "User.print_number_of_users()"
   ]
  },
  {
   "cell_type": "markdown",
   "metadata": {},
   "source": [
    "#### 2-3. 정적 메소드 (staticmethod)\n",
    "- 정적 메소드는 인스턴스와, 클래스 관련 내용/인자 공유가 필요하지 않은 메소드.\n",
    "- 굳이 클래스 안에 들어오지 않고, 외부에서 별도의 함수로 구현되어도 기능적으로는 문제 없습니다.\n",
    "- 인스턴스나 클래스가 필요하지는 않지만, 직접적인 연관이 있어서 묶어서 클래스 안에 묶어서 제공하는 게 좋을 거 같을 때 사용.\n",
    "- `@staticmethod` 데코레이터를 사용하여 정의"
   ]
  },
  {
   "cell_type": "code",
   "execution_count": null,
   "metadata": {},
   "outputs": [],
   "source": [
    "class User:\n",
    "    \n",
    "    count = 0\n",
    "    def __init__(self, name, email, password):\n",
    "        self.name = name\n",
    "        self.email = email\n",
    "        self.password = password\n",
    "        User.count += 1\n",
    "\n",
    "    def say_hello(self):\n",
    "        # 인사 메시지 출력 메소드\n",
    "        print(f\"안녕하세요! 저는 {self.name}입니다!\")\n",
    "\n",
    "    ## 인사 반복\n",
    "    def say_hello2(self, repeat):\n",
    "        # 인사 메시지 출력 메소드\n",
    "        print(f\"안녕하세요! 저는 {self.name}입니다!\" * repeat) \n",
    "        \n",
    "    def check_check(self):\n",
    "        print(self.__dict__)\n",
    "        \n",
    "    @classmethod\n",
    "    def print_number_of_users(cls):\n",
    "        print(f'총 유저 수는: {cls.count}입니다')\n",
    "        print(cls.__dict__)\n",
    "        \n",
    "    @staticmethod\n",
    "    def welcome_msg():\n",
    "        print(\"User 클래스에 오신 것을 환영합니다.\")"
   ]
  },
  {
   "cell_type": "markdown",
   "metadata": {},
   "source": [
    "#### 2-4. 매직 메소드"
   ]
  },
  {
   "cell_type": "code",
   "execution_count": null,
   "metadata": {},
   "outputs": [],
   "source": [
    "\"\"\"\n",
    "__str__\n",
    "\n",
    "- 객체를 사람이 읽기 좋은 문자열로 변환할 때 호출\n",
    "- 객체를 str로 감싸면 자동으로 호출\n",
    "\"\"\"\n",
    "class User:\n",
    "    \n",
    "    count = 0\n",
    "    def __init__(self, name, email, password):\n",
    "        self.name = name\n",
    "        self.email = email\n",
    "        self.password = password\n",
    "        User.count += 1\n",
    "\n",
    "    def say_hello(self):\n",
    "        # 인사 메시지 출력 메소드\n",
    "        print(f\"안녕하세요! 저는 {self.name}입니다!\")\n",
    "        \n",
    "    def __str__(self):\n",
    "        return f\"이름 : {self.name}, 메일 : {self.email}, 비번 : {self.password}\"\n",
    "        \n",
    "user1 = User(\"HS\", \"hs@codeit.xzy\", \"123456\")\n",
    "\n",
    "str(user1), print(user1)"
   ]
  },
  {
   "cell_type": "code",
   "execution_count": 1,
   "metadata": {},
   "outputs": [
    {
     "name": "stdout",
     "output_type": "stream",
     "text": [
      "6\n"
     ]
    }
   ],
   "source": [
    "\"\"\"\n",
    "__add__\n",
    "\n",
    "- 기본연산자로 인스턴스들끼리 연산이 가능하도록 기능 정의를 해준다.\n",
    "\"\"\"\n",
    "## 숫자 + 숫자\n",
    "a = 1\n",
    "b = 5\n",
    "\n",
    "c = a+b\n",
    "\n",
    "print(c)"
   ]
  },
  {
   "cell_type": "code",
   "execution_count": 7,
   "metadata": {},
   "outputs": [
    {
     "name": "stdout",
     "output_type": "stream",
     "text": [
      "<class '__main__.Count'>\n"
     ]
    },
    {
     "data": {
      "text/plain": [
       "11"
      ]
     },
     "execution_count": 7,
     "metadata": {},
     "output_type": "execute_result"
    }
   ],
   "source": [
    "class Count:\n",
    "    \n",
    "    def __init__(self, number):\n",
    "        self.number = number\n",
    "        \n",
    "    def __add__(self, others):\n",
    "        return self.number + others.number\n",
    "\n",
    "## 객체 + 객체\n",
    "\n",
    "a = Count(1)\n",
    "b = Count(10)\n",
    "print(type(a))\n",
    "a+b"
   ]
  },
  {
   "cell_type": "code",
   "execution_count": 8,
   "metadata": {},
   "outputs": [
    {
     "data": {
      "text/plain": [
       "\"{'name': 'HS', 'email': 'hs@codeit.xzy', 'password': '123456'} is called\""
      ]
     },
     "execution_count": 8,
     "metadata": {},
     "output_type": "execute_result"
    }
   ],
   "source": [
    "\"\"\"\n",
    "__call__\n",
    "\n",
    "- 객체를 함수처럼 호출할 수 있게 합니다. 객체가 호출될 때 이 메소드가 실행됩니다.\n",
    "\"\"\"\n",
    "\n",
    "class User:\n",
    "    \n",
    "    count = 0\n",
    "    def __init__(self, name, email, password):\n",
    "        self.name = name\n",
    "        self.email = email\n",
    "        self.password = password\n",
    "        User.count += 1\n",
    "\n",
    "    def say_hello(self):\n",
    "        # 인사 메시지 출력 메소드\n",
    "        print(f\"안녕하세요! 저는 {self.name}입니다!\")\n",
    "        \n",
    "    def __str__(self):\n",
    "        return f\"이름 : {self.name}, 메일 : {self.email}, 비번 : {self.password}\"\n",
    "\n",
    "    def __call__(self):\n",
    "        return f\"{self.__dict__} is called\"\n",
    "\n",
    "user1 = User(\"HS\", \"hs@codeit.xzy\", \"123456\")\n",
    "\n",
    "user1()"
   ]
  },
  {
   "cell_type": "markdown",
   "metadata": {},
   "source": [
    "## 3. 실전 문제"
   ]
  },
  {
   "cell_type": "markdown",
   "metadata": {},
   "source": [
    "- [#맞팔해요](https://www.codeit.kr/topics/objects-and-classes/lessons/1950)\n",
    "- [메뉴만들기](https://www.codeit.kr/topics/objects-and-classes/lessons/1970) -> `__str__` 실습\n",
    "- [블로그 유저 만들기](https://www.codeit.kr/topics/objects-and-classes/lessons/1977)"
   ]
  },
  {
   "cell_type": "code",
   "execution_count": null,
   "metadata": {},
   "outputs": [],
   "source": []
  },
  {
   "cell_type": "code",
   "execution_count": null,
   "metadata": {},
   "outputs": [],
   "source": []
  }
 ],
 "metadata": {
  "kernelspec": {
   "display_name": "Pyspark",
   "language": "python",
   "name": "python3"
  },
  "language_info": {
   "codemirror_mode": {
    "name": "ipython",
    "version": 3
   },
   "file_extension": ".py",
   "mimetype": "text/x-python",
   "name": "python",
   "nbconvert_exporter": "python",
   "pygments_lexer": "ipython3",
   "version": "3.10.4"
  }
 },
 "nbformat": 4,
 "nbformat_minor": 2
}

{
 "cells": [
  {
   "cell_type": "markdown",
   "metadata": {},
   "source": [
    "### 1. 프린트와 주석, 변수\n",
    "\n",
    "- 코멘트 : 파이썬에서는 # (샾) 뒤에 오는 것을 코멘트 (주석) 라고 함.\n",
    "- 코멘트는 실행했을 때 없는 줄 취급\n",
    "- 코멘트를 사용하는 목적\n",
    "  1) 복잡한 코드 설명\n",
    "  2) 하다가 만 부분 표시\n",
    "  3) 다른 개발자들과 소통\n",
    "- 변수\n",
    "  - '변할 수 있는 것', 어떤 것을 담는 '상자!'\n",
    "  - 파이썬은 변수의 타입을 따로 명시해주지 않더라고, 변수 선언시 자동으로 타입이 정해진다.\n",
    "  - JAVA\n",
    "    ```java\n",
    "    String s = \"hello\"\n",
    "    int i = 123\n",
    "    double d = 10.04\n",
    "    ```\n",
    "  - Python\n",
    "    ```python\n",
    "    s = \"hello\"\n",
    "    i = 123\n",
    "    d = 10.04\n",
    "    ```"
   ]
  },
  {
   "cell_type": "code",
   "execution_count": null,
   "metadata": {},
   "outputs": [],
   "source": [
    "# 한 줄 코멘트!!\n",
    "\n",
    "\"\"\"\n",
    "여러\n",
    "줄\n",
    "코멘트\n",
    "\"\"\""
   ]
  },
  {
   "cell_type": "code",
   "execution_count": null,
   "metadata": {},
   "outputs": [],
   "source": [
    "# 코멘트\n",
    "print(\"Hello World\") # 이것도 코멘트"
   ]
  },
  {
   "cell_type": "markdown",
   "metadata": {},
   "source": [
    "### 2-1. 자료형_1\n",
    "- 컴퓨터는 사용자가 입력하는 값이 숫자인가 문자열인가 실수인가 등에 따라 값을 저장하는 방식이나 계산하는 방법이 다르기 때문에 입력되는 값의 타입을 알아야 한다.\n",
    "\n",
    "- 파이썬의 자료형\n",
    "  - NoneType\n",
    "  - str : 문자\n",
    "  - int : 정수\n",
    "  - bool : 논리(참/거짓)\n",
    "  - float : 실수\n",
    "  - complex : 복소수\n",
    "  - tuple : 튜플\n",
    "  - list : 리스트\n",
    "  - dict : 딕셔너리\n",
    "  - function : 함수형"
   ]
  },
  {
   "cell_type": "code",
   "execution_count": 2,
   "metadata": {},
   "outputs": [
    {
     "name": "stdout",
     "output_type": "stream",
     "text": [
      "안녕하세요!\n"
     ]
    },
    {
     "data": {
      "text/plain": [
       "NoneType"
      ]
     },
     "execution_count": 2,
     "metadata": {},
     "output_type": "execute_result"
    }
   ],
   "source": [
    "## NoneType : 변수가 비어있음\n",
    "type(print(\"안녕하세요!\"))"
   ]
  },
  {
   "cell_type": "code",
   "execution_count": 5,
   "metadata": {},
   "outputs": [
    {
     "name": "stdout",
     "output_type": "stream",
     "text": [
      "Hello\n",
      "HelloWorld\n",
      "1\n"
     ]
    },
    {
     "data": {
      "text/plain": [
       "str"
      ]
     },
     "execution_count": 5,
     "metadata": {},
     "output_type": "execute_result"
    }
   ],
   "source": [
    "## str : 문자형\n",
    "a = \"hello\"\n",
    "type(a)\n",
    "\n",
    "print(\"Hello\")\n",
    "print(\"Hello\" + \"World\")\n",
    "\n",
    "print(\"1\")"
   ]
  },
  {
   "cell_type": "code",
   "execution_count": null,
   "metadata": {},
   "outputs": [],
   "source": [
    "## int : 정수형\n",
    "\n",
    "print(1)\n",
    "print(2 + 5)"
   ]
  },
  {
   "cell_type": "code",
   "execution_count": 8,
   "metadata": {},
   "outputs": [
    {
     "name": "stdout",
     "output_type": "stream",
     "text": [
      "True\n"
     ]
    },
    {
     "data": {
      "text/plain": [
       "(bool, bool)"
      ]
     },
     "execution_count": 8,
     "metadata": {},
     "output_type": "execute_result"
    }
   ],
   "source": [
    "## boolean : 논리형\n",
    "\n",
    "print(7 > 3)\n",
    "\n",
    "a = 7>3\n",
    "b = False\n",
    "type(a), type(b)"
   ]
  },
  {
   "cell_type": "code",
   "execution_count": null,
   "metadata": {},
   "outputs": [],
   "source": [
    "print(2 > 1)\n",
    "print(2 < 1)\n",
    "print(3 >= 2)\n",
    "print(3 <= 3)\n",
    "print(2 == 2)\n",
    "print(2 != 2)\n",
    "\n",
    "print(\"Hello\" == \"Hello\")\n",
    "print(\"Hello\" != \"Hello\")"
   ]
  },
  {
   "cell_type": "code",
   "execution_count": 11,
   "metadata": {},
   "outputs": [
    {
     "data": {
      "text/plain": [
       "float"
      ]
     },
     "execution_count": 11,
     "metadata": {},
     "output_type": "execute_result"
    }
   ],
   "source": [
    "## float\n",
    "\n",
    "a = 1.11\n",
    "b = 3\n",
    "type(a+b)"
   ]
  },
  {
   "cell_type": "markdown",
   "metadata": {},
   "source": [
    "### 2-2. 자료형_2\n",
    "- **리스트 (List)**: 순서가 있는 요소들의 집합으로, 변경 가능한 자료형\n",
    "- **튜플 (Tuple)**: 순서가 있는 요소들의 집합으로, 요소를 변경할 수 없는 불변의 자료형\n",
    "- **딕셔너리 (Dict)**: 고유한 키와 그에 대응하는 값의 쌍으로 이루어진 데이터 모음으로, 키를 통해 값에 접근할 수 있는 변경 가능한 자료형\n",
    "- **세트 (Set)**: 순서가 없고 중복되지 않는 요소들의 집합으로, 집합 연산에 유용한 변경 가능한 자료형\n",
    "\n",
    "| 특성            | 리스트 (List)                  | 튜플 (Tuple)                  | 딕셔너리 (Dictionary)           | 세트 (Set)                      |\n",
    "|-----------------|--------------------------------|--------------------------------|----------------------------------|---------------------------------|\n",
    "| **용도**        | 순서가 있는 데이터의 모음      | 변경되지 않는 데이터의 모음    | 키-값 쌍으로 이루어진 데이터 모음 | 고유한 데이터의 집합              |\n",
    "| **변경 가능성** | 변경 가능 (Mutable)            | 변경 불가능 (Immutable)       | 변경 가능 (Mutable)             | 변경 가능 (Mutable)             |\n",
    "| **정의 기호**   | 대괄호 `[]`                    | 소괄호 `()`                    | 중괄호 `{}`                     | 중괄호 `{}`                     |\n",
    "| **순서 보장**   | O                      | O                      | O       | X                       |\n",
    "| **중복 허용**   | 중복 허용                      | 중복 허용                      | 키는 중복 불가</br>값은 중복 허용  | 중복 불가                       |\n"
   ]
  },
  {
   "cell_type": "code",
   "execution_count": 15,
   "metadata": {},
   "outputs": [
    {
     "data": {
      "text/plain": [
       "set"
      ]
     },
     "execution_count": 15,
     "metadata": {},
     "output_type": "execute_result"
    }
   ],
   "source": [
    "a_list = [1,2,3]\n",
    "a_tup = (1,2,3)\n",
    "a_dict = {'key_a' : 1, 'key_b' : 2}\n",
    "a_set = {1,2,3}"
   ]
  },
  {
   "cell_type": "markdown",
   "metadata": {},
   "source": [
    "### 3-1. 기본 연산자 (+, -, *, %, //, **, /)\n",
    "[파이썬 연산자](http://bigdata.dongguk.ac.kr/lectures/Python/_book/%ED%8C%8C%EC%9D%B4%EC%8D%AC%EC%9D%98-%EA%B8%B0%EC%B4%88.html#%EC%97%B0%EC%82%B0%EC%9E%90-operator)"
   ]
  },
  {
   "cell_type": "markdown",
   "metadata": {},
   "source": [
    "int + int -> int"
   ]
  },
  {
   "cell_type": "code",
   "execution_count": 19,
   "metadata": {},
   "outputs": [
    {
     "name": "stdout",
     "output_type": "stream",
     "text": [
      "11\n",
      "-2\n",
      "15\n",
      "3.3333333333333335\n",
      "1\n",
      "3\n",
      "8\n"
     ]
    }
   ],
   "source": [
    "# 덧셈\n",
    "print(4 + 7)\n",
    "\n",
    "# 뺄셈\n",
    "print(2 - 4)\n",
    "\n",
    "# 곱셈\n",
    "print(5 * 3)\n",
    "\n",
    "# 나눗셈\n",
    "print(10 / 3)\n",
    "\n",
    "# 나머지\n",
    "print(10 % 3)\n",
    "\n",
    "# 몫\n",
    "print(10 // 3)\n",
    "\n",
    "# 거듭제곱\n",
    "print(2 ** 3)"
   ]
  },
  {
   "cell_type": "markdown",
   "metadata": {},
   "source": [
    "float + float -> float"
   ]
  },
  {
   "cell_type": "code",
   "execution_count": null,
   "metadata": {},
   "outputs": [],
   "source": [
    "# 덧셈\n",
    "print(4.0 + 7.0)\n",
    "\n",
    "# 뺄셈\n",
    "print(2.0 - 4.0)\n",
    "\n",
    "# 곱셈\n",
    "print(5.0 * 3.0)\n",
    "\n",
    "# 나머지\n",
    "print(7.0 % 3.0)\n",
    "\n",
    "# 거듭제곱\n",
    "print(2.0 ** 3.0)"
   ]
  },
  {
   "cell_type": "markdown",
   "metadata": {},
   "source": [
    "int + float -> float"
   ]
  },
  {
   "cell_type": "code",
   "execution_count": null,
   "metadata": {},
   "outputs": [],
   "source": [
    "# 덧셈\n",
    "print(4 + 7.0)\n",
    "\n",
    "# 뺄셈\n",
    "print(2.0 - 4)\n",
    "\n",
    "# 곱셈\n",
    "print(5.0 * 3)\n",
    "\n",
    "# 나머지\n",
    "print(7 % 3.0)\n",
    "\n",
    "# 거듭제곱\n",
    "print(2.0 ** 3)"
   ]
  },
  {
   "cell_type": "markdown",
   "metadata": {},
   "source": [
    "나눗셈은 예외 - 나눗셈은 항상 소수형으로 나온다!"
   ]
  },
  {
   "cell_type": "code",
   "execution_count": null,
   "metadata": {},
   "outputs": [],
   "source": [
    "print(7 / 2)\n",
    "print(6 / 2)\n",
    "print(7.0 / 2)\n",
    "print(6.0 / 2.0)"
   ]
  },
  {
   "cell_type": "markdown",
   "metadata": {},
   "source": [
    "str + int -> str"
   ]
  },
  {
   "cell_type": "code",
   "execution_count": 23,
   "metadata": {},
   "outputs": [
    {
     "name": "stdout",
     "output_type": "stream",
     "text": [
      "codeitcodeitcodeit\n",
      "codeit Sprint\n"
     ]
    }
   ],
   "source": [
    "print(\"codeit\" * 3)\n",
    "print(\"codeit\" + \" \" + \"Sprint\")"
   ]
  },
  {
   "cell_type": "markdown",
   "metadata": {},
   "source": [
    "### 3-2. 복합 대입 연산자\n",
    "- 자료형에 적용하는 기본 연산자와 = 연산자를 함께 사용\n",
    "- +=: 더한 후 할당\n",
    "- -=: 뺀 후 할당\n",
    "- *=: 곱한 후 할당\n",
    "- /=: 나눈 후 할당 (실수 나눗셈)\n",
    "- //=: 나눈 후 할당 (정수 나눗셈)\n",
    "- %=: 나머지를 구한 후 할당\n",
    "- **=: 제곱한 후 할당"
   ]
  },
  {
   "cell_type": "code",
   "execution_count": 71,
   "metadata": {},
   "outputs": [
    {
     "name": "stdout",
     "output_type": "stream",
     "text": [
      "110\n",
      "100\n",
      "200\n",
      "50.0\n",
      "2500.0\n"
     ]
    }
   ],
   "source": [
    "i = 100\n",
    "\n",
    "i += 10\n",
    "print(i)\n",
    "i -= 10\n",
    "print(i)\n",
    "i *= 2\n",
    "print(i)\n",
    "i /= 4\n",
    "print(i)\n",
    "i **= 2\n",
    "print(i)"
   ]
  },
  {
   "cell_type": "markdown",
   "metadata": {},
   "source": [
    "### 3-3. 비교 연산자\n",
    "- \\> : 크다\n",
    "- \\>= : 크거나 같다\n",
    "- < : 작다\n",
    "- <= : 작거나 같다\n",
    "- == : 같다\n",
    "- != : 같지 않다"
   ]
  },
  {
   "cell_type": "code",
   "execution_count": 77,
   "metadata": {},
   "outputs": [
    {
     "data": {
      "text/plain": [
       "False"
      ]
     },
     "execution_count": 77,
     "metadata": {},
     "output_type": "execute_result"
    }
   ],
   "source": [
    "1 == '1'"
   ]
  },
  {
   "cell_type": "markdown",
   "metadata": {},
   "source": [
    "### 4. 형 변환 (Type Conversion, Type Cast)\n",
    "- 값을 한 자료형에서 다른 자료형으로 바꾸는 것\n",
    "- str <-> int\n",
    "- int <-> float\n",
    "- list <-> tuple\n",
    "- list <-> set"
   ]
  },
  {
   "cell_type": "code",
   "execution_count": 25,
   "metadata": {},
   "outputs": [
    {
     "name": "stdout",
     "output_type": "stream",
     "text": [
      "7\n",
      "25\n"
     ]
    }
   ],
   "source": [
    "print(int(\"2\") + int(\"5\"))\n",
    "\n",
    "print(str(2) + str(5))"
   ]
  },
  {
   "cell_type": "code",
   "execution_count": 24,
   "metadata": {},
   "outputs": [
    {
     "name": "stdout",
     "output_type": "stream",
     "text": [
      "3\n",
      "3.0\n"
     ]
    }
   ],
   "source": [
    "print(int(3.8))\n",
    "\n",
    "print(float(3))"
   ]
  },
  {
   "cell_type": "code",
   "execution_count": 26,
   "metadata": {},
   "outputs": [
    {
     "name": "stdout",
     "output_type": "stream",
     "text": [
      "{1, 2, 3}\n",
      "(1, 2, 3)\n"
     ]
    }
   ],
   "source": [
    "a = [1,2,3]\n",
    "\n",
    "print(set(a))\n",
    "print(tuple(a))"
   ]
  },
  {
   "cell_type": "markdown",
   "metadata": {},
   "source": [
    "### 5. 문자열 포매팅"
   ]
  },
  {
   "cell_type": "code",
   "execution_count": 9,
   "metadata": {},
   "outputs": [
    {
     "name": "stdout",
     "output_type": "stream",
     "text": [
      "제 이름은 최지웅이고 32살입니다.\n"
     ]
    }
   ],
   "source": [
    "## % 기호 - 오래된 방법으로 잘 쓰지 않음\n",
    "\n",
    "name = \"코드잇\"\n",
    "age = 30\n",
    "\n",
    "print(\"제 이름은 %s이고 %d살입니다.\" % (name, age))"
   ]
  },
  {
   "cell_type": "code",
   "execution_count": null,
   "metadata": {},
   "outputs": [],
   "source": [
    "## format() 메소드\n",
    "\n",
    "print(\"제 이름은 {}이고 {}살입니다.\".format(name, age))"
   ]
  },
  {
   "cell_type": "code",
   "execution_count": null,
   "metadata": {},
   "outputs": [],
   "source": [
    "## f-string\n",
    "\n",
    "print(f\"제 이름은 {name}이고 {age}살입니다.\")"
   ]
  },
  {
   "cell_type": "markdown",
   "metadata": {},
   "source": [
    "이스케이프 코드(Escape Code)\n",
    "- 프로그래밍할 때 사용할 수 있도록 미리 정의해 둔 문자 조합\n",
    "  \n",
    "    | 코드  | 설명                                                                 |\n",
    "    |-------|----------------------------------------------------------------------|\n",
    "    | `\\n`  | 문자열 안에서 줄을 바꿀 때 사용                                       |\n",
    "    | `\\t`  | 문자열 사이에 탭 간격을 줄 때 사용                                    |\n",
    "    | `\\b`  | 백 스페이스                                                           |\n",
    "    | `\\\\`  | `\\`를 그대로 표현할 때 사용                                           |\n",
    "    | `\\'`  | 작은따옴표(`'`)를 그대로 표현할 때 사용                                |\n",
    "    | `\\\"`  | 큰따옴표(`\"`)를 그대로 표현할 때 사용                                  |"
   ]
  },
  {
   "cell_type": "code",
   "execution_count": 35,
   "metadata": {},
   "outputs": [
    {
     "name": "stdout",
     "output_type": "stream",
     "text": [
      "hello\n",
      "codeit\n",
      "hello\tcodeit\n",
      "hellcodeit\n",
      "hello\\codeit\n",
      "hello'codeit\n",
      "hello\"codeit\n"
     ]
    }
   ],
   "source": [
    "print(\"hello\\ncodeit\")\n",
    "print(\"hello\\tcodeit\")\n",
    "print(\"hello\\bcodeit\")\n",
    "print(\"hello\\\\codeit\")\n",
    "print(\"hello\\'codeit\")\n",
    "print(\"hello\\\"codeit\")"
   ]
  },
  {
   "cell_type": "markdown",
   "metadata": {},
   "source": [
    "문자열 작성 주의사항\n",
    "- 작은 따옴표로 시작하면 작은 따옴표로 끝나야 하고. 큰 따옴표로 시작하면 큰 따옴표로 끝나야 함.\n",
    "- 백슬래시(\\\\) 사용을 통한 예외처리"
   ]
  },
  {
   "cell_type": "code",
   "execution_count": 27,
   "metadata": {},
   "outputs": [
    {
     "name": "stdout",
     "output_type": "stream",
     "text": [
      "hello codeit\n",
      "I\"m excited to learn Python!\n",
      "I'm excited to learn Python!\n"
     ]
    }
   ],
   "source": [
    "## error\n",
    "print(\"hello codeit')\n",
    "print('I'm excited to learn Python!')\n",
    "      \n",
    "## correct\n",
    "print(\"hello codeit\")\n",
    "print(\"I'm excited to learn Python!\")\n",
    "print(\"I\\\"m excited to learn Python!\")"
   ]
  },
  {
   "cell_type": "markdown",
   "metadata": {},
   "source": [
    "### 6. 인덱싱과 슬라이싱"
   ]
  },
  {
   "cell_type": "markdown",
   "metadata": {},
   "source": [
    "1. 인덱싱 (indexing)\n",
    "   - 순서를 이용하여 특정 요소에 접근하는 방법\n",
    "   - 0부터 시작"
   ]
  },
  {
   "cell_type": "code",
   "execution_count": 42,
   "metadata": {},
   "outputs": [],
   "source": [
    "a = \"코드잇\"\n",
    "numbers = [2, 3, 5, 7, 11, 13]\n",
    "names = [\"윤수\", \"헤린\", \"태호\", \"영훈\"]"
   ]
  },
  {
   "cell_type": "code",
   "execution_count": 37,
   "metadata": {},
   "outputs": [
    {
     "name": "stdout",
     "output_type": "stream",
     "text": [
      "코\n",
      "2\n",
      "윤수\n"
     ]
    }
   ],
   "source": [
    "print(a[0])\n",
    "print(numbers[0])\n",
    "print(names[0])"
   ]
  },
  {
   "cell_type": "code",
   "execution_count": 38,
   "metadata": {},
   "outputs": [
    {
     "name": "stdout",
     "output_type": "stream",
     "text": [
      "10\n",
      "10\n"
     ]
    }
   ],
   "source": [
    "print(numbers[1] + numbers[3])\n",
    "\n",
    "num_1 = numbers[1]\n",
    "num_3 = numbers[3]\n",
    "print(num_1 + num_3)"
   ]
  },
  {
   "cell_type": "code",
   "execution_count": 39,
   "metadata": {},
   "outputs": [
    {
     "data": {
      "text/plain": [
       "(3, 6, 4)"
      ]
     },
     "execution_count": 39,
     "metadata": {},
     "output_type": "execute_result"
    }
   ],
   "source": [
    "len(a), len(numbers), len(names)"
   ]
  },
  {
   "cell_type": "code",
   "execution_count": null,
   "metadata": {},
   "outputs": [],
   "source": [
    "print(numbers[-1])\n",
    "print(numbers[-2])\n",
    "print(numbers[-6])"
   ]
  },
  {
   "cell_type": "code",
   "execution_count": 45,
   "metadata": {},
   "outputs": [
    {
     "data": {
      "text/plain": [
       "[2, '10', 5, 7, 11, 13]"
      ]
     },
     "execution_count": 45,
     "metadata": {},
     "output_type": "execute_result"
    }
   ],
   "source": [
    "## 인덱스 바꾸기\n",
    "\n",
    "numbers[1] = \"10\"\n",
    "\n",
    "numbers"
   ]
  },
  {
   "cell_type": "markdown",
   "metadata": {},
   "source": [
    "2. 슬라이싱 (slicing)\n",
    "   - 특정 범위의 요소들을 선택하여 골라내는 방법\n",
    "   - 인덱스 활용"
   ]
  },
  {
   "cell_type": "code",
   "execution_count": 41,
   "metadata": {},
   "outputs": [
    {
     "data": {
      "text/plain": [
       "[1, 2, 3, 4, 5, 6, 7, 8]"
      ]
     },
     "execution_count": 41,
     "metadata": {},
     "output_type": "execute_result"
    }
   ],
   "source": [
    "numbers = [1,2,3,4,5,6,7,8,9,10]\n",
    "\n",
    "numbers[0:4] # 인덱스 0부터 인덱스 3까지 출력\n",
    "numbers[2:] # 인덱스 2부터 시작해서 끝까지\n",
    "numbers[:3] # 맨 앞에서 인덱스 2까지\n",
    "numbers[:-2] # 맨 뒤에서 요소 2개 빼기\n"
   ]
  },
  {
   "cell_type": "markdown",
   "metadata": {},
   "source": [
    "### 7. 리스트 다루기\n",
    "- append() : 리스트 끝에 요소 추가\n",
    "- insert() : 특정 인덱스 위치에 요소 추가\n",
    "- index() : 특정 값이 첫 번째로 나타나는 위치(인덱스)를 반환\n",
    "- count() : 리스트 내에서 특정 값이 몇 번 나타나는지 세어 반환\n",
    "- clear() : 리스트의 모든 요소 제거\n",
    "- sort() : 요소들을 오름차순 정렬\n",
    "- reverse() : 리스트 요소 순서를 반대로 뒤집기\n",
    "- pop() : 특정 인덱스의 요소를 제거하고, 그 요소를 반환합니다. 위치를 지정하지 않으면 마지막 요소를 제거하고 반환\n",
    "- remove() : 특정 값을 제거 (중복값이 있을 경우 인덱스가 작은 요소를 제거)"
   ]
  },
  {
   "cell_type": "code",
   "execution_count": 52,
   "metadata": {},
   "outputs": [
    {
     "name": "stdout",
     "output_type": "stream",
     "text": [
      "[1, 2, 3, 4, 5, 6, 7, 8, 9, 10, 5]\n",
      "[1, 2, 3, 20, 4, 5, 6, 7, 8, 9, 10, 5]\n",
      "INDEX :  4\n",
      "COUNT :  2\n",
      "[1, 2, 3, 4, 5, 5, 6, 7, 8, 9, 10, 20]\n",
      "[20, 10, 9, 8, 7, 6, 5, 5, 4, 3, 2, 1]\n",
      "[1, 2, 3, 4, 5, 5, 6, 7, 8, 9, 10, 20]\n"
     ]
    }
   ],
   "source": [
    "list_ = [1,2,3,4,5,6,7,8,9,10]\n",
    "\n",
    "list_.append(5)\n",
    "print(list_)\n",
    "list_.insert(3, 20)\n",
    "print(list_)\n",
    "print(\"INDEX : \", list_.index(4))\n",
    "print(\"COUNT : \", list_.count(5))\n",
    "list_.sort()\n",
    "print(list_)\n",
    "list_.sort(reverse=True)\n",
    "print(list_)"
   ]
  },
  {
   "cell_type": "code",
   "execution_count": 62,
   "metadata": {},
   "outputs": [
    {
     "name": "stdout",
     "output_type": "stream",
     "text": [
      "[0, 9, 1, 2, 6, 4, 3]\n"
     ]
    }
   ],
   "source": [
    "aa = [3,4,6,2,1,9,0]\n",
    "aa.reverse()\n",
    "print(aa)"
   ]
  },
  {
   "cell_type": "code",
   "execution_count": 63,
   "metadata": {},
   "outputs": [
    {
     "name": "stdout",
     "output_type": "stream",
     "text": [
      "9\n",
      "[0, 1, 2, 6, 4, 3]\n"
     ]
    }
   ],
   "source": [
    "poped = aa.pop(1)\n",
    "\n",
    "print(poped)\n",
    "print(aa)"
   ]
  },
  {
   "cell_type": "code",
   "execution_count": 64,
   "metadata": {},
   "outputs": [
    {
     "name": "stdout",
     "output_type": "stream",
     "text": [
      "[0, 1, 2, 6, 4, 3, '가나다']\n",
      "[0, 1, 2, 6, 4, 3]\n"
     ]
    }
   ],
   "source": [
    "aa.append(\"가나다\")\n",
    "print(aa)\n",
    "\n",
    "aa.remove(\"가나다\")\n",
    "print(aa)"
   ]
  },
  {
   "cell_type": "markdown",
   "metadata": {},
   "source": [
    "### 8. for 문\n",
    "- 주어진 시퀀스(리스트, 튜플, 문자열 등)의 각 요소를 순차적으로 반복하면서 블록 내의 코드를 실행하는 반복문\n",
    "    ```python\n",
    "    for 변수 in [리스트]:\n",
    "        [내용]\n",
    "    ```"
   ]
  },
  {
   "cell_type": "code",
   "execution_count": 72,
   "metadata": {},
   "outputs": [
    {
     "name": "stdout",
     "output_type": "stream",
     "text": [
      "0\n",
      "2\n",
      "4\n",
      "6\n",
      "8\n"
     ]
    }
   ],
   "source": [
    "## range() 함수 -> range(시작 int, 끝 int, 간격)\n",
    "\n",
    "for i in range(0, 10, 2):\n",
    "    print(i)"
   ]
  },
  {
   "cell_type": "code",
   "execution_count": 74,
   "metadata": {},
   "outputs": [
    {
     "name": "stdout",
     "output_type": "stream",
     "text": [
      "55\n"
     ]
    }
   ],
   "source": [
    "## 1 ~ 10 까지 더하기\n",
    "sum = 0\n",
    "\n",
    "for i in range(11):\n",
    "    sum += i\n",
    "    \n",
    "print(sum)"
   ]
  },
  {
   "cell_type": "code",
   "execution_count": 75,
   "metadata": {},
   "outputs": [
    {
     "name": "stdout",
     "output_type": "stream",
     "text": [
      "[10, 11, 12, 13, 14, 15, 16, 17, 18, 19]\n"
     ]
    }
   ],
   "source": [
    "## 리스트에 추가\n",
    "\n",
    "my_list = []\n",
    "\n",
    "for i in range(10,20):\n",
    "    my_list.append(i)\n",
    "    \n",
    "print(my_list)"
   ]
  },
  {
   "cell_type": "markdown",
   "metadata": {},
   "source": [
    "### 9. if 문\n",
    "- 주어진 조건이 참(True)일 때만 블록 내의 코드를 실행하는 조건문\n",
    "- if-else\n",
    "    ```python\n",
    "    if [조건]:\n",
    "        조건이 참일 경우\n",
    "    else:\n",
    "        조건이 거짓일 경우\n",
    "    ```\n",
    "\n",
    "- if-elif-else\n",
    "    ```python\n",
    "    if [조건1]:\n",
    "        조건1이 참일 경우\n",
    "    elif [조건2]:\n",
    "        조건2가 참일 경우\n",
    "    else:\n",
    "        조건들이 거짓일 경우\n",
    "    ```"
   ]
  },
  {
   "cell_type": "code",
   "execution_count": 78,
   "metadata": {},
   "outputs": [
    {
     "name": "stdout",
     "output_type": "stream",
     "text": [
      "참\n"
     ]
    }
   ],
   "source": [
    "if 3>1:\n",
    "    print(\"참\")\n",
    "else:\n",
    "    print(\"거짓\")"
   ]
  },
  {
   "cell_type": "code",
   "execution_count": 79,
   "metadata": {},
   "outputs": [
    {
     "name": "stdout",
     "output_type": "stream",
     "text": [
      "[2, 4, 6, 8, 10, 12, 14, 16, 18, 20]\n",
      "[1, 3, 5, 7, 9, 11, 13, 15, 17, 19]\n"
     ]
    }
   ],
   "source": [
    "## 홀짝 나눠서 추출하기\n",
    "even = []\n",
    "odd = []\n",
    "\n",
    "for i in range(1, 21):\n",
    "    if i % 2 == 0:\n",
    "        even.append(i)\n",
    "    else:\n",
    "        odd.append(i)\n",
    "        \n",
    "print(even)\n",
    "print(odd)"
   ]
  },
  {
   "cell_type": "code",
   "execution_count": 76,
   "metadata": {},
   "outputs": [
    {
     "name": "stdout",
     "output_type": "stream",
     "text": [
      "Your grade is: D\n",
      "Your grade is: F\n",
      "Your grade is: C\n",
      "Your grade is: B\n",
      "Your grade is: A\n",
      "Your grade is: C\n"
     ]
    }
   ],
   "source": [
    "## 학점 부여 프로그램\n",
    "\n",
    "scores = [65, 55, 70, 82, 96, 78]\n",
    "\n",
    "for score in scores:\n",
    "    if score >= 90:\n",
    "        grade = \"A\"\n",
    "    elif score >= 80:\n",
    "        grade = \"B\"\n",
    "    elif score >= 70:\n",
    "        grade = \"C\"\n",
    "    elif score >= 60:\n",
    "        grade = \"D\"\n",
    "    else:\n",
    "        grade = \"F\"\n",
    "\n",
    "    print(f\"Your grade is: {grade}\")\n"
   ]
  },
  {
   "cell_type": "markdown",
   "metadata": {},
   "source": [
    "### 10. while 문\n",
    "- 주어진 조건이 참(True)인 동안 블록 내의 코드를 계속해서 반복 실행하는 반복문\n",
    "- continue : 현재 반복을 중단하고 다음 반복을 시작\n",
    "- pass : 실행할 내용이 없는 것으로, 바로 다음 스텝으로 진행됨\n",
    "- break : 반복문을 즉시 종료\n",
    "\n",
    "```python\n",
    "while [조건]:\n",
    "    조건이 참일 때 수행할 내용\n",
    "    (중간에 loop를 빠져나올 수 있도록 조건이 들어가야 함)\n",
    "```"
   ]
  },
  {
   "cell_type": "code",
   "execution_count": 83,
   "metadata": {},
   "outputs": [
    {
     "name": "stdout",
     "output_type": "stream",
     "text": [
      "6\n"
     ]
    }
   ],
   "source": [
    "## 3까지 숫자 더하기\n",
    "\n",
    "i = 1\n",
    "number = 0\n",
    "\n",
    "while i <= 3:\n",
    "    number += i\n",
    "    i += 1\n",
    "\n",
    "print(number)"
   ]
  },
  {
   "cell_type": "code",
   "execution_count": 5,
   "metadata": {},
   "outputs": [
    {
     "name": "stdout",
     "output_type": "stream",
     "text": [
      "1\n",
      "3\n",
      "5\n",
      "7\n",
      "9\n",
      "11\n"
     ]
    }
   ],
   "source": [
    "## continue -> 짝수인 숫자 pass\n",
    "\n",
    "i = 0\n",
    "while i <= 10:\n",
    "    i += 1\n",
    "    if i % 2 == 0:\n",
    "        continue\n",
    "    print(i)"
   ]
  },
  {
   "cell_type": "code",
   "execution_count": 8,
   "metadata": {},
   "outputs": [
    {
     "name": "stdout",
     "output_type": "stream",
     "text": [
      "1\n",
      "3\n",
      "5\n",
      "7\n",
      "9\n"
     ]
    }
   ],
   "source": [
    "## pass\n",
    "\n",
    "i = 0\n",
    "while i <= 10:\n",
    "    if i % 2 == 0:\n",
    "        pass\n",
    "    else:\n",
    "        print(i)\n",
    "    i += 1"
   ]
  },
  {
   "cell_type": "code",
   "execution_count": 10,
   "metadata": {},
   "outputs": [
    {
     "name": "stdout",
     "output_type": "stream",
     "text": [
      "1\n",
      "3\n",
      "5\n",
      "7\n",
      "9\n",
      "11\n",
      "13\n",
      "15\n",
      "17\n",
      "19\n"
     ]
    }
   ],
   "source": [
    "## break -> 15를 넘어가면 루프 중지!\n",
    "\n",
    "i = 0\n",
    "while i <= 20:\n",
    "    if i > 15:\n",
    "        break\n",
    "    if i % 2 == 0:\n",
    "        pass\n",
    "    else:\n",
    "        print(i)\n",
    "    i += 1"
   ]
  },
  {
   "cell_type": "markdown",
   "metadata": {},
   "source": [
    "### 11. 예외처리\n",
    "- `try` : 예외가 발생할 수 있는 코드를 실행\n",
    "- `except` : `try` 블록에서 예외가 발생했을 때 실행(예외가 발생하지 않으면 이 블록은 건너뛴다.)\n",
    "- `finally` : 예외 발생 여부와 상관없이 항상 실행.(꼭 수행해야 하는 마무리 작업에 사용)\n",
    "- 일반적으로 `try-except` 조합이 많이 사용됨.\n",
    "```python\n",
    "try:\n",
    "    [수행 내용]\n",
    "except:\n",
    "    [try에서 에러 발생시 수행 내용]\n",
    "finally:\n",
    "    [정상, 에러 관계없이 반드시 수행되어야 할 내용]\n",
    "```"
   ]
  },
  {
   "cell_type": "code",
   "execution_count": 13,
   "metadata": {},
   "outputs": [
    {
     "name": "stdout",
     "output_type": "stream",
     "text": [
      "정상진행\n",
      "마무리!\n"
     ]
    }
   ],
   "source": [
    "try:\n",
    "    print(\"정상진행\")\n",
    "except:\n",
    "    print(\"에러 발생!!\")\n",
    "finally:\n",
    "    print(\"마무리!\")"
   ]
  },
  {
   "cell_type": "code",
   "execution_count": 15,
   "metadata": {},
   "outputs": [
    {
     "ename": "ValueError",
     "evalue": "invalid literal for int() with base 10: 'abcd'",
     "output_type": "error",
     "traceback": [
      "\u001b[0;31m---------------------------------------------------------------------------\u001b[0m",
      "\u001b[0;31mValueError\u001b[0m                                Traceback (most recent call last)",
      "Cell \u001b[0;32mIn[15], line 1\u001b[0m\n\u001b[0;32m----> 1\u001b[0m \u001b[38;5;28;43mint\u001b[39;49m\u001b[43m(\u001b[49m\u001b[38;5;124;43m\"\u001b[39;49m\u001b[38;5;124;43mabcd\u001b[39;49m\u001b[38;5;124;43m\"\u001b[39;49m\u001b[43m)\u001b[49m\n",
      "\u001b[0;31mValueError\u001b[0m: invalid literal for int() with base 10: 'abcd'"
     ]
    }
   ],
   "source": [
    "int(\"abcd\")"
   ]
  },
  {
   "cell_type": "code",
   "execution_count": 16,
   "metadata": {},
   "outputs": [
    {
     "name": "stdout",
     "output_type": "stream",
     "text": [
      "에러 발생!!\n",
      "마무리!\n"
     ]
    }
   ],
   "source": [
    "try:\n",
    "    int(\"abcd\")\n",
    "except:\n",
    "    print(\"에러 발생!!\")\n",
    "finally:\n",
    "    print(\"마무리!\")"
   ]
  },
  {
   "cell_type": "markdown",
   "metadata": {},
   "source": [
    "### 12. 함수\n",
    "\n",
    "<img src=\"https://velog.velcdn.com/images/newnew_daddy/post/ac4c055b-0ea6-4c29-b872-40ff1ad82d7f/image.png\" width=80%>\n",
    "\n",
    "- 특정 작업을 수행하는 코드의 묶음으로, 필요할 때마다 호출하여 재사용할 수 있다.\n",
    "- 입력값을 받아서 처리하고 그 결과를 반환(return) 한다.\n",
    "\n",
    "#### 함수의 특징\n",
    "- 코드의 재사용 : 동일한 코드에 대해 반복 작업할 필요 없이, 함수만 호출하면 됨\n",
    "- 가독성 향상 : 코드가 논리적인 단위로 분리되므로, 전체 프로그램의 가독성과 유지보수성이 향상\n",
    "- 모듈화 : 기능들이 함수 단위로 나눠지므로 복잡한 코드를 모듈화 가능\n",
    "\n",
    "#### 함수의 구조\n",
    "```python\n",
    "def 함수이름(변수1, 변수2, ...):\n",
    "\n",
    "    [실행 내용]\n",
    "\n",
    "    return 반환값\n",
    "\n",
    "```\n"
   ]
  },
  {
   "cell_type": "code",
   "execution_count": 17,
   "metadata": {},
   "outputs": [
    {
     "data": {
      "text/plain": [
       "20"
      ]
     },
     "execution_count": 17,
     "metadata": {},
     "output_type": "execute_result"
    }
   ],
   "source": [
    "## 숫자를 넣으면 2배로 돌려주는 함수\n",
    "\n",
    "def return_double(number):\n",
    "    \n",
    "    return number * 2\n",
    "\n",
    "return_double(10)"
   ]
  },
  {
   "cell_type": "code",
   "execution_count": 18,
   "metadata": {},
   "outputs": [
    {
     "data": {
      "text/plain": [
       "'안녀하세요!!!'"
      ]
     },
     "execution_count": 18,
     "metadata": {},
     "output_type": "execute_result"
    }
   ],
   "source": [
    "## 문자를 넣으면 뒤에 '!!!'를 붙여주는 함수\n",
    "\n",
    "def return_str(string):\n",
    "    \n",
    "    return string + \"!!!\"\n",
    "\n",
    "return_str(\"안녕하세요\")"
   ]
  },
  {
   "cell_type": "code",
   "execution_count": 22,
   "metadata": {},
   "outputs": [
    {
     "name": "stdout",
     "output_type": "stream",
     "text": [
      "Your grade is: D\n",
      "Your grade is: F\n",
      "Your grade is: C\n",
      "Your grade is: B\n",
      "Your grade is: A\n",
      "Your grade is: C\n"
     ]
    }
   ],
   "source": [
    "## 학점 부여 프로그램을 함수화!\n",
    "\n",
    "scores = [65, 55, 70, 82, 96, 78]\n",
    "\n",
    "for score in scores:\n",
    "    if score >= 90:\n",
    "        grade = \"A\"\n",
    "    elif score >= 80:\n",
    "        grade = \"B\"\n",
    "    elif score >= 70:\n",
    "        grade = \"C\"\n",
    "    elif score >= 60:\n",
    "        grade = \"D\"\n",
    "    else:\n",
    "        grade = \"F\"\n",
    "\n",
    "    print(f\"Your grade is: {grade}\")\n"
   ]
  },
  {
   "cell_type": "code",
   "execution_count": 23,
   "metadata": {},
   "outputs": [
    {
     "name": "stdout",
     "output_type": "stream",
     "text": [
      "Your grade is: D\n",
      "Your grade is: F\n",
      "Your grade is: C\n",
      "Your grade is: B\n",
      "Your grade is: A\n",
      "Your grade is: C\n"
     ]
    }
   ],
   "source": [
    "def credit(score):\n",
    "\n",
    "    if score >= 90:\n",
    "        grade = \"A\"\n",
    "    elif score >= 80:\n",
    "        grade = \"B\"\n",
    "    elif score >= 70:\n",
    "        grade = \"C\"\n",
    "    elif score >= 60:\n",
    "        grade = \"D\"\n",
    "    else:\n",
    "        grade = \"F\"\n",
    "\n",
    "    print(f\"Your grade is: {grade}\")\n",
    "    \n",
    "for sc in scores:\n",
    "    credit(sc)"
   ]
  },
  {
   "cell_type": "markdown",
   "metadata": {},
   "source": [
    "#### 12-1. return과 print의 차이\n",
    "- print : 어떤 것도 return 하지 않고 함수 내에서 실행된 내용을 단순히 출력만 한다.\n",
    "- return : 함수 내에서 실행된 내용을 함수 밖으로 내보낸다. 따라서 함수 실행 결과를 변수로 받거나 이후에 활용할 수 있다."
   ]
  },
  {
   "cell_type": "code",
   "execution_count": 24,
   "metadata": {},
   "outputs": [],
   "source": [
    "def func1(var1):\n",
    "    print(var1 + 10)\n",
    "    \n",
    "def func2(var1):\n",
    "    return var1 + 10"
   ]
  },
  {
   "cell_type": "code",
   "execution_count": 31,
   "metadata": {},
   "outputs": [
    {
     "name": "stdout",
     "output_type": "stream",
     "text": [
      "20\n",
      "<class 'NoneType'>\n",
      "20\n"
     ]
    },
    {
     "ename": "TypeError",
     "evalue": "unsupported operand type(s) for +: 'NoneType' and 'int'",
     "output_type": "error",
     "traceback": [
      "\u001b[0;31m---------------------------------------------------------------------------\u001b[0m",
      "\u001b[0;31mTypeError\u001b[0m                                 Traceback (most recent call last)",
      "Cell \u001b[0;32mIn[31], line 4\u001b[0m\n\u001b[1;32m      1\u001b[0m \u001b[38;5;28mprint\u001b[39m(\u001b[38;5;28mtype\u001b[39m(func1(\u001b[38;5;241m10\u001b[39m)))\n\u001b[1;32m      3\u001b[0m a \u001b[38;5;241m=\u001b[39m func1(\u001b[38;5;241m10\u001b[39m)\n\u001b[0;32m----> 4\u001b[0m \u001b[43ma\u001b[49m\u001b[38;5;241;43m+\u001b[39;49m\u001b[38;5;241;43m10\u001b[39;49m\n",
      "\u001b[0;31mTypeError\u001b[0m: unsupported operand type(s) for +: 'NoneType' and 'int'"
     ]
    }
   ],
   "source": [
    "print(type(func1(10)))\n",
    "\n",
    "a = func1(10)\n",
    "a+10"
   ]
  },
  {
   "cell_type": "code",
   "execution_count": 32,
   "metadata": {},
   "outputs": [
    {
     "name": "stdout",
     "output_type": "stream",
     "text": [
      "<class 'int'>\n"
     ]
    },
    {
     "data": {
      "text/plain": [
       "30"
      ]
     },
     "execution_count": 32,
     "metadata": {},
     "output_type": "execute_result"
    }
   ],
   "source": [
    "print(type(func2(10)))\n",
    "\n",
    "b = func2(10)\n",
    "b+10"
   ]
  },
  {
   "cell_type": "markdown",
   "metadata": {},
   "source": [
    "#### 12-2. 변수의 고정값\n",
    "- 함수에 들어가는 변수에 대해 Default 값을 줄 수 있다."
   ]
  },
  {
   "cell_type": "code",
   "execution_count": 36,
   "metadata": {},
   "outputs": [
    {
     "data": {
      "text/plain": [
       "240"
      ]
     },
     "execution_count": 36,
     "metadata": {},
     "output_type": "execute_result"
    }
   ],
   "source": [
    "def func1(a=10, b=20):\n",
    "    return a*b\n",
    "\n",
    "func1()\n",
    "\n",
    "func1(15)\n",
    "\n",
    "func1(b=24)"
   ]
  },
  {
   "cell_type": "markdown",
   "metadata": {},
   "source": [
    "### 13. 퀴즈"
   ]
  },
  {
   "cell_type": "markdown",
   "metadata": {},
   "source": [
    "#### 13-1. [짝수? 홀수?](https://www.codeit.kr/topics/core-concept-of-python-programming/lessons/2773)"
   ]
  },
  {
   "cell_type": "code",
   "execution_count": null,
   "metadata": {},
   "outputs": [],
   "source": [
    "def is_evenly_divisible(number):\n",
    "    return number % 2 == 0\n",
    "\n",
    "print(is_evenly_divisible(3))\n",
    "print(is_evenly_divisible(7))\n",
    "print(is_evenly_divisible(8))\n",
    "print(is_evenly_divisible(218))\n",
    "print(is_evenly_divisible(317))"
   ]
  },
  {
   "cell_type": "markdown",
   "metadata": {},
   "source": [
    "#### 13-2. [거스름돈 계산기](https://www.codeit.kr/topics/core-concept-of-python-programming/lessons/2774)"
   ]
  },
  {
   "cell_type": "code",
   "execution_count": null,
   "metadata": {},
   "outputs": [],
   "source": [
    "def calculate_change(payment, cost):\n",
    "    change = payment - cost\n",
    "    c1 = change // 50000\n",
    "    c2 = (change - 50000 * c1) // 10000\n",
    "    c3 = (change - 50000 * c1 - 10000 * c2) // 5000\n",
    "    c4 = (change - 50000 * c1 - 10000 * c2 - 5000 * c3) // 1000\n",
    "\n",
    "    string = \"{}원 지폐: {}장\"\n",
    "    print(string.format(50000, c1))\n",
    "    print(string.format(10000, c2))\n",
    "    print(string.format(5000, c3))\n",
    "    print(string.format(1000, c4))\n",
    "\n",
    "calculate_change(100000, 33000)\n",
    "print()\n",
    "calculate_change(500000, 378000)"
   ]
  },
  {
   "cell_type": "markdown",
   "metadata": {},
   "source": [
    "#### 13-3. [이상한 수학 문제1](https://www.codeit.kr/topics/core-concept-of-python-programming/lessons/2783)"
   ]
  },
  {
   "cell_type": "code",
   "execution_count": null,
   "metadata": {},
   "outputs": [],
   "source": [
    "i = 1\n",
    "\n",
    "while i <= 100:\n",
    "  if (i % 8 == 0) & (i % 12 != 0):\n",
    "    print(i)\n",
    "  i += 1"
   ]
  },
  {
   "cell_type": "markdown",
   "metadata": {},
   "source": [
    "#### 13-4. [구구단 만들기](https://www.codeit.kr/topics/core-concept-of-python-programming/lessons/2788)"
   ]
  },
  {
   "cell_type": "code",
   "execution_count": null,
   "metadata": {},
   "outputs": [],
   "source": [
    "i = 1\n",
    "\n",
    "while i <= 9:\n",
    "  j = 1\n",
    "  while j <= 9:\n",
    "    print(\"{} * {} = {}\".format(i, j, i * j))\n",
    "    j += 1\n",
    "  i += 1"
   ]
  },
  {
   "cell_type": "markdown",
   "metadata": {},
   "source": [
    "#### 13-5. [피보나치 수열](https://www.codeit.kr/topics/core-concept-of-python-programming/lessons/2787)"
   ]
  },
  {
   "cell_type": "code",
   "execution_count": null,
   "metadata": {},
   "outputs": [],
   "source": [
    "p = 0\n",
    "c = 1\n",
    "i = 1\n",
    "\n",
    "while i <= 50:\n",
    "  print(c)\n",
    "  p, c = c, p+c\n",
    "  i += 1"
   ]
  }
 ],
 "metadata": {
  "kernelspec": {
   "display_name": "Python 3",
   "language": "python",
   "name": "python3"
  },
  "language_info": {
   "codemirror_mode": {
    "name": "ipython",
    "version": 3
   },
   "file_extension": ".py",
   "mimetype": "text/x-python",
   "name": "python",
   "nbconvert_exporter": "python",
   "pygments_lexer": "ipython3",
   "version": "3.12.4"
  }
 },
 "nbformat": 4,
 "nbformat_minor": 2
}

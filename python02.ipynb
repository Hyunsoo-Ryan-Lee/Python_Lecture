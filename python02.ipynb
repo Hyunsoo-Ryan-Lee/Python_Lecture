{
 "cells": [
  {
   "cell_type": "markdown",
   "metadata": {},
   "source": [
    "## 1. 파이썬 라이브러리에 대하여\n",
    "\n",
    "### 1-1. 라이브러리란?\n",
    "- 특정 기능이나 도구를 수행하는 함수와 클래스의 집합\n",
    "- 프로그래머가 자주 사용되는 기능을 일일이 작성하지 않고, 이미 만들어진 기능을 불러와 사용할 수 있도록 함\n",
    "\n",
    "### 1-2. 모듈, 패키지, 라이브러리, 프레임워크의 차이점\n",
    "- **모듈**: 파이썬 파일 하나가 하나의 모듈입니다. 모듈은 함수, 클래스, 변수 등을 포함할 수 있습니다.\n",
    "- **패키지**: 여러 모듈을 디렉토리 구조로 묶어 관리하는 단위입니다. 파이썬에서는 디렉토리에 `__init__.py` 파일이 포함되면 이를 패키지로 인식합니다.\n",
    "- **라이브러리**: 특정 기능을 제공하며, 필요에 따라 사용자가 선택적으로 호출하여 사용합니다. 라이브러리는 프레임워크와 달리 개발자가 코드 흐름을 완전히 제어할 수 있습니다.\n",
    "- **프레임워크**: 애플리케이션 개발의 기본 구조를 제공하며, 전체적인 흐름을 제어합니다. 프레임워크를 사용할 때는 프레임워크가 제시하는 규칙을 따라야 합니다. 대표적인 예로 Django와 Flask가 있습니다.\n",
    "\n",
    "![](https://velog.velcdn.com/images/newnew_daddy/post/fe71951f-e8e6-4a53-9de2-c4a565bc257e/image.png)\n",
    "\n"
   ]
  },
  {
   "cell_type": "markdown",
   "metadata": {},
   "source": [
    "#### 1-3. 라이브러리 불러와 사용하기\n",
    "\n",
    "- [파이썬 표준 라이브러리](https://docs.python.org/ko/3/library/index.html)\n",
    "  - 파이썬 설치 시 기본적으로 함께 설치되는 라이브러리로 추가 설치 없이 바로 사용이 가능\n",
    "  - 파이썬 공식 문서에서 표준 라이브러리 목록과 사용법을 확인"
   ]
  },
  {
   "cell_type": "code",
   "execution_count": 1,
   "metadata": {},
   "outputs": [],
   "source": [
    "## 라이브러리 import 방법\n",
    "\n",
    "import math\n",
    "from math import sqrt\n",
    "from math import *\n",
    "import math as mt"
   ]
  },
  {
   "cell_type": "code",
   "execution_count": 4,
   "metadata": {},
   "outputs": [
    {
     "data": {
      "text/plain": [
       "(2, 3)"
      ]
     },
     "execution_count": 4,
     "metadata": {},
     "output_type": "execute_result"
    }
   ],
   "source": [
    "## 1) 라이브러리 전체 import\n",
    "\n",
    "a = 1.1231\n",
    "b = 3.654\n",
    "\n",
    "math.ceil(a), math.floor(b)"
   ]
  },
  {
   "cell_type": "code",
   "execution_count": 7,
   "metadata": {},
   "outputs": [
    {
     "data": {
      "text/plain": [
       "(2.0, 2)"
      ]
     },
     "execution_count": 7,
     "metadata": {},
     "output_type": "execute_result"
    }
   ],
   "source": [
    "## 2) 라이브러리 중 특정 함수들만 import\n",
    "\n",
    "from math import sqrt\n",
    "from math import *\n",
    "\n",
    "c = 4\n",
    "sqrt(c), ceil(a)"
   ]
  },
  {
   "cell_type": "code",
   "execution_count": 9,
   "metadata": {},
   "outputs": [
    {
     "data": {
      "text/plain": [
       "(2, 3)"
      ]
     },
     "execution_count": 9,
     "metadata": {},
     "output_type": "execute_result"
    }
   ],
   "source": [
    "## 3) 별칭을 주어 import\n",
    "\n",
    "import math as mt\n",
    "\n",
    "mt.ceil(a), mt.floor(b)"
   ]
  },
  {
   "cell_type": "code",
   "execution_count": 12,
   "metadata": {},
   "outputs": [
    {
     "name": "stdout",
     "output_type": "stream",
     "text": [
      "7\n",
      "0.983146570170526\n"
     ]
    }
   ],
   "source": [
    "## 4) 여러개의 라이브러리를 import\n",
    "\n",
    "import math\n",
    "import random # 랜덤한 숫자를 생성하기 위한 다양한 함수들을 제공\n",
    "import datetime # '날짜'와 '시간'을 다루기 위한 다양한 함수들을 제공\n",
    "\n",
    "# randint -> randint(a, b)를 하면, a ≤ N ≤ b를 만족하는 어떤 랜덤한 정수 N을 리턴\n",
    "print(random.randint(1, 20))\n",
    "\n",
    "# uniform -> 두 수 사이의 랜덤한 소수를 리턴\n",
    "print(random.uniform(0, 1))"
   ]
  },
  {
   "cell_type": "code",
   "execution_count": 24,
   "metadata": {},
   "outputs": [
    {
     "name": "stdout",
     "output_type": "stream",
     "text": [
      "2020-03-14 00:00:00\n",
      "<class 'datetime.datetime'>\n",
      "2024-08-26 15:08:14.900322\n",
      "<class 'datetime.datetime'>\n",
      "1626 days, 15:08:14.900322\n",
      "<class 'datetime.timedelta'>\n"
     ]
    }
   ],
   "source": [
    "pi_day = datetime.datetime(2020, 3, 14)\n",
    "print(pi_day)\n",
    "print(type(pi_day))\n",
    "\n",
    "today = datetime.datetime.now()\n",
    "print(today)\n",
    "print(type(today))\n",
    "\n",
    "## 두 날짜 사이의 기간\n",
    "print(today - pi_day)\n",
    "print(type(today - pi_day))"
   ]
  },
  {
   "cell_type": "markdown",
   "metadata": {},
   "source": [
    "#### 1-4. 라이브러리 설치 및 사용\n",
    "- Python 라이브러리 저장소 -> [PyPi](https://pypi.org/)\n",
    "    ```python\n",
    "    pip install [라이브러리 이름]\n",
    "    ```"
   ]
  },
  {
   "cell_type": "code",
   "execution_count": null,
   "metadata": {},
   "outputs": [],
   "source": [
    "## icecream -> 변수나 표현식의 값을 간편하게 출력할 수 있게 해주는 라이브러리\n",
    "\n",
    "!pip install icecream"
   ]
  },
  {
   "cell_type": "code",
   "execution_count": null,
   "metadata": {},
   "outputs": [],
   "source": [
    "from icecream import ic\n",
    "\n",
    "ic(\"Hello, World!\")\n",
    "ic(2 + 2)"
   ]
  },
  {
   "cell_type": "code",
   "execution_count": null,
   "metadata": {},
   "outputs": [],
   "source": [
    "## easydict -> 딕셔너리를 점(.)으로 접근할 수 있게 해주는 라이브러리\n",
    "\n",
    "pip install easydict"
   ]
  },
  {
   "cell_type": "code",
   "execution_count": null,
   "metadata": {},
   "outputs": [],
   "source": [
    "sample = {'name': 'John', 'age': 25}\n",
    "\n",
    "## name\n",
    "sample['name']\n",
    "\n",
    "## age\n",
    "sample['age']"
   ]
  },
  {
   "cell_type": "code",
   "execution_count": null,
   "metadata": {},
   "outputs": [],
   "source": [
    "from easydict import EasyDict\n",
    "\n",
    "e_sample = EasyDict({'name': 'John', 'age': 25})\n",
    "\n",
    "## name\n",
    "e_sample.name\n",
    "\n",
    "## age\n",
    "e_sample.age"
   ]
  },
  {
   "cell_type": "markdown",
   "metadata": {},
   "source": [
    "#### 1-5. 기타 라이브러리들\n",
    "\n",
    "1. **Pandas** -> 데이터 조작과 분석을 위한 데이터 프레임 라이브러리\n",
    "2. **Matplotlib** -> 다양한 형태의 그래프와 플롯을 생성하는 시각화 라이브러리\n",
    "3. **Pillow** -> 이미지 처리 및 변환을 위한 라이브러리\n",
    "4. **scikit-learn** -> 머신러닝 모델링을 위한 알고리즘과 도구를 제공하는 라이브러리\n",
    "5. **TensorFlow** -> 대규모 연산을 지원하는 딥러닝 모델 구축 라이브러리\n",
    "6. **Pygame** -> 파이썬으로 2D 게임 개발이 가능하도록 해주는 라이브러리\n",
    "7. **Requests** -> 간단하게 HTTP 요청을 보낼 수 있는 웹 클라이언트 라이브러리\n",
    "8. **BeautifulSoup** -> HTML, XML 파싱 및 데이터 추출을 위한 라이브러리\n",
    "9. **Django** -> 신속한 웹 애플리케이션 개발을 위한 고수준 웹 프레임워크\n",
    "10. **PyTorch** -> 유연한 딥러닝 모델링을 지원하는 오픈 소스 라이브러리"
   ]
  },
  {
   "cell_type": "markdown",
   "metadata": {},
   "source": [
    "## 2. 다양한 기능 탐색\n",
    "\n",
    "#### 2-1. Input\n",
    "- 콘솔을 통해서 사용자로부터 정보를 받을 수 있도록 해주는 함수"
   ]
  },
  {
   "cell_type": "code",
   "execution_count": 25,
   "metadata": {},
   "outputs": [
    {
     "data": {
      "text/plain": [
       "'이현수'"
      ]
     },
     "execution_count": 25,
     "metadata": {},
     "output_type": "execute_result"
    }
   ],
   "source": [
    "input(\"이름을 입력하세요 : \")"
   ]
  },
  {
   "cell_type": "code",
   "execution_count": null,
   "metadata": {},
   "outputs": [],
   "source": [
    "## 변수에 저장\n",
    "\n",
    "name = input(\"이름을 입력하세요 : \")\n",
    "\n",
    "print(name)"
   ]
  },
  {
   "cell_type": "code",
   "execution_count": 27,
   "metadata": {},
   "outputs": [
    {
     "name": "stdout",
     "output_type": "stream",
     "text": [
      "12\n"
     ]
    }
   ],
   "source": [
    "## 숫자로 받기\n",
    "\n",
    "a = 2\n",
    "b = int(input(\"숫자를 입력하세요 : \"))\n",
    "\n",
    "double = a*b\n",
    "\n",
    "print(double)"
   ]
  },
  {
   "cell_type": "markdown",
   "metadata": {},
   "source": [
    "#### 2-2. 파일 읽고 쓰기\n",
    "\n",
    "```python\n",
    "with open(\"파일명\", \"옵션\") as f:\n",
    "    ...\n",
    "```\n",
    "- 옵션 종류(1)\n",
    "  - 'r' : read, 파일 읽기\n",
    "  - 'w' : write, 파일 쓰기 (기존 내용 삭제)\n",
    "  - 'a' : append, 파일에 내용 추가 (기존 내용 유지)\n",
    "  - 'x' : 파일이 없으면 파일을 생성하고 쓰기모드로 열립니다. 만약 파일이 있으면 에러를 발생시킵니다.\n",
    "\n",
    "- 옵션 종류(2)\n",
    "  - 't' : 텍스트 모드로 읽기 (Default)\n",
    "  - 'b' : 바이너리 모드로 읽기"
   ]
  },
  {
   "cell_type": "code",
   "execution_count": null,
   "metadata": {},
   "outputs": [],
   "source": [
    "## 파일 읽기\n",
    "\n",
    "with open('chicken.txt', 'r') as f:\n",
    "    for line in f:\n",
    "        print(line)"
   ]
  },
  {
   "cell_type": "code",
   "execution_count": 8,
   "metadata": {},
   "outputs": [],
   "source": [
    "## 파일 쓰기\n",
    "\n",
    "with open('sample.txt', 'w') as f:\n",
    "    f.write(\"안녕하세요!\")\n",
    "    f.write(\"반갑습니다.\")"
   ]
  },
  {
   "cell_type": "code",
   "execution_count": null,
   "metadata": {},
   "outputs": [],
   "source": [
    "## 내용 추가\n",
    "\n",
    "with open('sample.txt', 'a') as f:\n",
    "    f.write(\"코드잇 스프린트!\\n\")\n",
    "    f.write(\"화이팅!!\")"
   ]
  },
  {
   "cell_type": "markdown",
   "metadata": {},
   "source": [
    "#### 2-3. strip, split\n",
    "- strip : 어떤 문자열에서 앞뒤로 있는 화이트 스페이스를 없애주는 함수\n",
    "- split : 특정 파라미터를 기주능로 문자열을 나눠주는 함수"
   ]
  },
  {
   "cell_type": "code",
   "execution_count": 11,
   "metadata": {},
   "outputs": [
    {
     "name": "stdout",
     "output_type": "stream",
     "text": [
      "abc    def\n"
     ]
    }
   ],
   "source": [
    "word = \"        abc    def      \"\n",
    "\n",
    "word = word.strip()\n",
    "print(word)"
   ]
  },
  {
   "cell_type": "code",
   "execution_count": 12,
   "metadata": {},
   "outputs": [
    {
     "name": "stdout",
     "output_type": "stream",
     "text": [
      "abc   def\n"
     ]
    }
   ],
   "source": [
    "word2 = \"     \\t   \\n   abc   def\\n\\n\\n\"\n",
    "\n",
    "word2 = word2.strip()\n",
    "print(word2)"
   ]
  },
  {
   "cell_type": "code",
   "execution_count": 14,
   "metadata": {},
   "outputs": [
    {
     "data": {
      "text/plain": [
       "['hyunsoo', 'lee']"
      ]
     },
     "execution_count": 14,
     "metadata": {},
     "output_type": "execute_result"
    }
   ],
   "source": [
    "my_name = \"hyunsoo.lee\"\n",
    "\n",
    "my_name.split('.')"
   ]
  },
  {
   "cell_type": "markdown",
   "metadata": {},
   "source": [
    "## 3. 실습\n",
    "\n",
    "- [코딩에 빠진 닭](https://www.codeit.kr/topics/making-use-of-python/lessons/2825)\n",
    "- chicken.txt 파일 내용을 읽어서 평균 일매출을 구해봅시다!\n",
    "---\n",
    "- [단어장 만들기](https://www.codeit.kr/topics/making-use-of-python/lessons/2827)"
   ]
  },
  {
   "cell_type": "code",
   "execution_count": 19,
   "metadata": {},
   "outputs": [
    {
     "name": "stdout",
     "output_type": "stream",
     "text": [
      "501916.129\n"
     ]
    }
   ],
   "source": [
    "with open('chicken.txt', 'r') as f:\n",
    "    total_revenue = 0\n",
    "    total_days = 0\n",
    "    \n",
    "    for line in f:\n",
    "        data = line.strip().split(\": \")\n",
    "        revenue = int(data[1])  # 그날의 매출\n",
    "\n",
    "        total_revenue += revenue\n",
    "        total_days += 1\n",
    "\n",
    "    print(round(total_revenue / total_days, 3))"
   ]
  }
 ],
 "metadata": {
  "kernelspec": {
   "display_name": "Python 3",
   "language": "python",
   "name": "python3"
  },
  "language_info": {
   "codemirror_mode": {
    "name": "ipython",
    "version": 3
   },
   "file_extension": ".py",
   "mimetype": "text/x-python",
   "name": "python",
   "nbconvert_exporter": "python",
   "pygments_lexer": "ipython3",
   "version": "3.12.4"
  }
 },
 "nbformat": 4,
 "nbformat_minor": 2
}

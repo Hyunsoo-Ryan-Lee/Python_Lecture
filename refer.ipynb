{
  "cells": [
    {
      "cell_type": "markdown",
      "metadata": {
        "id": "kOQvUsQWXl3j"
      },
      "source": [
        "# 프로그래밍 시작하기 in Python"
      ]
    },
    {
      "cell_type": "markdown",
      "metadata": {
        "id": "bP9XgH8jZoRk"
      },
      "source": [
        "## 파이썬 첫 걸음"
      ]
    },
    {
      "cell_type": "markdown",
      "metadata": {
        "id": "dX3_AV0fZrZy"
      },
      "source": [
        "### 파이썬 프로그래밍 소개\n",
        "\n",
        "- 코드 : 컴퓨터에게 일을 시키는 것으로 인간이 컴퓨터와 소통하기 위해 사용하는 언어.\n",
        "- 코딩 : 컴퓨터를 이해시키기 위해 코드를 작성하는 행위\n",
        "- 코딩으로 가능한 작업 : 업무 자동화, 웹/앱 개발, 기계/로봇 개발, 데이터 수집/분석 등\n",
        "- 중요한 역량 : 문제 해결 역량"
      ]
    },
    {
      "cell_type": "markdown",
      "metadata": {
        "id": "X2xDIVgnaDk7"
      },
      "source": [
        "### 파이썬 프로그래밍 도구들\n",
        "\n",
        "- 파이썬 인터프리터 (Python Interpreter) : 컴퓨터는 파이썬 코드를 그냥 이해할 수 없기 때문에 컴퓨터가 이해할 수 있는 머신 코드로 바꿔주는 작업이 필요한데, 파이썬 코드를 머신 코드로 변역해주는 것이 파이썬 인터프리터."
      ]
    },
    {
      "cell_type": "markdown",
      "metadata": {
        "id": "jTOPuQ-hah4d"
      },
      "source": [
        "## 프로그래밍 기본 개념\n",
        "\n",
        "- 코멘트 : 파이썬에서는 # (샾) 뒤에 오는 것을 코멘트 (주석) 라고 함.\n",
        "- 코멘트는 실행했을 때 없는 줄 취급\n",
        "- 코멘트를 사용하는 목적 :\n",
        "1) 복잡한 코드 설명\n",
        "2) 하다가 만 부분 표시\n",
        "3) 다른 개발자들과 소통"
      ]
    },
    {
      "cell_type": "code",
      "execution_count": null,
      "metadata": {
        "colab": {
          "base_uri": "https://localhost:8080/"
        },
        "id": "BKMYsk81o_6L",
        "outputId": "835eb5c5-fd24-4454-e492-5e50f03bc36d"
      },
      "outputs": [
        {
          "name": "stdout",
          "output_type": "stream",
          "text": [
            "Hello World\n"
          ]
        }
      ],
      "source": [
        "# 코멘트\n",
        "print(\"Hello World\") # 이것도 코멘트"
      ]
    },
    {
      "cell_type": "markdown",
      "metadata": {
        "id": "I1N211SyavA_"
      },
      "source": [
        "### 자료형 개요\n",
        "\n",
        "- 컴퓨터 = 복잡한 계산기\n",
        "- 프로그래밍 : 계산할 수식들을 컴퓨터에게 알려주는 것\n",
        "- 자료형 (Data Type) : 숫자 (Number) - 정수 (Integer), 실수 (Floating Point)/ 문자열 (String)/ 불린 (Boolean)/ 리스트/ 딕셔너리/ 튜플"
      ]
    },
    {
      "cell_type": "code",
      "execution_count": null,
      "metadata": {
        "colab": {
          "base_uri": "https://localhost:8080/"
        },
        "id": "ZHDNDdzWpjEe",
        "outputId": "0a8419a1-05ff-4f8a-f8c7-53ced3b86d6d"
      },
      "outputs": [
        {
          "name": "stdout",
          "output_type": "stream",
          "text": [
            "HelloWorld\n"
          ]
        }
      ],
      "source": [
        "print(\"Hello\" + \"World\")"
      ]
    },
    {
      "cell_type": "code",
      "execution_count": null,
      "metadata": {
        "colab": {
          "base_uri": "https://localhost:8080/"
        },
        "id": "I1OOiEX0qD6I",
        "outputId": "58a898cf-bc8d-4568-d710-9ffb36299ce8"
      },
      "outputs": [
        {
          "name": "stdout",
          "output_type": "stream",
          "text": [
            "7\n"
          ]
        }
      ],
      "source": [
        "print(2 + 5)"
      ]
    },
    {
      "cell_type": "code",
      "execution_count": null,
      "metadata": {
        "colab": {
          "base_uri": "https://localhost:8080/"
        },
        "id": "-eSghOA2qKgH",
        "outputId": "a8ec4c61-a693-4d9f-c715-e97407e29566"
      },
      "outputs": [
        {
          "name": "stdout",
          "output_type": "stream",
          "text": [
            "25\n"
          ]
        }
      ],
      "source": [
        "print(\"2\" + \"5\")"
      ]
    },
    {
      "cell_type": "code",
      "execution_count": null,
      "metadata": {
        "colab": {
          "base_uri": "https://localhost:8080/"
        },
        "id": "aH_RlwLrqMBJ",
        "outputId": "e2ee77a9-7042-440c-8c51-4ad38d8ef410"
      },
      "outputs": [
        {
          "name": "stdout",
          "output_type": "stream",
          "text": [
            "True\n"
          ]
        }
      ],
      "source": [
        "print(7 > 3)"
      ]
    },
    {
      "cell_type": "code",
      "execution_count": null,
      "metadata": {
        "colab": {
          "base_uri": "https://localhost:8080/"
        },
        "id": "TD9IBrH9qS4-",
        "outputId": "dc351c62-c2c0-4b55-a1f8-7f1b6f52782e"
      },
      "outputs": [
        {
          "name": "stdout",
          "output_type": "stream",
          "text": [
            "False\n"
          ]
        }
      ],
      "source": [
        "print(3 > 7)"
      ]
    },
    {
      "cell_type": "markdown",
      "metadata": {
        "id": "7sYsJ1Rna8yD"
      },
      "source": [
        "### 추상화 개요\n",
        "-  추상화 (Abstraction) : 복잡한 내용은 숨기고, 주요 기능에만 집중\n",
        "- 변수 (Variable) : 값을 저장하는 것\n",
        "- 함수 (Function) : 명령을 저장하는 것\n",
        "- 객체 (Object) - 객체는 추후 객체와 클래스 토픽에서 자세하게 학습할 예정"
      ]
    },
    {
      "cell_type": "code",
      "execution_count": null,
      "metadata": {
        "colab": {
          "base_uri": "https://localhost:8080/"
        },
        "id": "dqPu6Ffkqh4c",
        "outputId": "809563c1-998d-47d3-fb84-1ba4dd66b828"
      },
      "outputs": [
        {
          "name": "stdout",
          "output_type": "stream",
          "text": [
            "571\n"
          ]
        }
      ],
      "source": [
        "x = 254\n",
        "y = 317\n",
        "\n",
        "print(x + y)"
      ]
    },
    {
      "cell_type": "markdown",
      "metadata": {
        "id": "ZxzDq9E0bI-T"
      },
      "source": [
        "아래 print() 함수가 내부적으로 어떻게 구현되어 있는지 모르므로 추상화"
      ]
    },
    {
      "cell_type": "code",
      "execution_count": null,
      "metadata": {
        "colab": {
          "base_uri": "https://localhost:8080/"
        },
        "id": "O-PNRkriq5v2",
        "outputId": "4cf6bda9-a48c-40aa-a8ad-ec609eb2b8f3"
      },
      "outputs": [
        {
          "name": "stdout",
          "output_type": "stream",
          "text": [
            "Hello World!\n"
          ]
        }
      ],
      "source": [
        "print(\"Hello World!\")"
      ]
    },
    {
      "cell_type": "markdown",
      "metadata": {
        "id": "-gEPwmA4bQ5Y"
      },
      "source": [
        "### 변수\n",
        "\n",
        "- 변수 : 데이터를 어떤 공간에 담아서 이름표를 붙여주는 것"
      ]
    },
    {
      "cell_type": "code",
      "execution_count": null,
      "metadata": {
        "colab": {
          "base_uri": "https://localhost:8080/"
        },
        "id": "PGsrEHmzrj7i",
        "outputId": "92c56425-dd38-4e12-a8f8-679eb36be52c"
      },
      "outputs": [
        {
          "name": "stdout",
          "output_type": "stream",
          "text": [
            "4990\n",
            "9980\n",
            "6480\n",
            "24200\n"
          ]
        }
      ],
      "source": [
        "print(4990)\n",
        "print(4990 * 2)\n",
        "print(4990 + 1490)\n",
        "print(4990 * 3 + 1490 * 2 + 1250 * 5)"
      ]
    },
    {
      "cell_type": "markdown",
      "metadata": {
        "id": "_E1JlvP1bYdi"
      },
      "source": [
        "- 아래 예시에서 버거의 가격이 바뀔 경우 한줄 한줄 일일이 바꿔야 하는데, 변수를 사용하면 가격을 외울 필요가 없고, 가격 변동이 있어도 변수 지정 파트만 수정하면 되며, 다른 사람이 이해하기 쉬움\n",
        "- 지정 연산자 : 등호 오른쪽의 값을 등호 왼쪽으로 넘겨주는 역할"
      ]
    },
    {
      "cell_type": "code",
      "execution_count": null,
      "metadata": {
        "colab": {
          "base_uri": "https://localhost:8080/"
        },
        "id": "E_mE7411r3rO",
        "outputId": "630a0ec9-310a-40a1-b82c-fe87efded5e8"
      },
      "outputs": [
        {
          "name": "stdout",
          "output_type": "stream",
          "text": [
            "4990\n",
            "9980\n",
            "6480\n",
            "24200\n"
          ]
        }
      ],
      "source": [
        "burger_price = 4990 # 4990을 burger_price에 저장한다\n",
        "fries_price = 1490\n",
        "drink_price = 1250\n",
        "\n",
        "print(burger_price)\n",
        "print(burger_price * 2)\n",
        "print(burger_price + fries_price)\n",
        "print(burger_price * 3 + fries_price * 2 + drink_price * 5)"
      ]
    },
    {
      "cell_type": "markdown",
      "metadata": {
        "id": "Fm9sCdueb8ON"
      },
      "source": [
        "### 퀴즈) 칼로리 계산기\n",
        "https://www.codeit.kr/topics/getting-started-with-python/lessons/2739"
      ]
    },
    {
      "cell_type": "code",
      "execution_count": null,
      "metadata": {
        "colab": {
          "base_uri": "https://localhost:8080/"
        },
        "id": "YgF3ewzbs9o0",
        "outputId": "9bd874bc-0045-4ccf-c782-d0aa2e965d98"
      },
      "outputs": [
        {
          "name": "stdout",
          "output_type": "stream",
          "text": [
            "1194\n",
            "1940\n",
            "929.9\n",
            "1880\n"
          ]
        }
      ],
      "source": [
        "kitkat = 190\n",
        "oreos = 502\n",
        "pringles = 292\n",
        "twix = 135.9\n",
        "cheetos = 485\n",
        "\n",
        "print(kitkat + oreos * 2)\n",
        "print(cheetos * 4)\n",
        "print(pringles + oreos + twix)\n",
        "print(pringles * 3 + oreos * 2)"
      ]
    },
    {
      "cell_type": "markdown",
      "metadata": {
        "id": "PgsyyZpirhIx"
      },
      "source": [
        "### 함수\n",
        "- 내장 함수 : 기본으로 저장되어있는 함수"
      ]
    },
    {
      "cell_type": "code",
      "execution_count": null,
      "metadata": {
        "colab": {
          "base_uri": "https://localhost:8080/"
        },
        "id": "gYOyPWK0tVzQ",
        "outputId": "40cf7da1-4fbf-46c3-d05b-a7c60c3b1ce8"
      },
      "outputs": [
        {
          "name": "stdout",
          "output_type": "stream",
          "text": [
            "4990\n"
          ]
        }
      ],
      "source": [
        "burger_price = 4990\n",
        "print(burger_price)"
      ]
    },
    {
      "cell_type": "code",
      "execution_count": null,
      "metadata": {
        "colab": {
          "base_uri": "https://localhost:8080/"
        },
        "id": "JhL8-acttZYl",
        "outputId": "e022d627-ad11-406a-c447-d0ae0beede77"
      },
      "outputs": [
        {
          "name": "stdout",
          "output_type": "stream",
          "text": [
            "Hello!\n",
            "Welcome to Codeit!\n",
            "Hello!\n",
            "Welcome to Codeit!\n",
            "Hello!\n",
            "Welcome to Codeit!\n"
          ]
        }
      ],
      "source": [
        "def hello(): # 함수의 헤더\n",
        "    print(\"Hello!\")\n",
        "    print(\"Welcome to Codeit!\")\n",
        "\n",
        "hello()\n",
        "hello()\n",
        "hello()"
      ]
    },
    {
      "cell_type": "markdown",
      "metadata": {
        "id": "rPCz3Ky1cHux"
      },
      "source": [
        "### 퀴즈) 카페 모카 레시피\n",
        "https://www.codeit.kr/topics/getting-started-with-python/lessons/2741"
      ]
    },
    {
      "cell_type": "code",
      "execution_count": null,
      "metadata": {
        "colab": {
          "base_uri": "https://localhost:8080/"
        },
        "id": "4z0Wp18YuQAI",
        "outputId": "3e492224-f38a-4c58-e759-4d05ffc51035"
      },
      "outputs": [
        {
          "name": "stdout",
          "output_type": "stream",
          "text": [
            "1. 준비된 컵에 초코 소스를 넣는다.\n",
            "2. 에스프레소를 추출하고 잔에 부어 준다.\n",
            "3. 초코 소스와 커피를 잘 섞어 준다.\n",
            "4. 거품기로 우유 거품을 내고, 잔에 부어 준다.\n",
            "5. 생크림을 얹어 준다.\n",
            "1. 준비된 컵에 초코 소스를 넣는다.\n",
            "2. 에스프레소를 추출하고 잔에 부어 준다.\n",
            "3. 초코 소스와 커피를 잘 섞어 준다.\n",
            "4. 거품기로 우유 거품을 내고, 잔에 부어 준다.\n",
            "5. 생크림을 얹어 준다.\n"
          ]
        }
      ],
      "source": [
        "def cafe_mocha_recipe():\n",
        "    print(\"1. 준비된 컵에 초코 소스를 넣는다.\")\n",
        "    print(\"2. 에스프레소를 추출하고 잔에 부어 준다.\")\n",
        "    print(\"3. 초코 소스와 커피를 잘 섞어 준다.\")\n",
        "    print(\"4. 거품기로 우유 거품을 내고, 잔에 부어 준다.\")\n",
        "    print(\"5. 생크림을 얹어 준다.\")\n",
        "\n",
        "cafe_mocha_recipe()\n",
        "cafe_mocha_recipe()"
      ]
    },
    {
      "cell_type": "markdown",
      "metadata": {
        "id": "_nQvFedncMfz"
      },
      "source": [
        "### 파라미터"
      ]
    },
    {
      "cell_type": "markdown",
      "metadata": {
        "id": "OTjghF4fcQn2"
      },
      "source": [
        "한 개의 파라미터"
      ]
    },
    {
      "cell_type": "code",
      "execution_count": null,
      "metadata": {
        "colab": {
          "base_uri": "https://localhost:8080/"
        },
        "id": "J-oOxc9yul3H",
        "outputId": "9ae9ed4e-6834-4d98-e5fc-65c3e92fe962"
      },
      "outputs": [
        {
          "name": "stdout",
          "output_type": "stream",
          "text": [
            "Hello!\n",
            "Michael\n",
            "Welcome to Codeit!\n"
          ]
        }
      ],
      "source": [
        "def hello(name): # name은 파라미터\n",
        "    print(\"Hello!\")\n",
        "    print(name)\n",
        "    print(\"Welcome to Codeit!\")\n",
        "\n",
        "hello(\"Michael\")"
      ]
    },
    {
      "cell_type": "markdown",
      "metadata": {
        "id": "U1ojqIBlcSzL"
      },
      "source": [
        "여러 개의 파라미터"
      ]
    },
    {
      "cell_type": "code",
      "execution_count": null,
      "metadata": {
        "colab": {
          "base_uri": "https://localhost:8080/"
        },
        "id": "Fv5E-WdOvF8O",
        "outputId": "4627bd7b-e502-474c-a15e-c00604d0d82c"
      },
      "outputs": [
        {
          "name": "stdout",
          "output_type": "stream",
          "text": [
            "10\n"
          ]
        }
      ],
      "source": [
        "def print_sum(a, b):\n",
        "    print(a + b)\n",
        "\n",
        "print_sum(7, 3)"
      ]
    },
    {
      "cell_type": "code",
      "execution_count": null,
      "metadata": {
        "colab": {
          "base_uri": "https://localhost:8080/"
        },
        "id": "NwaJVHcVvKbY",
        "outputId": "b1a57126-adaf-40c7-9674-c1ca424a51df"
      },
      "outputs": [
        {
          "name": "stdout",
          "output_type": "stream",
          "text": [
            "12\n"
          ]
        }
      ],
      "source": [
        "def print_sum(a, b, c):\n",
        "    print(a + b + c)\n",
        "\n",
        "print_sum(7, 3, 2)"
      ]
    },
    {
      "cell_type": "code",
      "execution_count": null,
      "metadata": {
        "colab": {
          "base_uri": "https://localhost:8080/"
        },
        "id": "OUyp9KGDv1ga",
        "outputId": "ba34a2ee-5976-4297-aa9e-5f5d27dcee2e"
      },
      "outputs": [
        {
          "name": "stdout",
          "output_type": "stream",
          "text": [
            "12\n"
          ]
        }
      ],
      "source": [
        "def print_sum(num_1, num_2, num_3):\n",
        "    print(num_1 + num_2 + num_3)\n",
        "\n",
        "print_sum(7, 3, 2)"
      ]
    },
    {
      "cell_type": "markdown",
      "metadata": {
        "id": "jWBh7XumcXSL"
      },
      "source": [
        "### 퀴즈) 세 수의 곱\n",
        "https://www.codeit.kr/topics/getting-started-with-python/lessons/2744"
      ]
    },
    {
      "cell_type": "code",
      "execution_count": null,
      "metadata": {
        "colab": {
          "base_uri": "https://localhost:8080/"
        },
        "id": "fYMj2r0Evx1e",
        "outputId": "118f96cb-b44a-448d-96f4-6cc70c10a8f3"
      },
      "outputs": [
        {
          "name": "stdout",
          "output_type": "stream",
          "text": [
            "105\n",
            "756\n",
            "-126\n"
          ]
        }
      ],
      "source": [
        "def multiply_three_numbers(x, y, z):\n",
        "    print(x * y * z)\n",
        "\n",
        "multiply_three_numbers(7, 3, 5)\n",
        "multiply_three_numbers(21, 4, 9)\n",
        "multiply_three_numbers(-7, 6, 3)"
      ]
    },
    {
      "cell_type": "markdown",
      "metadata": {
        "id": "0vkTyxwqcc71"
      },
      "source": [
        "### return문\n",
        "- 변수 : 값을 저장하는 것\n",
        "- 함수 : 명령을 저장하는 것\n",
        "- 파라미터 : 함수에 넘겨 주는 값\n",
        "- return : 돌려준다"
      ]
    },
    {
      "cell_type": "code",
      "execution_count": null,
      "metadata": {
        "colab": {
          "base_uri": "https://localhost:8080/"
        },
        "id": "wxfjgQXSwWuX",
        "outputId": "0afdcc06-7d78-4678-8f2b-4c29b8eb1e8c"
      },
      "outputs": [
        {
          "name": "stdout",
          "output_type": "stream",
          "text": [
            "9\n"
          ]
        }
      ],
      "source": [
        "def get_square(x):\n",
        "    return x * x\n",
        "\n",
        "print(get_square(3))"
      ]
    },
    {
      "cell_type": "code",
      "execution_count": null,
      "metadata": {
        "colab": {
          "base_uri": "https://localhost:8080/"
        },
        "id": "r3o9d4-GwrwW",
        "outputId": "be8b7347-f009-4ffd-b93c-3a59599aedb4"
      },
      "outputs": [
        {
          "name": "stdout",
          "output_type": "stream",
          "text": [
            "9\n"
          ]
        }
      ],
      "source": [
        "def get_square(x):\n",
        "    return x * x\n",
        "\n",
        "y = get_square(3)\n",
        "print(y)"
      ]
    },
    {
      "cell_type": "code",
      "execution_count": null,
      "metadata": {
        "colab": {
          "base_uri": "https://localhost:8080/"
        },
        "id": "d6WCn2OLw5An",
        "outputId": "58f5e384-c699-44ba-ab7c-9d2169427343"
      },
      "outputs": [
        {
          "name": "stdout",
          "output_type": "stream",
          "text": [
            "25\n"
          ]
        }
      ],
      "source": [
        "def get_square(x):\n",
        "    return x * x\n",
        "\n",
        "print(get_square(3) + get_square(4))"
      ]
    },
    {
      "cell_type": "markdown",
      "metadata": {
        "id": "LyrVFTndclyk"
      },
      "source": [
        "### 퀴즈) 프로그래밍 기초 퀴즈\n",
        "https://www.codeit.kr/topics/getting-started-with-python/lessons/2746"
      ]
    },
    {
      "cell_type": "code",
      "execution_count": null,
      "metadata": {
        "colab": {
          "base_uri": "https://localhost:8080/"
        },
        "id": "MVjLk15sxRNt",
        "outputId": "f77c5810-1068-413a-e2c1-33c4ea3b17ce"
      },
      "outputs": [
        {
          "name": "stdout",
          "output_type": "stream",
          "text": [
            "13\n"
          ]
        }
      ],
      "source": [
        "# Q1.\n",
        "a = 5\n",
        "b = 8\n",
        "c = \"5\"\n",
        "d = \"8\"\n",
        "\n",
        "print(a + b)"
      ]
    },
    {
      "cell_type": "code",
      "execution_count": null,
      "metadata": {
        "colab": {
          "base_uri": "https://localhost:8080/"
        },
        "id": "JHtG2kFdxWLt",
        "outputId": "51cefe31-622a-43e4-b31e-9ebb4f7a0bb8"
      },
      "outputs": [
        {
          "name": "stdout",
          "output_type": "stream",
          "text": [
            "58\n"
          ]
        }
      ],
      "source": [
        "# Q2.\n",
        "a = 5\n",
        "b = 8\n",
        "c = \"5\"\n",
        "d = \"8\"\n",
        "\n",
        "print(c + d)"
      ]
    },
    {
      "cell_type": "code",
      "execution_count": null,
      "metadata": {
        "colab": {
          "base_uri": "https://localhost:8080/"
        },
        "id": "71IIIlwIxbpE",
        "outputId": "38194cf2-92f8-4092-8e70-ef751e569558"
      },
      "outputs": [
        {
          "name": "stdout",
          "output_type": "stream",
          "text": [
            "40\n"
          ]
        }
      ],
      "source": [
        "# Q3.\n",
        "def my_function(x, y):\n",
        "    return x + x + y\n",
        "\n",
        "print(my_function(10, 20))"
      ]
    },
    {
      "cell_type": "markdown",
      "metadata": {
        "id": "Veb8ZIDVcpq-"
      },
      "source": [
        "# 프로그래밍 핵심 개념 in Python"
      ]
    },
    {
      "cell_type": "markdown",
      "metadata": {
        "id": "iSTuEF8Ic8nj"
      },
      "source": [
        "## 자료형"
      ]
    },
    {
      "cell_type": "markdown",
      "metadata": {
        "id": "uwydMguzdAJr"
      },
      "source": [
        "### 숫자형"
      ]
    },
    {
      "cell_type": "markdown",
      "metadata": {
        "id": "fdyIverhdG5V"
      },
      "source": [
        "정수형과 정수형 간의 연산은 정수형"
      ]
    },
    {
      "cell_type": "code",
      "execution_count": null,
      "metadata": {
        "colab": {
          "base_uri": "https://localhost:8080/"
        },
        "id": "vl4LY89lyZcH",
        "outputId": "da0784b9-ad0a-4526-ab50-c482e29e7844"
      },
      "outputs": [
        {
          "name": "stdout",
          "output_type": "stream",
          "text": [
            "11\n",
            "-2\n",
            "15\n",
            "1\n",
            "8\n"
          ]
        }
      ],
      "source": [
        "# 덧셈\n",
        "print(4 + 7)\n",
        "\n",
        "# 뺄셈\n",
        "print(2 - 4)\n",
        "\n",
        "# 곱셈\n",
        "print(5 * 3)\n",
        "\n",
        "# 나머지\n",
        "print(7 % 3)\n",
        "\n",
        "# 거듭제곱\n",
        "print(2 ** 3)"
      ]
    },
    {
      "cell_type": "markdown",
      "metadata": {
        "id": "aLlnGZNOdIIp"
      },
      "source": [
        "소수형과 소수형 간의 연산은 소수형"
      ]
    },
    {
      "cell_type": "code",
      "execution_count": null,
      "metadata": {
        "colab": {
          "base_uri": "https://localhost:8080/"
        },
        "id": "5ojIlrm7ymy0",
        "outputId": "cf72504d-8a59-4b55-ac34-e45469c13bf1"
      },
      "outputs": [
        {
          "name": "stdout",
          "output_type": "stream",
          "text": [
            "11.0\n",
            "-2.0\n",
            "15.0\n",
            "1.0\n",
            "8.0\n"
          ]
        }
      ],
      "source": [
        "# 덧셈\n",
        "print(4.0 + 7.0)\n",
        "\n",
        "# 뺄셈\n",
        "print(2.0 - 4.0)\n",
        "\n",
        "# 곱셈\n",
        "print(5.0 * 3.0)\n",
        "\n",
        "# 나머지\n",
        "print(7.0 % 3.0)\n",
        "\n",
        "# 거듭제곱\n",
        "print(2.0 ** 3.0)"
      ]
    },
    {
      "cell_type": "markdown",
      "metadata": {
        "id": "qgLe-aYkdLEE"
      },
      "source": [
        "정수형과 소수형 간의 연산은 소수형"
      ]
    },
    {
      "cell_type": "code",
      "execution_count": null,
      "metadata": {
        "colab": {
          "base_uri": "https://localhost:8080/"
        },
        "id": "3kGdv_IyzHo0",
        "outputId": "b195d8b0-d3bb-4777-d313-13262d8ccbbd"
      },
      "outputs": [
        {
          "name": "stdout",
          "output_type": "stream",
          "text": [
            "11.0\n",
            "-2.0\n",
            "15.0\n",
            "1.0\n",
            "8.0\n"
          ]
        }
      ],
      "source": [
        "# 덧셈\n",
        "print(4 + 7.0)\n",
        "\n",
        "# 뺄셈\n",
        "print(2.0 - 4)\n",
        "\n",
        "# 곱셈\n",
        "print(5.0 * 3)\n",
        "\n",
        "# 나머지\n",
        "print(7 % 3.0)\n",
        "\n",
        "# 거듭제곱\n",
        "print(2.0 ** 3)"
      ]
    },
    {
      "cell_type": "markdown",
      "metadata": {
        "id": "sPyLcCLOdOR5"
      },
      "source": [
        "나눗셈은 예외 - 나눗셈은 항상 소수형으로 나온다!"
      ]
    },
    {
      "cell_type": "code",
      "execution_count": null,
      "metadata": {
        "colab": {
          "base_uri": "https://localhost:8080/"
        },
        "id": "GNM-h0GXzOLL",
        "outputId": "76c8a818-15a0-4200-fa48-a6e2da1cfe57"
      },
      "outputs": [
        {
          "name": "stdout",
          "output_type": "stream",
          "text": [
            "3.5\n",
            "3.0\n",
            "3.5\n",
            "3.0\n"
          ]
        }
      ],
      "source": [
        "print(7 / 2)\n",
        "print(6 / 2)\n",
        "print(7.0 / 2)\n",
        "print(6.0 / 2.0)"
      ]
    },
    {
      "cell_type": "code",
      "execution_count": null,
      "metadata": {
        "colab": {
          "base_uri": "https://localhost:8080/"
        },
        "id": "WK4BynDSzcXT",
        "outputId": "118825dd-b7b3-447e-f817-d3318c71f91f"
      },
      "outputs": [
        {
          "name": "stdout",
          "output_type": "stream",
          "text": [
            "8\n"
          ]
        }
      ],
      "source": [
        "print(2 + 3 * 2)"
      ]
    },
    {
      "cell_type": "code",
      "execution_count": null,
      "metadata": {
        "colab": {
          "base_uri": "https://localhost:8080/"
        },
        "id": "0V7h-G1tzr7e",
        "outputId": "3d4f515f-f75e-4f2e-e2fe-6f9ac77e7d58"
      },
      "outputs": [
        {
          "name": "stdout",
          "output_type": "stream",
          "text": [
            "10\n"
          ]
        }
      ],
      "source": [
        "print(2 * (2 + 3))"
      ]
    },
    {
      "cell_type": "markdown",
      "metadata": {
        "id": "4skWnMW_dQap"
      },
      "source": [
        "### 숫자형 심화"
      ]
    },
    {
      "cell_type": "markdown",
      "metadata": {
        "id": "iYHe8ZT1dS2C"
      },
      "source": [
        "floor division (버림 나눗셈)"
      ]
    },
    {
      "cell_type": "code",
      "execution_count": null,
      "metadata": {
        "colab": {
          "base_uri": "https://localhost:8080/"
        },
        "id": "UQKYW8lN14w8",
        "outputId": "21ba49c0-aeb9-4b9e-9135-21af921d637a"
      },
      "outputs": [
        {
          "name": "stdout",
          "output_type": "stream",
          "text": [
            "3\n",
            "2\n",
            "2.0\n",
            "2.0\n",
            "2.0\n"
          ]
        }
      ],
      "source": [
        "print(7 // 2)\n",
        "print(8 // 3)\n",
        "print(8.0 // 3)\n",
        "print(8 // 3.0)\n",
        "print(8.0 // 3.0)"
      ]
    },
    {
      "cell_type": "markdown",
      "metadata": {
        "id": "7Sla65btdWmv"
      },
      "source": [
        "round (반올림)"
      ]
    },
    {
      "cell_type": "code",
      "execution_count": null,
      "metadata": {
        "colab": {
          "base_uri": "https://localhost:8080/"
        },
        "id": "mvrTMm-x17c4",
        "outputId": "194c0c6a-d8c1-4f3b-a992-917a939c7f54"
      },
      "outputs": [
        {
          "name": "stdout",
          "output_type": "stream",
          "text": [
            "3.1416\n"
          ]
        }
      ],
      "source": [
        "print(round(3.1415936535, 4))"
      ]
    },
    {
      "cell_type": "markdown",
      "metadata": {
        "id": "6T5b8j2rdZ6q"
      },
      "source": [
        "### 문자열\n",
        "- 문자열 : 키보드로 쓸 수 있는 문자들을 표현하는 자료형\n",
        "- 따옴표 (작은 따옴표로 시작하면 작은 따옴표로 끝나야 하고. 큰 따옴표로 시작하면 큰 따옴표로 끝나야 함.)"
      ]
    },
    {
      "cell_type": "code",
      "execution_count": null,
      "metadata": {
        "colab": {
          "base_uri": "https://localhost:8080/"
        },
        "id": "UyHbyyAZ2f6A",
        "outputId": "ea1d082c-e6b8-4c1b-97de-20b0ccfd864f"
      },
      "outputs": [
        {
          "name": "stdout",
          "output_type": "stream",
          "text": [
            "코드잇\n",
            "코드잇\n"
          ]
        }
      ],
      "source": [
        "print('코드잇')\n",
        "print(\"코드잇\")"
      ]
    },
    {
      "cell_type": "code",
      "execution_count": null,
      "metadata": {
        "colab": {
          "base_uri": "https://localhost:8080/"
        },
        "id": "0vq7zgoW26EL",
        "outputId": "1d211a39-ec68-4859-de80-f0e4c9f110a4"
      },
      "outputs": [
        {
          "name": "stdout",
          "output_type": "stream",
          "text": [
            "13\n"
          ]
        }
      ],
      "source": [
        "print(7 + 6)"
      ]
    },
    {
      "cell_type": "code",
      "execution_count": null,
      "metadata": {
        "colab": {
          "base_uri": "https://localhost:8080/"
        },
        "id": "_o68w2tC3Ib2",
        "outputId": "0dd321b9-24e4-4f94-9daf-bdfa122c7892"
      },
      "outputs": [
        {
          "name": "stdout",
          "output_type": "stream",
          "text": [
            "76\n"
          ]
        }
      ],
      "source": [
        "print(\"7\" + \"6\")"
      ]
    },
    {
      "cell_type": "markdown",
      "metadata": {
        "id": "M_0QZ5bvdibL"
      },
      "source": [
        "### 문자열 연결 (String Concatenation)"
      ]
    },
    {
      "cell_type": "code",
      "execution_count": null,
      "metadata": {
        "colab": {
          "base_uri": "https://localhost:8080/"
        },
        "id": "Y-6XPiE63OnA",
        "outputId": "cac0f2fc-ccf5-492c-aa75-0002114c9072"
      },
      "outputs": [
        {
          "name": "stdout",
          "output_type": "stream",
          "text": [
            "HelloHelloHello\n"
          ]
        }
      ],
      "source": [
        "print(\"Hello\" * 3)"
      ]
    },
    {
      "cell_type": "code",
      "execution_count": null,
      "metadata": {
        "colab": {
          "base_uri": "https://localhost:8080/"
        },
        "id": "hjHx1y8j3Q1g",
        "outputId": "447007d0-2d06-4f75-84ab-30e24788bbd3"
      },
      "outputs": [
        {
          "name": "stdout",
          "output_type": "stream",
          "text": [
            "코드잇\n",
            "유재석\n"
          ]
        }
      ],
      "source": [
        "print(\"코드잇\")\n",
        "print(\"유재석\")"
      ]
    },
    {
      "cell_type": "markdown",
      "metadata": {
        "id": "BKqBbbwPdmco"
      },
      "source": [
        "### SyntaxError : 문법 오류"
      ]
    },
    {
      "cell_type": "code",
      "execution_count": null,
      "metadata": {
        "colab": {
          "base_uri": "https://localhost:8080/",
          "height": 108
        },
        "id": "c7K9i4Rf3Xxz",
        "outputId": "8cdb9255-e41a-4f3f-b676-c2eb2e2ebc72"
      },
      "outputs": [
        {
          "ename": "SyntaxError",
          "evalue": "unterminated string literal (detected at line 1) (<ipython-input-1-19c475f30d5f>, line 1)",
          "output_type": "error",
          "traceback": [
            "\u001b[0;36m  File \u001b[0;32m\"<ipython-input-1-19c475f30d5f>\"\u001b[0;36m, line \u001b[0;32m1\u001b[0m\n\u001b[0;31m    print('I'm excited to learn Python!')\u001b[0m\n\u001b[0m                                       ^\u001b[0m\n\u001b[0;31mSyntaxError\u001b[0m\u001b[0;31m:\u001b[0m unterminated string literal (detected at line 1)\n"
          ]
        }
      ],
      "source": [
        "print('I'm excited to learn Python!')"
      ]
    },
    {
      "cell_type": "code",
      "execution_count": null,
      "metadata": {
        "colab": {
          "base_uri": "https://localhost:8080/"
        },
        "id": "_r2OCuil3rU_",
        "outputId": "883abaca-6ab9-447f-9fda-282161478118"
      },
      "outputs": [
        {
          "name": "stdout",
          "output_type": "stream",
          "text": [
            "I'm excited to learn Python!\n"
          ]
        }
      ],
      "source": [
        "print(\"I'm excited to learn Python!\")"
      ]
    },
    {
      "cell_type": "markdown",
      "metadata": {
        "id": "7GKlfqw5h_za"
      },
      "source": [
        "백슬래시 사용"
      ]
    },
    {
      "cell_type": "code",
      "execution_count": null,
      "metadata": {
        "colab": {
          "base_uri": "https://localhost:8080/"
        },
        "id": "AUdEntFb3hKa",
        "outputId": "a194d94e-bedd-47b0-b876-d166b02c1e8f"
      },
      "outputs": [
        {
          "name": "stdout",
          "output_type": "stream",
          "text": [
            "I'm excited to learn Python!\n"
          ]
        }
      ],
      "source": [
        "print('I\\'m excited to learn Python!')"
      ]
    },
    {
      "cell_type": "code",
      "execution_count": null,
      "metadata": {
        "colab": {
          "base_uri": "https://localhost:8080/"
        },
        "id": "OULnyed-3pOn",
        "outputId": "5907cd2f-2a02-4443-f113-9f8dc91b27b9"
      },
      "outputs": [
        {
          "name": "stdout",
          "output_type": "stream",
          "text": [
            "I'm \"excited\" to learn Python!\n"
          ]
        }
      ],
      "source": [
        "print(\"I\\'m \\\"excited\\\" to learn Python!\")"
      ]
    },
    {
      "cell_type": "code",
      "execution_count": null,
      "metadata": {
        "colab": {
          "base_uri": "https://localhost:8080/"
        },
        "id": "cCcilT5o3yvC",
        "outputId": "c4042053-52da-4fca-8431-b9446da7c6f7"
      },
      "outputs": [
        {
          "name": "stdout",
          "output_type": "stream",
          "text": [
            "HelloWorld\n"
          ]
        }
      ],
      "source": [
        "print(\"Hello\" + \"World\")"
      ]
    },
    {
      "cell_type": "code",
      "execution_count": null,
      "metadata": {
        "colab": {
          "base_uri": "https://localhost:8080/"
        },
        "id": "rdhrsnhj369j",
        "outputId": "c18b5af9-e475-4728-d60b-9ad77eae023d"
      },
      "outputs": [
        {
          "name": "stdout",
          "output_type": "stream",
          "text": [
            "HelloHelloHello\n"
          ]
        }
      ],
      "source": [
        "print(\"Hello\" * 3)"
      ]
    },
    {
      "cell_type": "code",
      "execution_count": null,
      "metadata": {
        "colab": {
          "base_uri": "https://localhost:8080/"
        },
        "id": "HLm6M2Hj3-Zc",
        "outputId": "034690d6-62fd-4d79-d24b-9aec11a70a62"
      },
      "outputs": [
        {
          "name": "stdout",
          "output_type": "stream",
          "text": [
            "35\n"
          ]
        }
      ],
      "source": [
        "print(\"3\" + \"5\")"
      ]
    },
    {
      "cell_type": "markdown",
      "metadata": {
        "id": "obomBeWriC2L"
      },
      "source": [
        "### 퀴즈) 문자열 실습 I\n",
        "https://www.codeit.kr/topics/core-concept-of-python-programming/lessons/2750"
      ]
    },
    {
      "cell_type": "code",
      "execution_count": null,
      "metadata": {
        "colab": {
          "base_uri": "https://localhost:8080/"
        },
        "id": "1so8FRh84I0i",
        "outputId": "0ecefc87-543e-4c3e-8069-2e52864bbdcb"
      },
      "outputs": [
        {
          "name": "stdout",
          "output_type": "stream",
          "text": [
            "'응답하라 1988'은 많은 시청자들에게 사랑을 받은 드라마예요.\n",
            "데카르트는 \"나는 생각한다. 고로 존재한다.\"라고 말했다.\n"
          ]
        }
      ],
      "source": [
        "print(\"'응답하라 1988'은 많은 시청자들에게 사랑을 받은 드라마예요.\")\n",
        "print('데카르트는 \"나는 생각한다. 고로 존재한다.\"라고 말했다.')"
      ]
    },
    {
      "cell_type": "code",
      "execution_count": null,
      "metadata": {
        "colab": {
          "base_uri": "https://localhost:8080/"
        },
        "id": "dhXsUyI24QbG",
        "outputId": "d301a2d9-2968-4e12-d7d0-5191dd6a3a65"
      },
      "outputs": [
        {
          "name": "stdout",
          "output_type": "stream",
          "text": [
            "'응답하라 1988'은 많은 시청자들에게 사랑을 받은 드라마예요.\n",
            "데카르트는 \"나는 생각한다. 고로 존재한다.\"라고 말했다.\n"
          ]
        }
      ],
      "source": [
        "print('\\'응답하라 1988\\'은 많은 시청자들에게 사랑을 받은 드라마예요.')\n",
        "print(\"데카르트는 \\\"나는 생각한다. 고로 존재한다.\\\"라고 말했다.\")"
      ]
    },
    {
      "cell_type": "markdown",
      "metadata": {
        "id": "RgWxjeGbiH_U"
      },
      "source": [
        "### 퀴즈) 문자열 실습 II\n",
        "https://www.codeit.kr/topics/core-concept-of-python-programming/lessons/2751"
      ]
    },
    {
      "cell_type": "code",
      "execution_count": null,
      "metadata": {
        "colab": {
          "base_uri": "https://localhost:8080/"
        },
        "id": "U3TG9vCF4bYf",
        "outputId": "b97242f9-5366-4353-e2d1-6257bb22534d"
      },
      "outputs": [
        {
          "name": "stdout",
          "output_type": "stream",
          "text": [
            "영화 '신세계'에서 \"드루와~\"라는 대사가 유행했다.\n"
          ]
        }
      ],
      "source": [
        "print(\"영화 \\'신세계\\'에서 \\\"드루와~\\\"라는 대사가 유행했다.\")"
      ]
    },
    {
      "cell_type": "markdown",
      "metadata": {
        "id": "X2aWVuj6iL5-"
      },
      "source": [
        "### 형 변환 (Type Conversion, Type Cast)\n",
        "- 형 변환 : 값을 한 자료형에서 다른 자료형으로 바꾸는 것\n",
        "- 정수, 소수, 문자 등"
      ]
    },
    {
      "cell_type": "markdown",
      "metadata": {
        "id": "DRxJJcD8iUF8"
      },
      "source": [
        "숫자 -> 숫자"
      ]
    },
    {
      "cell_type": "code",
      "execution_count": null,
      "metadata": {
        "colab": {
          "base_uri": "https://localhost:8080/"
        },
        "id": "Xh5sWI5g4tMZ",
        "outputId": "b0e5288d-be05-4382-cc00-3c5198e4c439"
      },
      "outputs": [
        {
          "name": "stdout",
          "output_type": "stream",
          "text": [
            "3\n"
          ]
        }
      ],
      "source": [
        "print(int(3.8))"
      ]
    },
    {
      "cell_type": "code",
      "execution_count": null,
      "metadata": {
        "colab": {
          "base_uri": "https://localhost:8080/"
        },
        "id": "2Ut7wAoX4wVq",
        "outputId": "e93597eb-b4fa-41cc-b35a-49f0944cce13"
      },
      "outputs": [
        {
          "name": "stdout",
          "output_type": "stream",
          "text": [
            "3.0\n"
          ]
        }
      ],
      "source": [
        "print(float(3))"
      ]
    },
    {
      "cell_type": "markdown",
      "metadata": {
        "id": "ynBvlHIfiV3s"
      },
      "source": [
        "문자 -> 숫자"
      ]
    },
    {
      "cell_type": "code",
      "execution_count": null,
      "metadata": {
        "colab": {
          "base_uri": "https://localhost:8080/"
        },
        "id": "L83jmMNo5HDp",
        "outputId": "2a9181d8-83c4-49cb-b891-21039d1b7421"
      },
      "outputs": [
        {
          "name": "stdout",
          "output_type": "stream",
          "text": [
            "7\n"
          ]
        }
      ],
      "source": [
        "print(int(\"2\") + int(\"5\"))"
      ]
    },
    {
      "cell_type": "code",
      "execution_count": null,
      "metadata": {
        "colab": {
          "base_uri": "https://localhost:8080/"
        },
        "id": "3z5TQ3n_5Jb1",
        "outputId": "cda49459-91d6-447f-9d50-733eb26b5f68"
      },
      "outputs": [
        {
          "name": "stdout",
          "output_type": "stream",
          "text": [
            "3.6\n"
          ]
        }
      ],
      "source": [
        "print(float(\"1.1\") + float(\"2.5\"))"
      ]
    },
    {
      "cell_type": "code",
      "execution_count": null,
      "metadata": {
        "colab": {
          "base_uri": "https://localhost:8080/"
        },
        "id": "ceA9tEsg5QSJ",
        "outputId": "b2bc1547-0dc2-444f-ad91-56a4d012b9d3"
      },
      "outputs": [
        {
          "name": "stdout",
          "output_type": "stream",
          "text": [
            "25\n"
          ]
        }
      ],
      "source": [
        "print(str(2) + str(5))"
      ]
    },
    {
      "cell_type": "code",
      "execution_count": null,
      "metadata": {
        "colab": {
          "base_uri": "https://localhost:8080/",
          "height": 163
        },
        "id": "hzQvC0SA5Vn5",
        "outputId": "14c602f6-6091-48dd-f1c7-1a85d0182e05"
      },
      "outputs": [
        {
          "ename": "TypeError",
          "evalue": "can only concatenate str (not \"int\") to str",
          "output_type": "error",
          "traceback": [
            "\u001b[0;31m---------------------------------------------------------------------------\u001b[0m",
            "\u001b[0;31mTypeError\u001b[0m                                 Traceback (most recent call last)",
            "\u001b[0;32m<ipython-input-137-6b609fdee427>\u001b[0m in \u001b[0;36m<cell line: 2>\u001b[0;34m()\u001b[0m\n\u001b[1;32m      1\u001b[0m \u001b[0mage\u001b[0m \u001b[0;34m=\u001b[0m \u001b[0;36m7\u001b[0m\u001b[0;34m\u001b[0m\u001b[0;34m\u001b[0m\u001b[0m\n\u001b[0;32m----> 2\u001b[0;31m \u001b[0mprint\u001b[0m\u001b[0;34m(\u001b[0m\u001b[0;34m\"제 나이는 \"\u001b[0m \u001b[0;34m+\u001b[0m \u001b[0mage\u001b[0m \u001b[0;34m+\u001b[0m \u001b[0;34m\"살입니다.\"\u001b[0m\u001b[0;34m)\u001b[0m\u001b[0;34m\u001b[0m\u001b[0;34m\u001b[0m\u001b[0m\n\u001b[0m",
            "\u001b[0;31mTypeError\u001b[0m: can only concatenate str (not \"int\") to str"
          ]
        }
      ],
      "source": [
        "age = 7\n",
        "print(\"제 나이는 \" + age + \"살입니다.\")"
      ]
    },
    {
      "cell_type": "code",
      "execution_count": null,
      "metadata": {
        "colab": {
          "base_uri": "https://localhost:8080/"
        },
        "id": "craDV9r55hxt",
        "outputId": "0465063f-0480-4809-b801-fab579c2ff4f"
      },
      "outputs": [
        {
          "name": "stdout",
          "output_type": "stream",
          "text": [
            "제 나이는 7살입니다.\n"
          ]
        }
      ],
      "source": [
        "age = 7\n",
        "print(\"제 나이는 \" + str(age) + \"살입니다.\")"
      ]
    },
    {
      "cell_type": "markdown",
      "metadata": {
        "id": "7NEXLh-XiZyK"
      },
      "source": [
        "아래의 경우와 같이 형 변환을 할 때에는 논리적으로 말이 되는지 생각해야 함"
      ]
    },
    {
      "cell_type": "code",
      "execution_count": null,
      "metadata": {
        "colab": {
          "base_uri": "https://localhost:8080/",
          "height": 145
        },
        "id": "89WLhQsV5jte",
        "outputId": "462d25ae-5dd5-4792-a2a5-440fd7bf0a0e"
      },
      "outputs": [
        {
          "ename": "ValueError",
          "evalue": "invalid literal for int() with base 10: 'Hello World'",
          "output_type": "error",
          "traceback": [
            "\u001b[0;31m---------------------------------------------------------------------------\u001b[0m",
            "\u001b[0;31mValueError\u001b[0m                                Traceback (most recent call last)",
            "\u001b[0;32m<ipython-input-139-67a1372a694d>\u001b[0m in \u001b[0;36m<cell line: 1>\u001b[0;34m()\u001b[0m\n\u001b[0;32m----> 1\u001b[0;31m \u001b[0mprint\u001b[0m\u001b[0;34m(\u001b[0m\u001b[0mint\u001b[0m\u001b[0;34m(\u001b[0m\u001b[0;34m\"Hello World\"\u001b[0m\u001b[0;34m)\u001b[0m\u001b[0;34m)\u001b[0m\u001b[0;34m\u001b[0m\u001b[0;34m\u001b[0m\u001b[0m\n\u001b[0m",
            "\u001b[0;31mValueError\u001b[0m: invalid literal for int() with base 10: 'Hello World'"
          ]
        }
      ],
      "source": [
        "print(int(\"Hello World\"))"
      ]
    },
    {
      "cell_type": "markdown",
      "metadata": {
        "id": "SKwu4BwIifrR"
      },
      "source": [
        "### 퀴즈) 자료형 퀴즈 I\n",
        "https://www.codeit.kr/topics/core-concept-of-python-programming/lessons/2753"
      ]
    },
    {
      "cell_type": "code",
      "execution_count": null,
      "metadata": {
        "colab": {
          "base_uri": "https://localhost:8080/"
        },
        "id": "J_CvJsXP54Yr",
        "outputId": "f1b22ce7-f557-403f-f4a2-7e3df5034271"
      },
      "outputs": [
        {
          "name": "stdout",
          "output_type": "stream",
          "text": [
            "2.5\n"
          ]
        }
      ],
      "source": [
        "# Q1.\n",
        "print(10 / (10 % 6))"
      ]
    },
    {
      "cell_type": "code",
      "execution_count": null,
      "metadata": {
        "colab": {
          "base_uri": "https://localhost:8080/"
        },
        "id": "WUuH_QYl58KV",
        "outputId": "2ce85a1a-9b8b-4229-8f6b-0a0ecdafa69b"
      },
      "outputs": [
        {
          "name": "stdout",
          "output_type": "stream",
          "text": [
            "8.0\n",
            "8.0\n",
            "4.04.0\n",
            "8.0\n",
            "8\n"
          ]
        }
      ],
      "source": [
        "# Q2.\n",
        "print(2 ** 3.0) # 8.0\n",
        "print(int(\"3\") + float(\"5\")) # 8.0\n",
        "print(str(4.0) * 2) # 4.04.0\n",
        "print(float(int(42 / 5))) # 8.0\n",
        "print(2 * (3 + 1)) # 8"
      ]
    },
    {
      "cell_type": "markdown",
      "metadata": {
        "id": "8L-Pt-JlikG5"
      },
      "source": [
        "### 퀴즈) format을 이용한 문자열 포매팅\n",
        "https://www.codeit.kr/topics/core-concept-of-python-programming/lessons/2757"
      ]
    },
    {
      "cell_type": "code",
      "execution_count": null,
      "metadata": {
        "id": "ajEqyGmd6aAe"
      },
      "outputs": [],
      "source": [
        "# 오늘은 2019년 10월 29일입니다.\n",
        "year = 2019\n",
        "month = 10\n",
        "day = 29"
      ]
    },
    {
      "cell_type": "code",
      "execution_count": null,
      "metadata": {
        "colab": {
          "base_uri": "https://localhost:8080/",
          "height": 145
        },
        "id": "AgDibyJ86fQg",
        "outputId": "8c87dff4-a0ac-4dc3-8ddd-3f3dc0c26d68"
      },
      "outputs": [
        {
          "ename": "TypeError",
          "evalue": "can only concatenate str (not \"int\") to str",
          "output_type": "error",
          "traceback": [
            "\u001b[0;31m---------------------------------------------------------------------------\u001b[0m",
            "\u001b[0;31mTypeError\u001b[0m                                 Traceback (most recent call last)",
            "\u001b[0;32m<ipython-input-147-13fb6cbb705b>\u001b[0m in \u001b[0;36m<cell line: 1>\u001b[0;34m()\u001b[0m\n\u001b[0;32m----> 1\u001b[0;31m \u001b[0mprint\u001b[0m\u001b[0;34m(\u001b[0m\u001b[0;34m\"오늘은 \"\u001b[0m \u001b[0;34m+\u001b[0m \u001b[0myear\u001b[0m \u001b[0;34m+\u001b[0m \u001b[0;34m\"년 \"\u001b[0m \u001b[0;34m+\u001b[0m \u001b[0mmonth\u001b[0m \u001b[0;34m+\u001b[0m \u001b[0;34m\"월 \"\u001b[0m \u001b[0;34m+\u001b[0m \u001b[0mday\u001b[0m \u001b[0;34m+\u001b[0m \u001b[0;34m\"일입니다.\"\u001b[0m\u001b[0;34m)\u001b[0m\u001b[0;34m\u001b[0m\u001b[0;34m\u001b[0m\u001b[0m\n\u001b[0m",
            "\u001b[0;31mTypeError\u001b[0m: can only concatenate str (not \"int\") to str"
          ]
        }
      ],
      "source": [
        "print(\"오늘은 \" + year + \"년 \" + month + \"월 \" + day + \"일입니다.\")"
      ]
    },
    {
      "cell_type": "code",
      "execution_count": null,
      "metadata": {
        "colab": {
          "base_uri": "https://localhost:8080/"
        },
        "id": "5Ww3ctYa6lTK",
        "outputId": "92fe90fd-f8a0-45d7-d0db-b581d5ec1f3a"
      },
      "outputs": [
        {
          "name": "stdout",
          "output_type": "stream",
          "text": [
            "오늘은 2019년 10월 29일입니다.\n"
          ]
        }
      ],
      "source": [
        "print(\"오늘은 \" + str(year) + \"년 \" + str(month) + \"월 \" + str(day) + \"일입니다.\")"
      ]
    },
    {
      "cell_type": "markdown",
      "metadata": {
        "id": "Z_-6Ht1JisPC"
      },
      "source": [
        "format method 사용"
      ]
    },
    {
      "cell_type": "code",
      "execution_count": null,
      "metadata": {
        "colab": {
          "base_uri": "https://localhost:8080/"
        },
        "id": "ZOQ27I8_6uZS",
        "outputId": "a7b2d577-9d06-45dd-fb3b-1189cb2120c2"
      },
      "outputs": [
        {
          "name": "stdout",
          "output_type": "stream",
          "text": [
            "오늘은 2019년 10월 29일입니다.\n",
            "오늘은 2019년 10월 29일입니다.\n"
          ]
        }
      ],
      "source": [
        "print(\"오늘은 2019년 10월 29일입니다.\")\n",
        "print(\"오늘은 {}년 {}월 {}일입니다.\".format(year, month, day))"
      ]
    },
    {
      "cell_type": "code",
      "execution_count": null,
      "metadata": {
        "colab": {
          "base_uri": "https://localhost:8080/"
        },
        "id": "XrbRqNAm61Ib",
        "outputId": "d60eb9ff-768e-4fe5-ba03-3218deb768cc"
      },
      "outputs": [
        {
          "name": "stdout",
          "output_type": "stream",
          "text": [
            "오늘은 2019년 10월 30일입니다.\n"
          ]
        }
      ],
      "source": [
        "date_string = \"오늘은 {}년 {}월 {}일입니다.\"\n",
        "print(date_string.format(year, month, day + 1)) # 다음 날 출력"
      ]
    },
    {
      "cell_type": "markdown",
      "metadata": {
        "id": "MHK4hd0qiwOA"
      },
      "source": [
        "format 다루기"
      ]
    },
    {
      "cell_type": "code",
      "execution_count": null,
      "metadata": {
        "colab": {
          "base_uri": "https://localhost:8080/"
        },
        "id": "jQh3oZYb7JAg",
        "outputId": "47641df1-0fe4-4807-becd-aecd0d2f3c3e"
      },
      "outputs": [
        {
          "name": "stdout",
          "output_type": "stream",
          "text": [
            "저는 박지성, 유재석, 빌 게이츠를 좋아합니다!\n"
          ]
        }
      ],
      "source": [
        "print(\"저는 {}, {}, {}를 좋아합니다!\".format(\"박지성\", \"유재석\", \"빌 게이츠\"))"
      ]
    },
    {
      "cell_type": "code",
      "execution_count": null,
      "metadata": {
        "colab": {
          "base_uri": "https://localhost:8080/"
        },
        "id": "zBkdKdgU7Xky",
        "outputId": "034952c0-ede3-4a08-a9e9-08f5dc4f4f06"
      },
      "outputs": [
        {
          "name": "stdout",
          "output_type": "stream",
          "text": [
            "저는 유재석, 박지성, 빌 게이츠를 좋아합니다!\n"
          ]
        }
      ],
      "source": [
        "print(\"저는 {1}, {0}, {2}를 좋아합니다!\".format(\"박지성\", \"유재석\", \"빌 게이츠\")) # 프로그래밍을 할 때에는 0부터 셈"
      ]
    },
    {
      "cell_type": "code",
      "execution_count": null,
      "metadata": {
        "colab": {
          "base_uri": "https://localhost:8080/"
        },
        "id": "xOac2PbB7c6p",
        "outputId": "6603998c-9707-47d0-9f5d-04cc1d996531"
      },
      "outputs": [
        {
          "name": "stdout",
          "output_type": "stream",
          "text": [
            "1 나누기 3은 0.3333입니다.\n"
          ]
        }
      ],
      "source": [
        "num_1 = 1\n",
        "num_2 = 3\n",
        "\n",
        "print(\"{0} 나누기 {1}은 {2:.4f}입니다.\".format(num_1, num_2, num_1 / num_2)) # :.2f 앞에 있는 숫자를 소수점 아래 둘째 자리까지 소수로 표현"
      ]
    },
    {
      "cell_type": "markdown",
      "metadata": {
        "id": "4zJR7cgRi26U"
      },
      "source": [
        "### 문자열을 포매팅하는 다양한 방식"
      ]
    },
    {
      "cell_type": "markdown",
      "metadata": {
        "id": "CvwFWu6ei_HX"
      },
      "source": [
        "% 기호 - 오래된 방법으로 잘 쓰지 않음"
      ]
    },
    {
      "cell_type": "code",
      "execution_count": null,
      "metadata": {
        "colab": {
          "base_uri": "https://localhost:8080/"
        },
        "id": "afZMFKiv8ZWY",
        "outputId": "467ce3a6-5e09-479c-fa67-81689f3f2ca1"
      },
      "outputs": [
        {
          "name": "stdout",
          "output_type": "stream",
          "text": [
            "제 이름은 최지웅이고 32살입니다.\n"
          ]
        }
      ],
      "source": [
        "name = \"최지웅\"\n",
        "age = 32\n",
        "\n",
        "print(\"제 이름은 %s이고 %d살입니다.\" % (name, age))"
      ]
    },
    {
      "cell_type": "markdown",
      "metadata": {
        "id": "aBKHCOzL7v97"
      },
      "source": [
        "format() 메소드"
      ]
    },
    {
      "cell_type": "code",
      "execution_count": null,
      "metadata": {
        "colab": {
          "base_uri": "https://localhost:8080/"
        },
        "id": "9krW_Uuq8swD",
        "outputId": "9e9a3334-ce91-4a4a-86da-c39fe4523499"
      },
      "outputs": [
        {
          "name": "stdout",
          "output_type": "stream",
          "text": [
            "제 이름은 최지웅이고 32살입니다.\n"
          ]
        }
      ],
      "source": [
        "name = \"최지웅\"\n",
        "age = 32\n",
        "\n",
        "print(\"제 이름은 {}이고 {}살입니다.\".format(name, age))"
      ]
    },
    {
      "cell_type": "markdown",
      "metadata": {
        "id": "YQVOssE1i9EV"
      },
      "source": [
        "f-string - 최근에 많이 씀"
      ]
    },
    {
      "cell_type": "code",
      "execution_count": null,
      "metadata": {
        "colab": {
          "base_uri": "https://localhost:8080/"
        },
        "id": "vwzl_P-S80jG",
        "outputId": "76c539ba-24c5-4fe1-ffb2-182dbfa3eafa"
      },
      "outputs": [
        {
          "name": "stdout",
          "output_type": "stream",
          "text": [
            "제 이름은 최지웅이고 32살입니다.\n"
          ]
        }
      ],
      "source": [
        "name = \"최지웅\"\n",
        "age = 32\n",
        "\n",
        "print(f\"제 이름은 {name}이고 {age}살입니다.\")"
      ]
    },
    {
      "cell_type": "markdown",
      "metadata": {
        "id": "eADFDWl-jBGg"
      },
      "source": [
        "### 퀴즈) 문자열 포매팅 실습\n",
        "https://www.codeit.kr/topics/core-concept-of-python-programming/lessons/2757"
      ]
    },
    {
      "cell_type": "code",
      "execution_count": null,
      "metadata": {
        "id": "l1FbOxZh9LdQ"
      },
      "outputs": [],
      "source": [
        "wage = 5\n",
        "exchange_rate = 1142.16"
      ]
    },
    {
      "cell_type": "code",
      "execution_count": null,
      "metadata": {
        "colab": {
          "base_uri": "https://localhost:8080/"
        },
        "id": "uX3FMbxP9bN7",
        "outputId": "ade6c136-1a97-45ed-8e0a-e7b6a4515942"
      },
      "outputs": [
        {
          "name": "stdout",
          "output_type": "stream",
          "text": [
            "1시간에 5달러 벌었습니다.\n",
            "5시간에 25달러 벌었습니다.\n",
            "1시간에 5710.8원 벌었습니다.\n",
            "5시간에 28554.0원 벌었습니다.\n"
          ]
        }
      ],
      "source": [
        "print(\"{}시간에 {}달러 벌었습니다.\".format(1, wage))\n",
        "print(\"{}시간에 {}달러 벌었습니다.\".format(5, wage * 5))\n",
        "print(\"{}시간에 {:.1f}원 벌었습니다.\".format(1, wage * 1 * exchange_rate))\n",
        "print(\"{}시간에 {:.1f}원 벌었습니다.\".format(5, wage * 5 * exchange_rate))"
      ]
    },
    {
      "cell_type": "code",
      "execution_count": null,
      "metadata": {
        "colab": {
          "base_uri": "https://localhost:8080/"
        },
        "id": "tPucmamq-JLP",
        "outputId": "06f0e9db-3b14-46d7-ed36-2fd1a271d02b"
      },
      "outputs": [
        {
          "name": "stdout",
          "output_type": "stream",
          "text": [
            "1시간에 5달러 벌었습니다.\n",
            "5시간에 25달러 벌었습니다.\n",
            "1시간에 5710.8원 벌었습니다.\n",
            "5시간에 28554.0원 벌었습니다.\n"
          ]
        }
      ],
      "source": [
        "print(f\"{1}시간에 {wage}달러 벌었습니다.\")\n",
        "print(f\"{5}시간에 {wage * 5}달러 벌었습니다.\")\n",
        "print(f\"{1}시간에 {wage * 1 * exchange_rate :.1f}원 벌었습니다.\")\n",
        "print(f\"{5}시간에 {wage * 5 * exchange_rate :.1f}원 벌었습니다.\")"
      ]
    },
    {
      "cell_type": "markdown",
      "metadata": {
        "id": "ruaQqza5jGMZ"
      },
      "source": [
        "### 불 대수\n",
        "- 수학자 George Bool\n",
        "- 불 대수 : 일상적인 논리를 수학적으로 표현한 것\n",
        "- 불 대수의 값 : 진리값, True, False - 어떤 명제가 참인지 거짓인지\n",
        "- 불 대수의 연산 : AND, OR, NOT\n",
        "- 명제 : 참과 거짓이 확실한 문장"
      ]
    },
    {
      "cell_type": "markdown",
      "metadata": {
        "id": "QbdjyRPqjKk4"
      },
      "source": [
        "### 불린형"
      ]
    },
    {
      "cell_type": "code",
      "execution_count": null,
      "metadata": {
        "colab": {
          "base_uri": "https://localhost:8080/"
        },
        "id": "jD3vKDKC_LQt",
        "outputId": "076aef21-6f98-45fe-c24e-b1832b11566e"
      },
      "outputs": [
        {
          "name": "stdout",
          "output_type": "stream",
          "text": [
            "True\n",
            "False\n"
          ]
        }
      ],
      "source": [
        "# 불린 (Boolean)\n",
        "print(True)\n",
        "print(False)"
      ]
    },
    {
      "cell_type": "code",
      "execution_count": null,
      "metadata": {
        "colab": {
          "base_uri": "https://localhost:8080/"
        },
        "id": "eGPwVJsj_t4E",
        "outputId": "0d551bb3-d17c-43b8-b96e-959f70fa761c"
      },
      "outputs": [
        {
          "name": "stdout",
          "output_type": "stream",
          "text": [
            "True\n",
            "False\n"
          ]
        }
      ],
      "source": [
        "print(\"True\") # 문자형\n",
        "print(\"False\")"
      ]
    },
    {
      "cell_type": "code",
      "execution_count": null,
      "metadata": {
        "colab": {
          "base_uri": "https://localhost:8080/"
        },
        "id": "G3ifjBa0_wt-",
        "outputId": "9f0ec80e-24a4-4162-bd82-58161fc17197"
      },
      "outputs": [
        {
          "name": "stdout",
          "output_type": "stream",
          "text": [
            "True\n",
            "False\n",
            "False\n",
            "False\n"
          ]
        }
      ],
      "source": [
        "print(True and True)\n",
        "print(True and False)\n",
        "print(False and True)\n",
        "print(False and False)"
      ]
    },
    {
      "cell_type": "code",
      "execution_count": null,
      "metadata": {
        "colab": {
          "base_uri": "https://localhost:8080/"
        },
        "id": "QvQkPMsK_3-n",
        "outputId": "7867c29e-50d7-4ae0-e32a-97c100afad6b"
      },
      "outputs": [
        {
          "name": "stdout",
          "output_type": "stream",
          "text": [
            "True\n",
            "True\n",
            "True\n",
            "False\n"
          ]
        }
      ],
      "source": [
        "print(True or True)\n",
        "print(True or False)\n",
        "print(False or True)\n",
        "print(False or False)"
      ]
    },
    {
      "cell_type": "code",
      "execution_count": null,
      "metadata": {
        "colab": {
          "base_uri": "https://localhost:8080/"
        },
        "id": "hjCr136v_9OS",
        "outputId": "3476868b-b550-42d2-c511-af13505bd9a0"
      },
      "outputs": [
        {
          "name": "stdout",
          "output_type": "stream",
          "text": [
            "False\n",
            "True\n"
          ]
        }
      ],
      "source": [
        "print(not True)\n",
        "print(not False)"
      ]
    },
    {
      "cell_type": "code",
      "execution_count": null,
      "metadata": {
        "colab": {
          "base_uri": "https://localhost:8080/"
        },
        "id": "EIWBWqrTAFNM",
        "outputId": "8a2b0b35-865b-4966-acce-a4404edc1431"
      },
      "outputs": [
        {
          "name": "stdout",
          "output_type": "stream",
          "text": [
            "True\n",
            "False\n",
            "True\n",
            "True\n",
            "True\n",
            "False\n"
          ]
        }
      ],
      "source": [
        "print(2 > 1)\n",
        "print(2 < 1)\n",
        "print(3 >= 2)\n",
        "print(3 <= 3)\n",
        "print(2 == 2)\n",
        "print(2 != 2)"
      ]
    },
    {
      "cell_type": "code",
      "execution_count": null,
      "metadata": {
        "colab": {
          "base_uri": "https://localhost:8080/"
        },
        "id": "wSH4Gh0XAPGp",
        "outputId": "386250ae-2a25-4b1a-8014-13f26aabc82a"
      },
      "outputs": [
        {
          "name": "stdout",
          "output_type": "stream",
          "text": [
            "True\n",
            "False\n"
          ]
        }
      ],
      "source": [
        "print(\"Hello\" == \"Hello\")\n",
        "print(\"Hello\" != \"Hello\")"
      ]
    },
    {
      "cell_type": "code",
      "execution_count": null,
      "metadata": {
        "colab": {
          "base_uri": "https://localhost:8080/"
        },
        "id": "QSTH2JiSAcON",
        "outputId": "42b8d24b-df19-4b1e-bcb9-8053d028c6be"
      },
      "outputs": [
        {
          "name": "stdout",
          "output_type": "stream",
          "text": [
            "True\n"
          ]
        }
      ],
      "source": [
        "print(2 > 1 and \"Hello\" == \"Hello\")"
      ]
    },
    {
      "cell_type": "code",
      "execution_count": null,
      "metadata": {
        "colab": {
          "base_uri": "https://localhost:8080/"
        },
        "id": "fxuo-fZZAg4U",
        "outputId": "b89d1688-2913-4081-af56-055dd64b7057"
      },
      "outputs": [
        {
          "name": "stdout",
          "output_type": "stream",
          "text": [
            "True\n",
            "False\n"
          ]
        }
      ],
      "source": [
        "print(not not True)\n",
        "print(not not False)"
      ]
    },
    {
      "cell_type": "code",
      "execution_count": null,
      "metadata": {
        "colab": {
          "base_uri": "https://localhost:8080/"
        },
        "id": "k2JMPpc9ApLA",
        "outputId": "af275135-9e13-4c2b-ba99-9dd3ded0883a"
      },
      "outputs": [
        {
          "name": "stdout",
          "output_type": "stream",
          "text": [
            "True\n"
          ]
        }
      ],
      "source": [
        "print(7 == 7 or (4 < 3 and 12 > 10))"
      ]
    },
    {
      "cell_type": "code",
      "execution_count": null,
      "metadata": {
        "colab": {
          "base_uri": "https://localhost:8080/"
        },
        "id": "D1pTl7yEAwqD",
        "outputId": "f1f10913-e642-4806-9b5d-1849238a4415"
      },
      "outputs": [
        {
          "name": "stdout",
          "output_type": "stream",
          "text": [
            "False\n"
          ]
        }
      ],
      "source": [
        "x = 3\n",
        "print(x > 4 or not (x < 2 or x == 3))"
      ]
    },
    {
      "cell_type": "markdown",
      "metadata": {
        "id": "FgDlmBo3jOGE"
      },
      "source": [
        "### type 함수"
      ]
    },
    {
      "cell_type": "code",
      "execution_count": null,
      "metadata": {
        "colab": {
          "base_uri": "https://localhost:8080/"
        },
        "id": "7dnoD4W8BRwf",
        "outputId": "212f8534-3346-4237-84e7-217783bc0f13"
      },
      "outputs": [
        {
          "name": "stdout",
          "output_type": "stream",
          "text": [
            "<class 'int'>\n",
            "<class 'float'>\n",
            "<class 'str'>\n"
          ]
        }
      ],
      "source": [
        "print(type(3))\n",
        "print(type(3.0))\n",
        "print(type(\"3\"))"
      ]
    },
    {
      "cell_type": "code",
      "execution_count": null,
      "metadata": {
        "colab": {
          "base_uri": "https://localhost:8080/"
        },
        "id": "ljVzYLJFBZR5",
        "outputId": "7b1f09b4-1ac4-4fa9-faab-c959580aa537"
      },
      "outputs": [
        {
          "name": "stdout",
          "output_type": "stream",
          "text": [
            "<class 'str'>\n",
            "<class 'bool'>\n"
          ]
        }
      ],
      "source": [
        "print(type(\"True\"))\n",
        "print(type(True))"
      ]
    },
    {
      "cell_type": "code",
      "execution_count": null,
      "metadata": {
        "colab": {
          "base_uri": "https://localhost:8080/"
        },
        "id": "21kdq9sVBnq6",
        "outputId": "82703de3-7074-4024-c8a6-ecbccfa92d48"
      },
      "outputs": [
        {
          "name": "stdout",
          "output_type": "stream",
          "text": [
            "<class 'function'>\n",
            "<class 'builtin_function_or_method'>\n"
          ]
        }
      ],
      "source": [
        "def hello():\n",
        "    print(\"Hello World\")\n",
        "\n",
        "print(type(hello))\n",
        "print(type(print))"
      ]
    },
    {
      "cell_type": "markdown",
      "metadata": {
        "id": "CVWKtGCmjTbq"
      },
      "source": [
        "### 퀴즈) 자료형 퀴즈 II\n",
        "https://www.codeit.kr/topics/core-concept-of-python-programming/lessons/2761"
      ]
    },
    {
      "cell_type": "code",
      "execution_count": null,
      "metadata": {
        "id": "w6zq6-_HB2kI"
      },
      "outputs": [],
      "source": [
        "# Q1.\n",
        "print(int(2.5) + int(3.8) > int(str(1) + str(2))) # False\n",
        "print((12 >= 10 and not 3 > 4) or 3 ** 2 != 9) # True\n",
        "print(True and (True or False)) # True\n",
        "print(not True or (True and False)) # False\n",
        "print(False == False) # True"
      ]
    },
    {
      "cell_type": "code",
      "execution_count": null,
      "metadata": {
        "id": "JjYNTe9HCHFD"
      },
      "outputs": [],
      "source": [
        "# Q2.\n",
        "print(type(4 / 2)) # float\n",
        "print(type(\"True\")) # str\n",
        "print(type(10 <= 7)) # bool\n",
        "print(type(2.0 ** 3)) # float\n",
        "print(type(2 * 3 = 6)) # bool"
      ]
    },
    {
      "cell_type": "markdown",
      "metadata": {
        "id": "dt6-J2Y8jYAl"
      },
      "source": [
        "## 추상화"
      ]
    },
    {
      "cell_type": "markdown",
      "metadata": {
        "id": "jZzqcaj_jaW9"
      },
      "source": [
        "### 변수 제대로 이해하기\n",
        "- 파이썬에서 등호의 의미 : 같다의 의미가 아니라 지정 연산자의 의미"
      ]
    },
    {
      "cell_type": "code",
      "execution_count": null,
      "metadata": {
        "id": "vviLU8rKEp0v"
      },
      "outputs": [],
      "source": [
        "name = \"김현승\"\n",
        "x = 7\n",
        "\n",
        "x = x + 1 # 지정 연산자 (assignment operator)"
      ]
    },
    {
      "cell_type": "code",
      "execution_count": null,
      "metadata": {
        "colab": {
          "base_uri": "https://localhost:8080/"
        },
        "id": "tg_kVOtCEtbM",
        "outputId": "143a0c74-7e3a-4d2f-847b-ab7946fc136b"
      },
      "outputs": [
        {
          "name": "stdout",
          "output_type": "stream",
          "text": [
            "8\n"
          ]
        }
      ],
      "source": [
        "print(x)"
      ]
    },
    {
      "cell_type": "code",
      "execution_count": null,
      "metadata": {
        "colab": {
          "base_uri": "https://localhost:8080/"
        },
        "id": "DsIXLoAfEuOz",
        "outputId": "b24b4527-02c0-4a17-ed68-ed54acccf6e3"
      },
      "outputs": [
        {
          "name": "stdout",
          "output_type": "stream",
          "text": [
            "4\n"
          ]
        }
      ],
      "source": [
        "x = 7\n",
        "x = x - 3\n",
        "print(x)"
      ]
    },
    {
      "cell_type": "markdown",
      "metadata": {
        "id": "U7gZDwoLjeqd"
      },
      "source": [
        "### 함수의 실행 순서"
      ]
    },
    {
      "cell_type": "code",
      "execution_count": null,
      "metadata": {
        "colab": {
          "base_uri": "https://localhost:8080/"
        },
        "id": "lvpwavS5FHit",
        "outputId": "7da53d97-e63f-44a1-b2d9-d03905f50164"
      },
      "outputs": [
        {
          "name": "stdout",
          "output_type": "stream",
          "text": [
            "함수 호출 전\n",
            "Hello!\n",
            "Welcome to Codeit!\n",
            "함수 호출 후\n"
          ]
        }
      ],
      "source": [
        "def hello():\n",
        "    print(\"Hello!\")\n",
        "    print(\"Welcome to Codeit!\")\n",
        "\n",
        "print(\"함수 호출 전\")\n",
        "hello()\n",
        "print(\"함수 호출 후\")"
      ]
    },
    {
      "cell_type": "code",
      "execution_count": null,
      "metadata": {
        "colab": {
          "base_uri": "https://localhost:8080/"
        },
        "id": "W3s_nuAwFRio",
        "outputId": "77751d0d-9a3e-4dab-8d84-75125b94e724"
      },
      "outputs": [
        {
          "name": "stdout",
          "output_type": "stream",
          "text": [
            "함수 호출 전\n",
            "25\n",
            "함수 호출 후\n"
          ]
        }
      ],
      "source": [
        "def square(x):\n",
        "    return x * x\n",
        "\n",
        "print(\"함수 호출 전\")\n",
        "print(square(3) + square(4))\n",
        "print(\"함수 호출 후\")"
      ]
    },
    {
      "cell_type": "markdown",
      "metadata": {
        "id": "Pv7hJqX_jhos"
      },
      "source": [
        "### return문 제대로 이해하기"
      ]
    },
    {
      "cell_type": "markdown",
      "metadata": {
        "id": "KCx6NBQCjkFc"
      },
      "source": [
        "- return문의 역할 : 함수가 무언가를 돌려주는 것\n",
        "1) 값 돌려주기\n",
        "2) 함수 즉시 종료하기"
      ]
    },
    {
      "cell_type": "code",
      "execution_count": null,
      "metadata": {
        "colab": {
          "base_uri": "https://localhost:8080/"
        },
        "id": "hbxM2zuaF60o",
        "outputId": "5c1d2081-5fee-4085-b5f2-805d6c27a86c"
      },
      "outputs": [
        {
          "name": "stdout",
          "output_type": "stream",
          "text": [
            "함수 시작\n",
            "9\n",
            "Hello World!\n"
          ]
        }
      ],
      "source": [
        "def square(x):\n",
        "    print(\"함수 시작\")\n",
        "    return x * x # 값을 돌려주는 것 뿐만 아니라 함수를 종료시킴\n",
        "    print(\"함수 끝\") # Dead Code (의미 없는 코드)\n",
        "\n",
        "print(square(3))\n",
        "print(\"Hello World!\")"
      ]
    },
    {
      "cell_type": "markdown",
      "metadata": {
        "id": "CpyiZ7CsjuDq"
      },
      "source": [
        "### return과 print의 차이"
      ]
    },
    {
      "cell_type": "code",
      "execution_count": null,
      "metadata": {
        "colab": {
          "base_uri": "https://localhost:8080/"
        },
        "id": "-9jVETdvJu1k",
        "outputId": "ddcd15d3-e498-4120-a28a-ec27789fd2cd"
      },
      "outputs": [
        {
          "name": "stdout",
          "output_type": "stream",
          "text": [
            "9\n",
            "\n",
            "\n",
            "9\n",
            "None\n",
            "\n",
            "9\n"
          ]
        }
      ],
      "source": [
        "def print_square(x):\n",
        "    print(x * x)\n",
        "    # return None이 있다고 가정\n",
        "\n",
        "def get_square(x):\n",
        "    return x * x\n",
        "\n",
        "print_square(3)\n",
        "print()\n",
        "get_square(3)\n",
        "print()\n",
        "print(print_square(3))\n",
        "print()\n",
        "print(get_square(3))"
      ]
    },
    {
      "cell_type": "markdown",
      "metadata": {
        "id": "kB1AfxaTj0LP"
      },
      "source": [
        "### 퀴즈) return과 print의 차이 실습\n",
        "https://www.codeit.kr/topics/core-concept-of-python-programming/lessons/6722"
      ]
    },
    {
      "cell_type": "code",
      "execution_count": null,
      "metadata": {
        "colab": {
          "base_uri": "https://localhost:8080/"
        },
        "id": "BOyzPgLaMVGs",
        "outputId": "3c13dc6e-18eb-4b28-82e2-074e29b8a54a"
      },
      "outputs": [
        {
          "name": "stdout",
          "output_type": "stream",
          "text": [
            "코드잇\n",
            "codeit\n",
            "None\n",
            "None\n"
          ]
        }
      ],
      "source": [
        "def first():\n",
        "    message = \"코드잇\"\n",
        "    return message\n",
        "\n",
        "\n",
        "def second():\n",
        "    message = \"codeit\"\n",
        "    print(message)\n",
        "\n",
        "def third():\n",
        "    message = None\n",
        "    return message\n",
        "\n",
        "\n",
        "# 테스트 코드\n",
        "print(first())\n",
        "print(second())\n",
        "print(third())"
      ]
    },
    {
      "cell_type": "markdown",
      "metadata": {
        "id": "MdA28Cp_j2xb"
      },
      "source": [
        "### 옵셔널 파라미터\n",
        "- 옵셔널 파라미터 : 파라미터에 기본값을 설정하는 것\n",
        "- 옵셔널 파라미터는 반드시 마지막에 지정해 주어야 함!"
      ]
    },
    {
      "cell_type": "code",
      "execution_count": null,
      "metadata": {
        "colab": {
          "base_uri": "https://localhost:8080/"
        },
        "id": "aQmShwtuPAuo",
        "outputId": "eabaee62-5688-4cdc-cfbf-8e534cb134f8"
      },
      "outputs": [
        {
          "name": "stdout",
          "output_type": "stream",
          "text": [
            "내 이름은 코드잇\n",
            "나이는 1살\n",
            "국적은 한국\n",
            "\n",
            "내 이름은 코드잇\n",
            "나이는 1살\n",
            "국적은 미국\n"
          ]
        }
      ],
      "source": [
        "def myself(name, age, nationality = \"한국\"):\n",
        "    print(\"내 이름은 {}\".format(name))\n",
        "    print(\"나이는 {}살\".format(age))\n",
        "    print(\"국적은 {}\".format(nationality))\n",
        "\n",
        "myself(\"코드잇\", 1)\n",
        "print()\n",
        "myself(\"코드잇\", 1, \"미국\")"
      ]
    },
    {
      "cell_type": "code",
      "execution_count": null,
      "metadata": {
        "colab": {
          "base_uri": "https://localhost:8080/",
          "height": 109
        },
        "id": "lmTMbsDrPVxO",
        "outputId": "74714f95-23a4-4ae2-cc5d-3ed553b1b2ba"
      },
      "outputs": [
        {
          "ename": "SyntaxError",
          "evalue": "non-default argument follows default argument (<ipython-input-259-0d78eec51f6b>, line 1)",
          "output_type": "error",
          "traceback": [
            "\u001b[0;36m  File \u001b[0;32m\"<ipython-input-259-0d78eec51f6b>\"\u001b[0;36m, line \u001b[0;32m1\u001b[0m\n\u001b[0;31m    def myself(name, nationality = \"한국\", age):\u001b[0m\n\u001b[0m                                         ^\u001b[0m\n\u001b[0;31mSyntaxError\u001b[0m\u001b[0;31m:\u001b[0m non-default argument follows default argument\n"
          ]
        }
      ],
      "source": [
        "def myself(name, nationality = \"한국\", age):\n",
        "    print(\"내 이름은 {}\".format(name))\n",
        "    print(\"나이는 {}살\".format(age))\n",
        "    print(\"국적은 {}\".format(nationality))\n",
        "\n",
        "myself(\"코드잇\", 1)\n",
        "print()\n",
        "myself(\"코드잇\", \"미국\", 1)"
      ]
    },
    {
      "cell_type": "markdown",
      "metadata": {
        "id": "lJX78v2nj-V2"
      },
      "source": [
        "### Syntactic Sugar"
      ]
    },
    {
      "cell_type": "code",
      "execution_count": null,
      "metadata": {
        "id": "Sxi-2mKePpq4"
      },
      "outputs": [],
      "source": [
        "# 다음 두 줄은 같습니다.\n",
        "x = x + 1\n",
        "x += 1\n",
        "\n",
        "# 다음 두 줄은 같습니다.\n",
        "x = x * 2\n",
        "x *= 2\n",
        "\n",
        "# 다음 두 줄은 같습니다.\n",
        "x = x - 3\n",
        "x -= 3"
      ]
    },
    {
      "cell_type": "markdown",
      "metadata": {
        "id": "eayjHdGfkBid"
      },
      "source": [
        "### 퀴즈) 추상화 퀴즈\n",
        "https://www.codeit.kr/topics/core-concept-of-python-programming/lessons/2768"
      ]
    },
    {
      "cell_type": "code",
      "execution_count": null,
      "metadata": {
        "colab": {
          "base_uri": "https://localhost:8080/"
        },
        "id": "gXRx_2UvQDmA",
        "outputId": "4070b0b3-2070-4a84-a2a5-bc5a959d876a"
      },
      "outputs": [
        {
          "name": "stdout",
          "output_type": "stream",
          "text": [
            "-2\n"
          ]
        }
      ],
      "source": [
        "# Q1.\n",
        "x = -6\n",
        "y = 3\n",
        "\n",
        "x += 2\n",
        "y -= 1\n",
        "\n",
        "print(x + y)"
      ]
    },
    {
      "cell_type": "code",
      "execution_count": null,
      "metadata": {
        "colab": {
          "base_uri": "https://localhost:8080/"
        },
        "id": "GY4KY0WThWVA",
        "outputId": "923edc49-5742-4b2f-a761-9f934d225ebf"
      },
      "outputs": [
        {
          "name": "stdout",
          "output_type": "stream",
          "text": [
            "함수 실행 전\n",
            "안녕하세요. 영훈입니다.\n",
            "만나서 반갑습니다.\n",
            "함수 실행 후\n"
          ]
        }
      ],
      "source": [
        "# Q2.\n",
        "def hello(name):\n",
        "    print(f\"안녕하세요. {name}입니다.\")\n",
        "    print(\"만나서 반갑습니다.\")\n",
        "\n",
        "print(\"함수 실행 전\")\n",
        "hello(\"영훈\")\n",
        "print(\"함수 실행 후\")"
      ]
    },
    {
      "cell_type": "code",
      "execution_count": null,
      "metadata": {
        "colab": {
          "base_uri": "https://localhost:8080/"
        },
        "id": "cHTbsWZKhk94",
        "outputId": "7315733f-aa08-4c2b-f180-3ebd486d6270"
      },
      "outputs": [
        {
          "name": "stdout",
          "output_type": "stream",
          "text": [
            "안녕하세요. 영훈입니다.\n",
            "만나서 반갑습니다.\n"
          ]
        }
      ],
      "source": [
        "# Q3.\n",
        "def hello(name):\n",
        "    print(f\"안녕하세요. {name}입니다.\")\n",
        "    return \"만나서 반갑습니다.\"\n",
        "\n",
        "print(hello(\"영훈\"))"
      ]
    },
    {
      "cell_type": "markdown",
      "metadata": {
        "id": "f0q1JoxNkOs7"
      },
      "source": [
        "### 변수의 scope\n",
        "- Scope (범위) : 변수가 사용 가능한 범위\n",
        "- 로컬 변수 : 변수를 정의한 함수 내에서만 사용 가능\n",
        "- 글로벌 변수 : 모든 곳에서 사용 가능\n",
        "- 함수에서 변수를 사용하면, 로컬 변수를 먼저 찾고 나서 글로벌 변수를 찾음"
      ]
    },
    {
      "cell_type": "code",
      "execution_count": null,
      "metadata": {
        "colab": {
          "base_uri": "https://localhost:8080/"
        },
        "id": "fE2qanF9i8cC",
        "outputId": "554db9b4-1448-4462-cac9-8bd00b0596f3"
      },
      "outputs": [
        {
          "name": "stdout",
          "output_type": "stream",
          "text": [
            "3\n"
          ]
        }
      ],
      "source": [
        "def my_function():\n",
        "    x = 3 # 로컬 변수 : 함수 내에서만 사용하는 변수\n",
        "    print(x)\n",
        "\n",
        "my_function()"
      ]
    },
    {
      "cell_type": "code",
      "execution_count": null,
      "metadata": {
        "colab": {
          "base_uri": "https://localhost:8080/"
        },
        "id": "rac2uLc9jBAx",
        "outputId": "d95d6c64-ad5b-4d83-edac-0859a2498705"
      },
      "outputs": [
        {
          "name": "stdout",
          "output_type": "stream",
          "text": [
            "2\n",
            "2\n"
          ]
        }
      ],
      "source": [
        "x = 2 # 글로벌 변수 : 함수 밖에서 적용한 변수\n",
        "\n",
        "def my_function():\n",
        "    print(x)\n",
        "\n",
        "my_function()\n",
        "print(x)"
      ]
    },
    {
      "cell_type": "code",
      "execution_count": null,
      "metadata": {
        "colab": {
          "base_uri": "https://localhost:8080/"
        },
        "id": "_YLOW0XAjOiY",
        "outputId": "64f9fb8d-4486-4d9d-a16b-de2d4fea42a7"
      },
      "outputs": [
        {
          "name": "stdout",
          "output_type": "stream",
          "text": [
            "3\n",
            "2\n"
          ]
        }
      ],
      "source": [
        "x = 2\n",
        "\n",
        "def my_function():\n",
        "    x = 3\n",
        "    print(x)\n",
        "\n",
        "my_function() # 가장 최근에 지정한 값이 3이므로 3이 출력\n",
        "print(x)"
      ]
    },
    {
      "cell_type": "code",
      "execution_count": null,
      "metadata": {
        "colab": {
          "base_uri": "https://localhost:8080/"
        },
        "id": "JXlbgWQbj-2X",
        "outputId": "0f30f866-3341-4b8a-d256-c28a14ae02cf"
      },
      "outputs": [
        {
          "name": "stdout",
          "output_type": "stream",
          "text": [
            "9\n"
          ]
        }
      ],
      "source": [
        "def square(x):\n",
        "    return x * x # 파라미터도 로컬 변수\n",
        "\n",
        "print(square(3))"
      ]
    },
    {
      "cell_type": "markdown",
      "metadata": {
        "id": "QOtQYLIMk9xT"
      },
      "source": [
        "### 퀴즈) scope 퀴즈\n",
        "https://www.codeit.kr/topics/core-concept-of-python-programming/lessons/2770"
      ]
    },
    {
      "cell_type": "code",
      "execution_count": null,
      "metadata": {
        "id": "vBt9gwFvkvI8"
      },
      "outputs": [],
      "source": [
        "# Q1.\n",
        "def my_function():\n",
        "    x = \"코드잇\"\n",
        "    y = \"을지로\"\n",
        "\n",
        "my_function()"
      ]
    },
    {
      "cell_type": "code",
      "execution_count": null,
      "metadata": {
        "colab": {
          "base_uri": "https://localhost:8080/"
        },
        "id": "1ydI-2uIk2Ce",
        "outputId": "83bd0dea-c7c6-4e59-8677-28a689b72c65"
      },
      "outputs": [
        {
          "name": "stdout",
          "output_type": "stream",
          "text": [
            "0\n",
            "100\n"
          ]
        }
      ],
      "source": [
        "# Q2.\n",
        "x = 100\n",
        "\n",
        "def my_function():\n",
        "    x = 0\n",
        "    print(x)\n",
        "\n",
        "my_function()\n",
        "print(x)"
      ]
    },
    {
      "cell_type": "code",
      "execution_count": null,
      "metadata": {
        "colab": {
          "base_uri": "https://localhost:8080/"
        },
        "id": "bXHoJ4P-lBtD",
        "outputId": "d0373a4b-3573-4180-a50b-bf336b01e868"
      },
      "outputs": [
        {
          "name": "stdout",
          "output_type": "stream",
          "text": [
            "15\n",
            "10\n"
          ]
        }
      ],
      "source": [
        "# Q3.\n",
        "x = 10\n",
        "\n",
        "def my_function():\n",
        "    y = 5\n",
        "    print(x + y)\n",
        "\n",
        "my_function()\n",
        "print(x)"
      ]
    },
    {
      "cell_type": "markdown",
      "metadata": {
        "id": "CtCTuXq5lDXW"
      },
      "source": [
        "### 상수\n",
        "- 상수 (constant) : 모든 글자를 대문자로 한다는 규칙\n",
        "- 프로그램을 실행하는 입장에서는 달라진 것이 없지만 보는 데에는 한 눈에 파악하기가 쉬움"
      ]
    },
    {
      "cell_type": "code",
      "execution_count": null,
      "metadata": {
        "colab": {
          "base_uri": "https://localhost:8080/"
        },
        "id": "JCuKbXf6lL9w",
        "outputId": "161b6c94-b3d2-4576-b041-5036a7debc99"
      },
      "outputs": [
        {
          "name": "stdout",
          "output_type": "stream",
          "text": [
            "반지름이 4면, 넓이는 50.24\n",
            "반지름이 6면, 넓이는 0\n",
            "반지름이 7면, 넓이는 0\n"
          ]
        }
      ],
      "source": [
        "PI = 3.14 # 원주율 '파이'\n",
        "\n",
        "def calculate_area(r):\n",
        "    return PI * r * r\n",
        "\n",
        "radius = 4 # 반지름\n",
        "print(\"반지름이 {}면, 넓이는 {}\".format(radius, calculate_area(radius)))\n",
        "\n",
        "PI = 0\n",
        "radius = 6\n",
        "print(\"반지름이 {}면, 넓이는 {}\".format(radius, calculate_area(radius)))\n",
        "\n",
        "radius = 7\n",
        "print(\"반지름이 {}면, 넓이는 {}\".format(radius, calculate_area(radius)))\n"
      ]
    },
    {
      "cell_type": "markdown",
      "metadata": {
        "id": "nP3alBfZlMLJ"
      },
      "source": [
        "### 스타일\n",
        "- 이해하기 쉬운 코드 = 좋은 스타일을 가진 코드"
      ]
    },
    {
      "cell_type": "code",
      "execution_count": null,
      "metadata": {
        "colab": {
          "base_uri": "https://localhost:8080/"
        },
        "id": "7REaoi7lmSF1",
        "outputId": "0cbca018-279b-4647-de0d-34d2b9f67f43"
      },
      "outputs": [
        {
          "name": "stdout",
          "output_type": "stream",
          "text": [
            "25.12\n",
            "50.24\n",
            "50.24\n",
            "200.96\n"
          ]
        }
      ],
      "source": [
        "print(6.28*4)\n",
        "print(3.14*4*4)\n",
        "print(6.28*8)\n",
        "print(3.14*8*8)"
      ]
    },
    {
      "cell_type": "code",
      "execution_count": null,
      "metadata": {
        "colab": {
          "base_uri": "https://localhost:8080/"
        },
        "id": "vvbBYPFPmYj8",
        "outputId": "e84cdb9b-697f-4073-b7a9-5d836edd3efd"
      },
      "outputs": [
        {
          "name": "stdout",
          "output_type": "stream",
          "text": [
            "25.12\n",
            "50.24\n",
            "50.24\n",
            "200.96\n"
          ]
        }
      ],
      "source": [
        "PI = 3.14 # 원주율 (파이)\n",
        "\n",
        "def calculate_circumference(r):\n",
        "    return 2 * PI * r\n",
        "\n",
        "def calculate_area(r):\n",
        "    return PI * r * r\n",
        "\n",
        "radius = 4 # 반지름\n",
        "print(calculate_circumference(radius))\n",
        "print(calculate_area(radius))\n",
        "\n",
        "radius = 8 # 반지름\n",
        "print(calculate_circumference(radius))\n",
        "print(calculate_area(radius))"
      ]
    },
    {
      "cell_type": "markdown",
      "metadata": {
        "id": "pMqXTlqGlP2H"
      },
      "source": [
        "### 파이썬 스타일 가이드 (PEP 8)"
      ]
    },
    {
      "cell_type": "markdown",
      "metadata": {
        "id": "CghmG8_nlVOn"
      },
      "source": [
        "- 모든 변수와 함수 이름은 소문자로 쓰고, 여러 단어일 경우 _로 나눠주세요."
      ]
    },
    {
      "cell_type": "code",
      "execution_count": null,
      "metadata": {
        "id": "bzLOVmVbndKI"
      },
      "outputs": [],
      "source": [
        "some_variable_name = 1\n",
        "\n",
        "def som_function_name():\n",
        "    print(\"Hello\")"
      ]
    },
    {
      "cell_type": "markdown",
      "metadata": {
        "id": "TczugRcxlXKk"
      },
      "source": [
        "- 모든 상수 이름은 대문자로 쓰고, 여러 단어일 경우 _로 나눠주세요."
      ]
    },
    {
      "cell_type": "code",
      "execution_count": null,
      "metadata": {
        "id": "CwUS9cb3nwmE"
      },
      "outputs": [],
      "source": [
        "SOME_CONSTANT = 3.14"
      ]
    },
    {
      "cell_type": "code",
      "execution_count": null,
      "metadata": {
        "colab": {
          "base_uri": "https://localhost:8080/"
        },
        "id": "ZGBv-v-ToC8L",
        "outputId": "f5572750-b110-48e0-c93e-e261a35474e3"
      },
      "outputs": [
        {
          "name": "stdout",
          "output_type": "stream",
          "text": [
            "12.56\n"
          ]
        }
      ],
      "source": [
        "# 의미 있는 이름 (변수)\n",
        "radius = 2\n",
        "PI = 3.14\n",
        "print(PI * radius * radius)"
      ]
    },
    {
      "cell_type": "code",
      "execution_count": null,
      "metadata": {
        "id": "2Y0SpyiJoIvq"
      },
      "outputs": [],
      "source": [
        "# 의미 있는 이름 (함수)\n",
        "def say_hello():\n",
        "    print(\"Hello, world!\")"
      ]
    },
    {
      "cell_type": "markdown",
      "metadata": {
        "id": "sRi6v88Nlcdm"
      },
      "source": [
        "- 들여쓰기는 무조건 스페이스 4개를 사용하세요."
      ]
    },
    {
      "cell_type": "code",
      "execution_count": null,
      "metadata": {
        "id": "5JXfXCNEoN5n"
      },
      "outputs": [],
      "source": [
        "def say_hello():\n",
        "    print(\"Hello, world!\")"
      ]
    },
    {
      "cell_type": "markdown",
      "metadata": {
        "id": "qo697qPrlgs7"
      },
      "source": [
        "- 함수 정의 위아래로 빈 줄이 두 개씩 있어야 합니다.\n",
        "- 하지만, 파일의 첫 줄이 함수 정의인 경우 해당 함수 위에는 빈 줄이 없어도 됩니다."
      ]
    },
    {
      "cell_type": "code",
      "execution_count": null,
      "metadata": {
        "id": "HZb1mw4boWfs"
      },
      "outputs": [],
      "source": [
        "def a():\n",
        "    print('a')\n",
        "\n",
        "\n",
        "def b():\n",
        "    print('b')\n",
        "\n",
        "\n",
        "def c():\n",
        "    print('c')"
      ]
    },
    {
      "cell_type": "markdown",
      "metadata": {
        "id": "T8x0qmonlj3o"
      },
      "source": [
        "- 괄호 바로 안에는 띄어쓰기를 하지 마세요."
      ]
    },
    {
      "cell_type": "code",
      "execution_count": null,
      "metadata": {
        "id": "mFVyMChGolvR"
      },
      "outputs": [],
      "source": [
        "spam(ham[1], [eggs: 2])"
      ]
    },
    {
      "cell_type": "markdown",
      "metadata": {
        "id": "1sgLsEvglmu6"
      },
      "source": [
        "- 함수를 정의하거나 호출할 때, 함수 이름과 괄호 사이에 띄어쓰기를 하지 마세요."
      ]
    },
    {
      "cell_type": "code",
      "execution_count": null,
      "metadata": {
        "colab": {
          "base_uri": "https://localhost:8080/"
        },
        "id": "leokOK1Dor6r",
        "outputId": "c46649a2-3045-4326-866d-8f8c70f05e70"
      },
      "outputs": [
        {
          "name": "stdout",
          "output_type": "stream",
          "text": [
            "3\n"
          ]
        }
      ],
      "source": [
        "def spam(x):\n",
        "    print(x + 2)\n",
        "\n",
        "\n",
        "spam(1)"
      ]
    },
    {
      "cell_type": "markdown",
      "metadata": {
        "id": "u7hWGlNulpIC"
      },
      "source": [
        "- 쉼표 앞에는 띄어쓰기를 하지 마세요."
      ]
    },
    {
      "cell_type": "code",
      "execution_count": null,
      "metadata": {
        "colab": {
          "base_uri": "https://localhost:8080/"
        },
        "id": "Mxt6Ou9Lo1ON",
        "outputId": "9f2469dc-636f-4fc1-98c9-935d2e67abdc"
      },
      "outputs": [
        {
          "name": "stdout",
          "output_type": "stream",
          "text": [
            "10 2\n"
          ]
        }
      ],
      "source": [
        "print(x, y)"
      ]
    },
    {
      "cell_type": "markdown",
      "metadata": {
        "id": "39wnoyuClsDP"
      },
      "source": [
        "- 지정 연산자 앞뒤로 띄어쓰기를 하나씩 넣어 주세요."
      ]
    },
    {
      "cell_type": "code",
      "execution_count": null,
      "metadata": {
        "id": "UgRJaLiEo5NJ"
      },
      "outputs": [],
      "source": [
        "x = 1"
      ]
    },
    {
      "cell_type": "markdown",
      "metadata": {
        "id": "Fku5_GTPlwvo"
      },
      "source": [
        "- 기본적으로는 연산자 앞뒤로 띄어쓰기를 하나씩 합니다.\n",
        "- 하지만 연산의 '우선 순위'를 강조하기 위해서는, 연산자 앞뒤로 띄어쓰기를 붙이는 것을 권장합니다."
      ]
    },
    {
      "cell_type": "code",
      "execution_count": null,
      "metadata": {
        "id": "60r8ghg4o9BH"
      },
      "outputs": [],
      "source": [
        "i = i + 1\n",
        "submitted += 1\n",
        "\n",
        "x = x*2 - 1\n",
        "hypot2 = x*x + y*y\n",
        "c = (a+b) * (a-b)"
      ]
    },
    {
      "cell_type": "markdown",
      "metadata": {
        "id": "4QHrW4tJlza7"
      },
      "source": [
        "- 일반 코드와 같은 줄에 코멘트를 쓸 경우, 코멘트 앞에 띄어쓰기 최소 두 개를 입력해 주세요."
      ]
    },
    {
      "cell_type": "code",
      "execution_count": null,
      "metadata": {
        "id": "5xOzG586pGh7"
      },
      "outputs": [],
      "source": [
        "x = x + 1  # 코멘트"
      ]
    },
    {
      "cell_type": "markdown",
      "metadata": {},
      "source": []
    },
    {
      "cell_type": "markdown",
      "metadata": {
        "id": "sANRxhDNl6Gs"
      },
      "source": [
        "### 퀴즈) 짝수? 홀수?\n",
        "https://www.codeit.kr/topics/core-concept-of-python-programming/lessons/2773"
      ]
    },
    {
      "cell_type": "code",
      "execution_count": null,
      "metadata": {
        "colab": {
          "base_uri": "https://localhost:8080/"
        },
        "id": "EtiAW71rpdDs",
        "outputId": "bbc6a232-281e-4bc6-e68a-f0a41f739dc6"
      },
      "outputs": [
        {
          "name": "stdout",
          "output_type": "stream",
          "text": [
            "False\n",
            "False\n",
            "True\n",
            "True\n",
            "False\n"
          ]
        }
      ],
      "source": [
        "def is_evenly_divisible(number):\n",
        "    return number % 2 == 0\n",
        "\n",
        "print(is_evenly_divisible(3))\n",
        "print(is_evenly_divisible(7))\n",
        "print(is_evenly_divisible(8))\n",
        "print(is_evenly_divisible(218))\n",
        "print(is_evenly_divisible(317))"
      ]
    },
    {
      "cell_type": "markdown",
      "metadata": {
        "id": "zLcNZhB-l-1T"
      },
      "source": [
        "### 퀴즈) 거스름돈 계산기\n",
        "https://www.codeit.kr/topics/core-concept-of-python-programming/lessons/2774"
      ]
    },
    {
      "cell_type": "markdown",
      "metadata": {
        "id": "3ZoHrnHZmBRB"
      },
      "source": [
        "- 몫 : //\n",
        "- 나머지 : %"
      ]
    },
    {
      "cell_type": "code",
      "execution_count": null,
      "metadata": {
        "colab": {
          "base_uri": "https://localhost:8080/"
        },
        "id": "X4Z9r08mp9-S",
        "outputId": "847e9d98-b72a-4695-a1ca-47659f1a90da"
      },
      "outputs": [
        {
          "name": "stdout",
          "output_type": "stream",
          "text": [
            "50000원 지폐: 1장\n",
            "10000원 지폐: 1장\n",
            "5000원 지폐: 1장\n",
            "1000원 지폐: 2장\n",
            "\n",
            "50000원 지폐: 2장\n",
            "10000원 지폐: 2장\n",
            "5000원 지폐: 0장\n",
            "1000원 지폐: 2장\n"
          ]
        }
      ],
      "source": [
        "def calculate_change(payment, cost):\n",
        "    change = payment - cost\n",
        "    c1 = change // 50000\n",
        "    c2 = (change - 50000 * c1) // 10000\n",
        "    c3 = (change - 50000 * c1 - 10000 * c2) // 5000\n",
        "    c4 = (change - 50000 * c1 - 10000 * c2 - 5000 * c3) // 1000\n",
        "\n",
        "    string = \"{}원 지폐: {}장\"\n",
        "    print(string.format(50000, c1))\n",
        "    print(string.format(10000, c2))\n",
        "    print(string.format(5000, c3))\n",
        "    print(string.format(1000, c4))\n",
        "\n",
        "calculate_change(100000, 33000)\n",
        "print()\n",
        "calculate_change(500000, 378000)"
      ]
    },
    {
      "cell_type": "markdown",
      "metadata": {
        "id": "ndkBHsJymEFJ"
      },
      "source": [
        "## 제어문"
      ]
    },
    {
      "cell_type": "markdown",
      "metadata": {
        "id": "CSew-xyQmQGi"
      },
      "source": [
        "### while 반복문\n",
        "- while 반복문 : 무언가를 반복하기 위해 사용\n",
        "\n",
        "### while 반복문 구조\n",
        "- while 조건 부분: # 불린 값으로 계산되는 식\n",
        "-       수행 부분  # 반복적으로 실행하고 싶은 명령"
      ]
    },
    {
      "cell_type": "code",
      "execution_count": null,
      "metadata": {
        "colab": {
          "base_uri": "https://localhost:8080/"
        },
        "id": "Ac-SSiw-u2zr",
        "outputId": "8927fc5a-3a04-4c0a-c6b7-5f5d79ffcdb9"
      },
      "outputs": [
        {
          "name": "stdout",
          "output_type": "stream",
          "text": [
            "나는 잘 생겼다!\n",
            "나는 잘 생겼다!\n",
            "나는 잘 생겼다!\n"
          ]
        }
      ],
      "source": [
        "i = 1\n",
        "while i <= 3:\n",
        "  print(\"나는 잘 생겼다!\")\n",
        "  i += 1"
      ]
    },
    {
      "cell_type": "markdown",
      "metadata": {
        "id": "1OrIx1XCmXUn"
      },
      "source": [
        "### 퀴즈) while 반복문 실습 I\n",
        "https://www.codeit.kr/topics/core-concept-of-python-programming/lessons/2777"
      ]
    },
    {
      "cell_type": "code",
      "execution_count": null,
      "metadata": {
        "colab": {
          "base_uri": "https://localhost:8080/"
        },
        "id": "9Ujx9KSIv4Ug",
        "outputId": "e2d193b1-88f9-4db5-ef4c-3c4af7b7dbbc"
      },
      "outputs": [
        {
          "name": "stdout",
          "output_type": "stream",
          "text": [
            "2\n",
            "4\n",
            "6\n",
            "8\n",
            "10\n",
            "12\n",
            "14\n",
            "16\n",
            "18\n",
            "20\n",
            "22\n",
            "24\n",
            "26\n",
            "28\n",
            "30\n",
            "32\n",
            "34\n",
            "36\n",
            "38\n",
            "40\n",
            "42\n",
            "44\n",
            "46\n",
            "48\n",
            "50\n",
            "52\n",
            "54\n",
            "56\n",
            "58\n",
            "60\n",
            "62\n",
            "64\n",
            "66\n",
            "68\n",
            "70\n",
            "72\n",
            "74\n",
            "76\n",
            "78\n",
            "80\n",
            "82\n",
            "84\n",
            "86\n",
            "88\n",
            "90\n",
            "92\n",
            "94\n",
            "96\n",
            "98\n",
            "100\n"
          ]
        }
      ],
      "source": [
        "# Q1.\n",
        "i = 2\n",
        "while i <= 100:\n",
        "    print(i)\n",
        "    i += 2"
      ]
    },
    {
      "cell_type": "markdown",
      "metadata": {
        "id": "kw9DBq_cmbu7"
      },
      "source": [
        "### 퀴즈) while 반복문 실습 II\n",
        "https://www.codeit.kr/topics/core-concept-of-python-programming/lessons/2778"
      ]
    },
    {
      "cell_type": "code",
      "execution_count": null,
      "metadata": {
        "colab": {
          "base_uri": "https://localhost:8080/"
        },
        "id": "1nP8sviSyP9T",
        "outputId": "9d1480a3-6026-47d7-aa61-1cbd525ac246"
      },
      "outputs": [
        {
          "name": "stdout",
          "output_type": "stream",
          "text": [
            "115\n"
          ]
        }
      ],
      "source": [
        "i = 100\n",
        "while i % 23 != 0:\n",
        "    i += 1\n",
        "\n",
        "print(i)"
      ]
    },
    {
      "cell_type": "markdown",
      "metadata": {
        "id": "fyA9gc1vmnjB"
      },
      "source": [
        "### if문 개념\n",
        "- 만약 if\n",
        "- 그렇지 않으면 else\n",
        "\n",
        "### if문 구조\n",
        "- if 조건 부분:\n",
        "-    수행 부분\n",
        "- else:\n",
        "-    수행 부분"
      ]
    },
    {
      "cell_type": "code",
      "execution_count": null,
      "metadata": {
        "colab": {
          "base_uri": "https://localhost:8080/"
        },
        "id": "bfh__YWnzRNk",
        "outputId": "7ea6842d-752a-49fb-8db5-0b0757e6dc94"
      },
      "outputs": [
        {
          "name": "stdout",
          "output_type": "stream",
          "text": [
            "자켓을 입지 않는다\n"
          ]
        }
      ],
      "source": [
        "temperature = 16\n",
        "\n",
        "if temperature <= 10:\n",
        "    print(\"자켓을 입는다\")\n",
        "else:\n",
        "    print(\"자켓을 입지 않는다\")\n"
      ]
    },
    {
      "cell_type": "markdown",
      "metadata": {
        "id": "tdN633pYmuA6"
      },
      "source": [
        "### elif문"
      ]
    },
    {
      "cell_type": "code",
      "execution_count": null,
      "metadata": {
        "colab": {
          "base_uri": "https://localhost:8080/"
        },
        "id": "WuM7mVxi0CiK",
        "outputId": "8c575de6-16d3-44b2-9d28-50baccd424a0"
      },
      "outputs": [
        {
          "name": "stdout",
          "output_type": "stream",
          "text": [
            "F\n"
          ]
        }
      ],
      "source": [
        "score = 38\n",
        "\n",
        "if score >= 90:\n",
        "  print(\"A\")\n",
        "elif score >= 80:\n",
        "  print(\"B\")\n",
        "elif score >= 70:\n",
        "  print(\"C\")\n",
        "elif score >= 60:\n",
        "  print(\"D\")\n",
        "else:\n",
        "  print(\"F\")"
      ]
    },
    {
      "cell_type": "markdown",
      "metadata": {
        "id": "O5B8UyvImygU"
      },
      "source": [
        "### 퀴즈) 학점 계산기\n",
        "https://www.codeit.kr/topics/core-concept-of-python-programming/lessons/2782"
      ]
    },
    {
      "cell_type": "code",
      "execution_count": null,
      "metadata": {
        "colab": {
          "base_uri": "https://localhost:8080/"
        },
        "id": "wo9adkUj1DlD",
        "outputId": "98074ae8-7134-4adf-eb47-0d09b7d427d1"
      },
      "outputs": [
        {
          "name": "stdout",
          "output_type": "stream",
          "text": [
            "B\n",
            "F\n",
            "D\n",
            "A\n"
          ]
        }
      ],
      "source": [
        "def print_grade(midterm_score, final_score):\n",
        "    total = midterm_score + final_score\n",
        "    if total >= 90:\n",
        "      print(\"A\")\n",
        "    elif total >= 80:\n",
        "      print(\"B\")\n",
        "    elif total >= 70:\n",
        "      print(\"C\")\n",
        "    elif total >= 60:\n",
        "      print(\"D\")\n",
        "    else:\n",
        "      print(\"F\")\n",
        "\n",
        "print_grade(40, 45)\n",
        "print_grade(20, 35)\n",
        "print_grade(30, 32)\n",
        "print_grade(50, 45)"
      ]
    },
    {
      "cell_type": "markdown",
      "metadata": {
        "id": "sir4SieKm2MI"
      },
      "source": [
        "### 제어문 꿀팁"
      ]
    },
    {
      "cell_type": "markdown",
      "metadata": {
        "id": "8Fo_UFHzm6Ie"
      },
      "source": [
        "### break문\n",
        "- 만약 while문의 조건 부분과 상관없이 반복문에서 나오고 싶을 때"
      ]
    },
    {
      "cell_type": "code",
      "execution_count": null,
      "metadata": {
        "colab": {
          "base_uri": "https://localhost:8080/"
        },
        "id": "revQSSP315bx",
        "outputId": "6b56c909-b747-4c8d-c66e-c63107dc20f7"
      },
      "outputs": [
        {
          "name": "stdout",
          "output_type": "stream",
          "text": [
            "115\n"
          ]
        }
      ],
      "source": [
        "i = 100\n",
        "\n",
        "while True:\n",
        "    if i % 23 == 0:\n",
        "      break\n",
        "    i = i + 1\n",
        "\n",
        "print(i)"
      ]
    },
    {
      "cell_type": "markdown",
      "metadata": {
        "id": "wLq5JChXm9Tc"
      },
      "source": [
        "### continue문\n",
        "- 현재 진행되고 있는 작동 부분을 중단하고 바로 조건 부분을 확인하고 싶을 때"
      ]
    },
    {
      "cell_type": "code",
      "execution_count": null,
      "metadata": {
        "colab": {
          "base_uri": "https://localhost:8080/"
        },
        "id": "msWh0KVo2CT3",
        "outputId": "d508d83e-8303-4655-f3fb-61eaa9c65756"
      },
      "outputs": [
        {
          "name": "stdout",
          "output_type": "stream",
          "text": [
            "2\n",
            "4\n",
            "6\n",
            "8\n",
            "10\n",
            "12\n",
            "14\n"
          ]
        }
      ],
      "source": [
        "i = 0\n",
        "\n",
        "while i < 15:\n",
        "    i = i + 1\n",
        "    if i % 2 == 1:\n",
        "      continue\n",
        "    print(i)"
      ]
    },
    {
      "cell_type": "markdown",
      "metadata": {
        "id": "LJQ6_CygnGrS"
      },
      "source": [
        "##문제 해결 능력 기르기"
      ]
    },
    {
      "cell_type": "markdown",
      "metadata": {
        "id": "Xxwgf8PInH-Q"
      },
      "source": [
        "### 퀴즈) 이상한 수학 문제 I\n",
        "https://www.codeit.kr/topics/core-concept-of-python-programming/lessons/2783"
      ]
    },
    {
      "cell_type": "code",
      "execution_count": null,
      "metadata": {
        "colab": {
          "base_uri": "https://localhost:8080/"
        },
        "id": "Hnb0XOLX2n4M",
        "outputId": "c9864b83-abe5-4129-bdb6-e320b68db5f0"
      },
      "outputs": [
        {
          "name": "stdout",
          "output_type": "stream",
          "text": [
            "8\n",
            "16\n",
            "32\n",
            "40\n",
            "56\n",
            "64\n",
            "80\n",
            "88\n"
          ]
        }
      ],
      "source": [
        "i = 1\n",
        "\n",
        "while i <= 100:\n",
        "  if (i % 8 == 0) & (i % 12 != 0):\n",
        "    print(i)\n",
        "  i += 1"
      ]
    },
    {
      "cell_type": "markdown",
      "metadata": {
        "id": "kuIiaRhXnNa9"
      },
      "source": [
        "### 퀴즈) 이상한 수학 문제 II\n",
        "https://www.codeit.kr/topics/core-concept-of-python-programming/lessons/2784"
      ]
    },
    {
      "cell_type": "code",
      "execution_count": null,
      "metadata": {
        "colab": {
          "base_uri": "https://localhost:8080/"
        },
        "id": "iiLDsXvP5uUi",
        "outputId": "5703c43b-ca68-48ae-93a8-3c6498099421"
      },
      "outputs": [
        {
          "name": "stdout",
          "output_type": "stream",
          "text": [
            "1\n",
            "2\n",
            "3\n",
            "4\n",
            "5\n",
            "6\n",
            "7\n",
            "8\n",
            "9\n"
          ]
        }
      ],
      "source": [
        "i = 1\n",
        "\n",
        "while i < 10:\n",
        "  print(i)\n",
        "  i += 1"
      ]
    },
    {
      "cell_type": "code",
      "execution_count": null,
      "metadata": {
        "colab": {
          "base_uri": "https://localhost:8080/"
        },
        "id": "ccYZ3eX95zj9",
        "outputId": "a327bdba-85df-4283-b352-9b50fdb06fdd"
      },
      "outputs": [
        {
          "name": "stdout",
          "output_type": "stream",
          "text": [
            "333167\n"
          ]
        }
      ],
      "source": [
        "i = 1\n",
        "total = 0\n",
        "\n",
        "while i < 1000:\n",
        "  if (i % 2 ==0) | (i % 3 == 0):\n",
        "    total += i\n",
        "  i += 1\n",
        "\n",
        "print(total)"
      ]
    },
    {
      "cell_type": "markdown",
      "metadata": {
        "id": "e5-20f0MnRxV"
      },
      "source": [
        "### 퀴즈) 약수 찾기\n",
        "https://www.codeit.kr/topics/core-concept-of-python-programming/lessons/2785"
      ]
    },
    {
      "cell_type": "code",
      "execution_count": null,
      "metadata": {
        "id": "MNdEn5-V6Hr7"
      },
      "outputs": [],
      "source": [
        "n = 12 # 1, 2, 3, 4, 6, 12 # 120\n",
        "n % i == 0"
      ]
    },
    {
      "cell_type": "code",
      "execution_count": null,
      "metadata": {
        "colab": {
          "base_uri": "https://localhost:8080/"
        },
        "id": "_pIi4qAf7du3",
        "outputId": "ba76bbfc-c761-4a2b-ea49-7ffa947b6bbd"
      },
      "outputs": [
        {
          "name": "stdout",
          "output_type": "stream",
          "text": [
            "1\n",
            "2\n",
            "3\n",
            "4\n",
            "5\n",
            "6\n",
            "8\n",
            "10\n",
            "12\n",
            "15\n",
            "20\n",
            "24\n",
            "30\n",
            "40\n",
            "60\n",
            "120\n",
            "120의 약수는 총 16개입니다.\n"
          ]
        }
      ],
      "source": [
        "n = 120\n",
        "i = 1\n",
        "count = 0\n",
        "\n",
        "while i <= n:\n",
        "  if (n % i == 0):\n",
        "    print(i)\n",
        "    count += 1\n",
        "  i += 1\n",
        "\n",
        "print(\"{}의 약수는 총 {}개입니다.\".format(n, count))"
      ]
    },
    {
      "cell_type": "markdown",
      "metadata": {
        "id": "i1rsv-zWnWCc"
      },
      "source": [
        "### 퀴즈) 구구단 만들기\n",
        "https://www.codeit.kr/topics/core-concept-of-python-programming/lessons/2788"
      ]
    },
    {
      "cell_type": "code",
      "execution_count": null,
      "metadata": {
        "colab": {
          "base_uri": "https://localhost:8080/"
        },
        "id": "I8JQKF8d9fzj",
        "outputId": "41f76db4-1f92-4c5c-af30-42cf9567fe86"
      },
      "outputs": [
        {
          "name": "stdout",
          "output_type": "stream",
          "text": [
            "1 * 1 = 1\n",
            "1 * 2 = 2\n",
            "1 * 3 = 3\n",
            "1 * 4 = 4\n",
            "1 * 5 = 5\n",
            "1 * 6 = 6\n",
            "1 * 7 = 7\n",
            "1 * 8 = 8\n",
            "1 * 9 = 9\n",
            "2 * 1 = 2\n",
            "2 * 2 = 4\n",
            "2 * 3 = 6\n",
            "2 * 4 = 8\n",
            "2 * 5 = 10\n",
            "2 * 6 = 12\n",
            "2 * 7 = 14\n",
            "2 * 8 = 16\n",
            "2 * 9 = 18\n",
            "3 * 1 = 3\n",
            "3 * 2 = 6\n",
            "3 * 3 = 9\n",
            "3 * 4 = 12\n",
            "3 * 5 = 15\n",
            "3 * 6 = 18\n",
            "3 * 7 = 21\n",
            "3 * 8 = 24\n",
            "3 * 9 = 27\n",
            "4 * 1 = 4\n",
            "4 * 2 = 8\n",
            "4 * 3 = 12\n",
            "4 * 4 = 16\n",
            "4 * 5 = 20\n",
            "4 * 6 = 24\n",
            "4 * 7 = 28\n",
            "4 * 8 = 32\n",
            "4 * 9 = 36\n",
            "5 * 1 = 5\n",
            "5 * 2 = 10\n",
            "5 * 3 = 15\n",
            "5 * 4 = 20\n",
            "5 * 5 = 25\n",
            "5 * 6 = 30\n",
            "5 * 7 = 35\n",
            "5 * 8 = 40\n",
            "5 * 9 = 45\n",
            "6 * 1 = 6\n",
            "6 * 2 = 12\n",
            "6 * 3 = 18\n",
            "6 * 4 = 24\n",
            "6 * 5 = 30\n",
            "6 * 6 = 36\n",
            "6 * 7 = 42\n",
            "6 * 8 = 48\n",
            "6 * 9 = 54\n",
            "7 * 1 = 7\n",
            "7 * 2 = 14\n",
            "7 * 3 = 21\n",
            "7 * 4 = 28\n",
            "7 * 5 = 35\n",
            "7 * 6 = 42\n",
            "7 * 7 = 49\n",
            "7 * 8 = 56\n",
            "7 * 9 = 63\n",
            "8 * 1 = 8\n",
            "8 * 2 = 16\n",
            "8 * 3 = 24\n",
            "8 * 4 = 32\n",
            "8 * 5 = 40\n",
            "8 * 6 = 48\n",
            "8 * 7 = 56\n",
            "8 * 8 = 64\n",
            "8 * 9 = 72\n",
            "9 * 1 = 9\n",
            "9 * 2 = 18\n",
            "9 * 3 = 27\n",
            "9 * 4 = 36\n",
            "9 * 5 = 45\n",
            "9 * 6 = 54\n",
            "9 * 7 = 63\n",
            "9 * 8 = 72\n",
            "9 * 9 = 81\n"
          ]
        }
      ],
      "source": [
        "i = 1\n",
        "\n",
        "while i <= 9:\n",
        "  j = 1\n",
        "  while j <= 9:\n",
        "    print(\"{} * {} = {}\".format(i, j, i * j))\n",
        "    j += 1\n",
        "  i += 1"
      ]
    },
    {
      "cell_type": "markdown",
      "metadata": {
        "id": "tNLfUiT5nacw"
      },
      "source": [
        "### 퀴즈) 택이의 우승 상금\n",
        "https://www.codeit.kr/topics/core-concept-of-python-programming/lessons/2786"
      ]
    },
    {
      "cell_type": "code",
      "execution_count": null,
      "metadata": {
        "colab": {
          "base_uri": "https://localhost:8080/"
        },
        "id": "SDD_twAI_Bx0",
        "outputId": "a15226ae-e3cf-4240-ce78-6b1475e0a8fe"
      },
      "outputs": [
        {
          "name": "stdout",
          "output_type": "stream",
          "text": [
            "94193324원 차이로 동일 아저씨 말씀이 맞습니다.\n"
          ]
        }
      ],
      "source": [
        "c = 2016\n",
        "p = 1988\n",
        "t = 50000000\n",
        "e = 1100000000\n",
        "r = 0.12\n",
        "\n",
        "diff = c - p\n",
        "\n",
        "y = 1\n",
        "\n",
        "while y <= diff:\n",
        "  d = round(t * (1+r) ** y)\n",
        "  y += 1\n",
        "\n",
        "if d > e:\n",
        "  print(\"{}원 차이로 동일 아저씨 말씀이 맞습니다.\".format(abs(d - e)))\n",
        "else :\n",
        "  print(\"{}}원 차이로 미란 아주머니 말씀이 맞습니다.\".format(abs(d - e)))\n"
      ]
    },
    {
      "cell_type": "markdown",
      "metadata": {
        "id": "Yio83y5BnfGI"
      },
      "source": [
        "### 퀴즈) 피보나치 수열\n",
        "https://www.codeit.kr/topics/core-concept-of-python-programming/lessons/2787"
      ]
    },
    {
      "cell_type": "code",
      "execution_count": null,
      "metadata": {
        "colab": {
          "base_uri": "https://localhost:8080/"
        },
        "id": "Wv-LC2rDB1__",
        "outputId": "5af739e5-439a-480a-f302-9cc6cddf274d"
      },
      "outputs": [
        {
          "name": "stdout",
          "output_type": "stream",
          "text": [
            "1\n",
            "1\n",
            "2\n",
            "3\n",
            "5\n",
            "8\n",
            "13\n",
            "21\n",
            "34\n",
            "55\n",
            "89\n",
            "144\n",
            "233\n",
            "377\n",
            "610\n",
            "987\n",
            "1597\n",
            "2584\n",
            "4181\n",
            "6765\n",
            "10946\n",
            "17711\n",
            "28657\n",
            "46368\n",
            "75025\n",
            "121393\n",
            "196418\n",
            "317811\n",
            "514229\n",
            "832040\n",
            "1346269\n",
            "2178309\n",
            "3524578\n",
            "5702887\n",
            "9227465\n",
            "14930352\n",
            "24157817\n",
            "39088169\n",
            "63245986\n",
            "102334155\n",
            "165580141\n",
            "267914296\n",
            "433494437\n",
            "701408733\n",
            "1134903170\n",
            "1836311903\n",
            "2971215073\n",
            "4807526976\n",
            "7778742049\n",
            "12586269025\n"
          ]
        }
      ],
      "source": [
        "p = 0\n",
        "c = 1\n",
        "i = 1\n",
        "\n",
        "while i <= 50:\n",
        "  print(c)\n",
        "  p, c = c, p+c\n",
        "  i += 1"
      ]
    },
    {
      "cell_type": "markdown",
      "metadata": {
        "id": "b6gbB37NniOf"
      },
      "source": [
        "#프로그래밍과 데이터 in Python"
      ]
    },
    {
      "cell_type": "markdown",
      "metadata": {
        "id": "Cb-dpm3inp8f"
      },
      "source": [
        "##리스트\n",
        "- 리스트 (list) : 여러 개의 값을 저장할 때 사용\n",
        "- 하나의 값들을 리스트의 요소라고 부름\n",
        "- 인덱스 : 요소의 위치\n",
        "- 인덱싱 : 요소를 가져오는 것\n",
        "- 슬라이싱 : 리스트를 자르는 것"
      ]
    },
    {
      "cell_type": "code",
      "execution_count": null,
      "metadata": {
        "colab": {
          "base_uri": "https://localhost:8080/"
        },
        "id": "gi8du9t_D5MT",
        "outputId": "5e0eab1b-2c6b-4dd2-9296-f7b0abc7b183"
      },
      "outputs": [
        {
          "name": "stdout",
          "output_type": "stream",
          "text": [
            "[2, 3, 5, 7, 11, 13]\n",
            "['윤수', '헤린', '태호', '영훈']\n"
          ]
        }
      ],
      "source": [
        "numbers = [2, 3, 5, 7, 11, 13]\n",
        "names = [\"윤수\", \"헤린\", \"태호\", \"영훈\"]\n",
        "\n",
        "print(numbers)\n",
        "print(names)"
      ]
    },
    {
      "cell_type": "markdown",
      "metadata": {
        "id": "LtHp4Y9pntAn"
      },
      "source": [
        "### 인덱싱 (indexing)"
      ]
    },
    {
      "cell_type": "code",
      "execution_count": null,
      "metadata": {
        "colab": {
          "base_uri": "https://localhost:8080/"
        },
        "id": "OiK181lFEBbd",
        "outputId": "0ebcd443-1081-442b-cbba-f2e09525f541"
      },
      "outputs": [
        {
          "name": "stdout",
          "output_type": "stream",
          "text": [
            "윤수\n"
          ]
        }
      ],
      "source": [
        "print(names[0])"
      ]
    },
    {
      "cell_type": "code",
      "execution_count": null,
      "metadata": {
        "colab": {
          "base_uri": "https://localhost:8080/"
        },
        "id": "i4r1CBzHEbsd",
        "outputId": "a47d8d7e-beca-4127-cadc-f3ec73d95cb4"
      },
      "outputs": [
        {
          "name": "stdout",
          "output_type": "stream",
          "text": [
            "10\n"
          ]
        }
      ],
      "source": [
        "print(numbers[1] + numbers[3])"
      ]
    },
    {
      "cell_type": "code",
      "execution_count": null,
      "metadata": {
        "colab": {
          "base_uri": "https://localhost:8080/"
        },
        "id": "L8DoLwToE4NI",
        "outputId": "7709d2c1-fe91-4db8-b2ea-3a767282775b"
      },
      "outputs": [
        {
          "name": "stdout",
          "output_type": "stream",
          "text": [
            "10\n"
          ]
        }
      ],
      "source": [
        "num_1 = numbers[1]\n",
        "num_3 = numbers[3]\n",
        "print(num_1 + num_3)"
      ]
    },
    {
      "cell_type": "code",
      "execution_count": null,
      "metadata": {
        "colab": {
          "base_uri": "https://localhost:8080/"
        },
        "id": "uok8JtAAFGt2",
        "outputId": "6a7a288e-41b5-496d-a49b-7a32b53b4910"
      },
      "outputs": [
        {
          "data": {
            "text/plain": [
              "6"
            ]
          },
          "execution_count": 421,
          "metadata": {},
          "output_type": "execute_result"
        }
      ],
      "source": [
        "len(numbers)"
      ]
    },
    {
      "cell_type": "code",
      "execution_count": null,
      "metadata": {
        "colab": {
          "base_uri": "https://localhost:8080/"
        },
        "id": "6eQOgv_5FJB9",
        "outputId": "cf7f92e6-29e8-4504-8fab-e448b58f0b1a"
      },
      "outputs": [
        {
          "name": "stdout",
          "output_type": "stream",
          "text": [
            "13\n",
            "11\n",
            "2\n"
          ]
        }
      ],
      "source": [
        "print(numbers[-1])\n",
        "print(numbers[-2])\n",
        "print(numbers[-6])"
      ]
    },
    {
      "cell_type": "markdown",
      "metadata": {
        "id": "R1-aC91NnveP"
      },
      "source": [
        "### 리스트 슬라이싱 (list slicing)"
      ]
    },
    {
      "cell_type": "code",
      "execution_count": null,
      "metadata": {
        "colab": {
          "base_uri": "https://localhost:8080/"
        },
        "id": "Or1YczxWFMrj",
        "outputId": "e463828b-48ab-457a-b2d1-53868a63d051"
      },
      "outputs": [
        {
          "data": {
            "text/plain": [
              "[2, 3, 5]"
            ]
          },
          "execution_count": 432,
          "metadata": {},
          "output_type": "execute_result"
        }
      ],
      "source": [
        "numbers[0:4] # 인덱스 0부터 인덱스 3까지 출력\n",
        "numbers[2:] # 인덱스 2부터 시작해서 끝까지\n",
        "numbers[:3] # 맨 앞에서 인덱스 2까지"
      ]
    },
    {
      "cell_type": "code",
      "execution_count": null,
      "metadata": {
        "colab": {
          "base_uri": "https://localhost:8080/"
        },
        "id": "uAZ447rkFiqC",
        "outputId": "3c3b965f-0da2-459d-f7db-398fc65c2fa7"
      },
      "outputs": [
        {
          "name": "stdout",
          "output_type": "stream",
          "text": [
            "5\n"
          ]
        }
      ],
      "source": [
        "new_list = numbers[:3] # 2, 3, 5\n",
        "print(new_list[2])"
      ]
    },
    {
      "cell_type": "code",
      "execution_count": null,
      "metadata": {
        "colab": {
          "base_uri": "https://localhost:8080/"
        },
        "id": "Z6VN6GObGHv4",
        "outputId": "7f77cecf-c926-4cd6-fc0e-aa56585707ae"
      },
      "outputs": [
        {
          "name": "stdout",
          "output_type": "stream",
          "text": [
            "[7, 3, 5, 7, 11, 13]\n"
          ]
        }
      ],
      "source": [
        "numbers[0] = 7\n",
        "print(numbers)"
      ]
    },
    {
      "cell_type": "code",
      "execution_count": null,
      "metadata": {
        "colab": {
          "base_uri": "https://localhost:8080/"
        },
        "id": "6TxwsHRbGQvS",
        "outputId": "ad225c77-db87-47ae-c80d-d7a8446c7bc2"
      },
      "outputs": [
        {
          "name": "stdout",
          "output_type": "stream",
          "text": [
            "[10, 3, 5, 7, 11, 13]\n"
          ]
        }
      ],
      "source": [
        "numbers[0] = numbers[0] + numbers[1]\n",
        "print(numbers)"
      ]
    },
    {
      "cell_type": "markdown",
      "metadata": {
        "id": "740DzkqNn5g8"
      },
      "source": [
        "### 리스트 함수"
      ]
    },
    {
      "cell_type": "code",
      "execution_count": null,
      "metadata": {
        "colab": {
          "base_uri": "https://localhost:8080/"
        },
        "id": "2vYPHNRyGgpN",
        "outputId": "21a67eac-d0f9-4bf6-ad54-04429668b709"
      },
      "outputs": [
        {
          "name": "stdout",
          "output_type": "stream",
          "text": [
            "0\n"
          ]
        }
      ],
      "source": [
        "numbers = []\n",
        "print(len(numbers)) # 리스트 안에 몇 개의 요소가 있는지 확인 가능"
      ]
    },
    {
      "cell_type": "code",
      "execution_count": null,
      "metadata": {
        "colab": {
          "base_uri": "https://localhost:8080/"
        },
        "id": "tnr7mQEwGi6X",
        "outputId": "62b68bf5-1e85-4578-f8b2-a857405f2bca"
      },
      "outputs": [
        {
          "name": "stdout",
          "output_type": "stream",
          "text": [
            "[5, 8]\n",
            "2\n"
          ]
        }
      ],
      "source": [
        "numbers = []\n",
        "numbers.append(5)\n",
        "numbers.append(8)\n",
        "print(numbers)\n",
        "print(len(numbers))"
      ]
    },
    {
      "cell_type": "code",
      "execution_count": null,
      "metadata": {
        "colab": {
          "base_uri": "https://localhost:8080/"
        },
        "id": "p8LouzYqGxeH",
        "outputId": "0981e0ed-a8f5-465f-e854-165e8fa71e6b"
      },
      "outputs": [
        {
          "name": "stdout",
          "output_type": "stream",
          "text": [
            "[2, 3, 5, 11, 13, 17, 19]\n"
          ]
        }
      ],
      "source": [
        "numbers = [2, 3, 5, 7, 11, 13, 17, 19]\n",
        "del numbers[3]\n",
        "print(numbers)"
      ]
    },
    {
      "cell_type": "code",
      "execution_count": null,
      "metadata": {
        "colab": {
          "base_uri": "https://localhost:8080/"
        },
        "id": "UdwC0y1SHGIT",
        "outputId": "4576828a-3960-486c-ebd2-5ce5be7754bf"
      },
      "outputs": [
        {
          "name": "stdout",
          "output_type": "stream",
          "text": [
            "[2, 3, 5, 7, 37, 11, 13, 17, 19]\n"
          ]
        }
      ],
      "source": [
        "numbers = [2, 3, 5, 7, 11, 13, 17, 19]\n",
        "numbers.insert(4, 37) # 4번째 인덱스에 37을 삽입\n",
        "print(numbers)"
      ]
    },
    {
      "cell_type": "markdown",
      "metadata": {
        "id": "nYQPccZtn90p"
      },
      "source": [
        "### 리스트 정렬\n",
        "- sorted와 sort를 모두 쓸 수 있지만 서로 다름\n",
        "- sorted: 기존 리스트는 건드리지 않고, 정렬된 새로운 리스트를 리턴\n",
        "- sort: 아무것도 리턴하지 않고, 기존 리스트를 정렬"
      ]
    },
    {
      "cell_type": "code",
      "execution_count": null,
      "metadata": {
        "id": "UtEsfp5UHcJq"
      },
      "outputs": [],
      "source": [
        "numbers = [19, 13, 2, 5, 3, 11, 7, 17]"
      ]
    },
    {
      "cell_type": "code",
      "execution_count": null,
      "metadata": {
        "colab": {
          "base_uri": "https://localhost:8080/"
        },
        "id": "xXg8TPeuHeYo",
        "outputId": "ab6e25ed-cb3a-44aa-f4b4-adda2dc80529"
      },
      "outputs": [
        {
          "name": "stdout",
          "output_type": "stream",
          "text": [
            "[19, 17, 13, 11, 7, 5, 3, 2]\n"
          ]
        }
      ],
      "source": [
        "new_list = sorted(numbers, reverse=True) # 정렬된 새로운 리스트가 리턴\n",
        "print(new_list)"
      ]
    },
    {
      "cell_type": "code",
      "execution_count": null,
      "metadata": {
        "colab": {
          "base_uri": "https://localhost:8080/"
        },
        "id": "BdTPGc-rHiYV",
        "outputId": "fba37851-0864-4b3a-bce1-ade1b5881272"
      },
      "outputs": [
        {
          "name": "stdout",
          "output_type": "stream",
          "text": [
            "[19, 13, 2, 5, 3, 11, 7, 17]\n"
          ]
        }
      ],
      "source": [
        "print(numbers)"
      ]
    },
    {
      "cell_type": "code",
      "execution_count": null,
      "metadata": {
        "colab": {
          "base_uri": "https://localhost:8080/"
        },
        "id": "Wy5nk3c_Hzbw",
        "outputId": "e99743ac-ddc8-4ba7-d564-7ede378bfdcc"
      },
      "outputs": [
        {
          "name": "stdout",
          "output_type": "stream",
          "text": [
            "None\n"
          ]
        }
      ],
      "source": [
        "print(numbers.sort()) # sort는 아무것도 리턴하지 않고, numbers 자체를 정렬함"
      ]
    },
    {
      "cell_type": "code",
      "execution_count": null,
      "metadata": {
        "colab": {
          "base_uri": "https://localhost:8080/"
        },
        "id": "bPxti8FsH6Za",
        "outputId": "21e7c731-d9ce-412e-a678-cab993ecf19b"
      },
      "outputs": [
        {
          "name": "stdout",
          "output_type": "stream",
          "text": [
            "[19, 17, 13, 11, 7, 5, 3, 2]\n"
          ]
        }
      ],
      "source": [
        "numbers.sort(reverse=True)\n",
        "print(numbers)"
      ]
    },
    {
      "cell_type": "markdown",
      "metadata": {
        "id": "9Z-RTK1uoIUG"
      },
      "source": [
        "### 퀴즈) 리스트 인덱싱 연습\n",
        "https://www.codeit.kr/topics/python-programming-and-data/lessons/2793"
      ]
    },
    {
      "cell_type": "code",
      "execution_count": null,
      "metadata": {
        "id": "Q35ArM6wITAB"
      },
      "outputs": [],
      "source": [
        "greetings = [\"안녕\", \"니하오\", \"곤니찌와\", \"올라\", \"싸와디캅\", \"헬로\", \"봉주르\"]"
      ]
    },
    {
      "cell_type": "code",
      "execution_count": null,
      "metadata": {
        "colab": {
          "base_uri": "https://localhost:8080/"
        },
        "id": "ChhsMMO_Irc7",
        "outputId": "f0602361-c755-4d66-e739-38dac654d8d5"
      },
      "outputs": [
        {
          "data": {
            "text/plain": [
              "range(0, 7)"
            ]
          },
          "execution_count": 460,
          "metadata": {},
          "output_type": "execute_result"
        }
      ],
      "source": [
        "range(len(greetings))"
      ]
    },
    {
      "cell_type": "code",
      "execution_count": null,
      "metadata": {
        "colab": {
          "base_uri": "https://localhost:8080/"
        },
        "id": "jMBdebzBIibI",
        "outputId": "da1ebd7d-8eca-4f24-c3d9-9721c48a482f"
      },
      "outputs": [
        {
          "name": "stdout",
          "output_type": "stream",
          "text": [
            "안녕\n",
            "니하오\n",
            "곤니찌와\n",
            "올라\n",
            "싸와디캅\n",
            "헬로\n",
            "봉주르\n"
          ]
        }
      ],
      "source": [
        "i = 0\n",
        "\n",
        "while i < len(greetings):\n",
        "  print(greetings[i])\n",
        "  i += 1"
      ]
    },
    {
      "cell_type": "markdown",
      "metadata": {
        "id": "CN5ZPFHkoNBw"
      },
      "source": [
        "### 퀴즈) 온도 단위 바꾸기\n",
        "https://www.codeit.kr/topics/python-programming-and-data/lessons/2794"
      ]
    },
    {
      "cell_type": "code",
      "execution_count": null,
      "metadata": {
        "colab": {
          "base_uri": "https://localhost:8080/"
        },
        "id": "p8-5doAWKjs1",
        "outputId": "a8c9b5b4-0d56-4790-d445-b99a0ed13dbe"
      },
      "outputs": [
        {
          "name": "stdout",
          "output_type": "stream",
          "text": [
            "화씨 온도 리스트: [40, 15, 32, 64, -4, 11]\n",
            "섭씨 온도 리스트: [4.4, -9.4, 0.0, 17.8, -20.0, -11.7]\n"
          ]
        }
      ],
      "source": [
        "def fahrenheit_to_celsius(fahrenheit):\n",
        "    celsius = round(((fahrenheit-32) * 5) / 9, 1)\n",
        "    return celsius\n",
        "\n",
        "temperature_list = [40, 15, 32, 64, -4, 11]\n",
        "print(\"화씨 온도 리스트: {}\".format(temperature_list))  # 화씨 온도 출력\n",
        "\n",
        "i = 0\n",
        "celcius_list = []\n",
        "while i < len(temperature_list):\n",
        "  celcius_list.append(fahrenheit_to_celsius(temperature_list[i]))\n",
        "  i += 1\n",
        "\n",
        "print(\"섭씨 온도 리스트: {}\".format(celcius_list))  # 섭씨 온도 출력\n"
      ]
    },
    {
      "cell_type": "markdown",
      "metadata": {
        "id": "2yVB0uOOK-UL"
      },
      "source": [
        "### 퀴즈) 환전 서비스\n",
        "https://www.codeit.kr/topics/python-programming-and-data/lessons/2795"
      ]
    },
    {
      "cell_type": "code",
      "execution_count": null,
      "metadata": {
        "colab": {
          "base_uri": "https://localhost:8080/"
        },
        "id": "DnX2sakfMEYp",
        "outputId": "42fd9b0d-c6dc-4feb-da81-e69084e5c155"
      },
      "outputs": [
        {
          "name": "stdout",
          "output_type": "stream",
          "text": [
            "한국 화폐: [34000, 13000, 5000, 21000, 1000, 2000, 8000, 3000]\n",
            "미국 화폐: [34.0, 13.0, 5.0, 21.0, 1.0, 2.0, 8.0, 3.0]\n",
            "일본 화폐: [4250.0, 1625.0, 625.0, 2625.0, 125.0, 250.0, 1000.0, 375.0]\n"
          ]
        }
      ],
      "source": [
        "def krw_to_usd(krw):\n",
        "    usd = krw * (1 / 1000)\n",
        "    return usd\n",
        "\n",
        "def usd_to_jpy(usd):\n",
        "    jpy = usd * (1000 / 8)\n",
        "    return jpy\n",
        "\n",
        "prices = [34000, 13000, 5000, 21000, 1000, 2000, 8000, 3000]\n",
        "print(\"한국 화폐: \" + str(prices))\n",
        "\n",
        "i = 0\n",
        "usd_list = []\n",
        "while i < len(prices):\n",
        "  usd_list.append(krw_to_usd(prices[i]))\n",
        "  i += 1\n",
        "\n",
        "print(\"미국 화폐: \" + str(usd_list))\n",
        "\n",
        "j = 0\n",
        "jpy_list = []\n",
        "while j < len(prices):\n",
        "  jpy_list.append(usd_to_jpy(krw_to_usd(prices[j])))\n",
        "  j += 1\n",
        "\n",
        "print(\"일본 화폐: \" + str(jpy_list))"
      ]
    },
    {
      "cell_type": "markdown",
      "metadata": {
        "id": "iZ447-LuoVfO"
      },
      "source": [
        "### 퀴즈) 리스트 함수 활용하기\n",
        "https://www.codeit.kr/topics/python-programming-and-data/lessons/2796"
      ]
    },
    {
      "cell_type": "code",
      "execution_count": null,
      "metadata": {
        "colab": {
          "base_uri": "https://localhost:8080/"
        },
        "id": "uUv5-drMP0G_",
        "outputId": "12ed9c3c-f1b2-4317-ea64-7fc09d086fa5"
      },
      "outputs": [
        {
          "name": "stdout",
          "output_type": "stream",
          "text": [
            "[]\n"
          ]
        }
      ],
      "source": [
        "numbers = []\n",
        "print(numbers)"
      ]
    },
    {
      "cell_type": "code",
      "execution_count": null,
      "metadata": {
        "colab": {
          "base_uri": "https://localhost:8080/"
        },
        "id": "bQWd01j6P2qd",
        "outputId": "ddcccc9b-cf1f-4d09-ac4f-aec44a10c241"
      },
      "outputs": [
        {
          "name": "stdout",
          "output_type": "stream",
          "text": [
            "[1, 7, 3, 6, 5, 2, 13, 14]\n"
          ]
        }
      ],
      "source": [
        "numbers.append(1)\n",
        "numbers.append(7)\n",
        "numbers.append(3)\n",
        "numbers.append(6)\n",
        "numbers.append(5)\n",
        "numbers.append(2)\n",
        "numbers.append(13)\n",
        "numbers.append(14)\n",
        "print(numbers)"
      ]
    },
    {
      "cell_type": "code",
      "execution_count": null,
      "metadata": {
        "id": "-QTIv-xGP8MY"
      },
      "outputs": [],
      "source": [
        "i = 0\n",
        "while i < len(numbers):\n",
        "  if numbers[i] % 2 != 0:\n",
        "    del numbers[i]\n",
        "  else:\n",
        "    i += 1"
      ]
    },
    {
      "cell_type": "code",
      "execution_count": null,
      "metadata": {
        "colab": {
          "base_uri": "https://localhost:8080/"
        },
        "id": "qUKf-G7mQPJ8",
        "outputId": "c65aed3a-1244-4720-f930-2581ceef4e7c"
      },
      "outputs": [
        {
          "data": {
            "text/plain": [
              "[6, 2, 14]"
            ]
          },
          "execution_count": 558,
          "metadata": {},
          "output_type": "execute_result"
        }
      ],
      "source": [
        "numbers"
      ]
    },
    {
      "cell_type": "code",
      "execution_count": null,
      "metadata": {
        "colab": {
          "base_uri": "https://localhost:8080/"
        },
        "id": "Kd5Q__79Qs03",
        "outputId": "4a873e08-a9bf-425e-a184-36c2d58fae76"
      },
      "outputs": [
        {
          "name": "stdout",
          "output_type": "stream",
          "text": [
            "[20, 6, 2, 14]\n"
          ]
        }
      ],
      "source": [
        "numbers.insert(0, 20)\n",
        "print(numbers)"
      ]
    },
    {
      "cell_type": "code",
      "execution_count": null,
      "metadata": {
        "colab": {
          "base_uri": "https://localhost:8080/"
        },
        "id": "aRphvsCbRRyM",
        "outputId": "c9fe339c-d9a3-4dde-e4d0-69e92183515d"
      },
      "outputs": [
        {
          "name": "stdout",
          "output_type": "stream",
          "text": [
            "[2, 6, 14, 20]\n"
          ]
        }
      ],
      "source": [
        "numbers.sort()\n",
        "print(numbers)"
      ]
    },
    {
      "cell_type": "markdown",
      "metadata": {
        "id": "rAEzfHhGoY0E"
      },
      "source": [
        "### 리스트 꿀팁"
      ]
    },
    {
      "cell_type": "code",
      "execution_count": null,
      "metadata": {
        "id": "3pDpCRm6SrQH"
      },
      "outputs": [],
      "source": [
        "def in_list(some_list, value):\n",
        "  i = 0\n",
        "  while i < len(some_list):\n",
        "    if some_list[i] == value:\n",
        "      return True\n",
        "    i += 1\n",
        "  return False"
      ]
    },
    {
      "cell_type": "code",
      "execution_count": null,
      "metadata": {
        "colab": {
          "base_uri": "https://localhost:8080/"
        },
        "id": "SfRT4Y2sS5gS",
        "outputId": "1f588954-2029-408e-dc91-c2a4f6f7f286"
      },
      "outputs": [
        {
          "name": "stdout",
          "output_type": "stream",
          "text": [
            "True\n",
            "False\n"
          ]
        }
      ],
      "source": [
        "primes = [2, 3, 5, 7, 11, 13, 17, 19, 23]\n",
        "print(in_list(primes, 7))\n",
        "print(in_list(primes, 12))"
      ]
    },
    {
      "cell_type": "code",
      "execution_count": null,
      "metadata": {
        "colab": {
          "base_uri": "https://localhost:8080/"
        },
        "id": "DsZduCILTLO5",
        "outputId": "084a4610-2627-40f7-bf3f-28fe68441f0c"
      },
      "outputs": [
        {
          "name": "stdout",
          "output_type": "stream",
          "text": [
            "True\n",
            "False\n"
          ]
        }
      ],
      "source": [
        "primes = [2, 3, 5, 7, 11, 13, 17, 19, 23]\n",
        "print(7 in primes)\n",
        "print(12 in primes)"
      ]
    },
    {
      "cell_type": "code",
      "execution_count": null,
      "metadata": {
        "colab": {
          "base_uri": "https://localhost:8080/"
        },
        "id": "y0cLv-qXTkm8",
        "outputId": "ddb58fa1-916f-4b93-928e-2a83b94d6531"
      },
      "outputs": [
        {
          "name": "stdout",
          "output_type": "stream",
          "text": [
            "False\n",
            "True\n"
          ]
        }
      ],
      "source": [
        "primes = [2, 3, 5, 7, 11, 13, 17, 19, 23]\n",
        "print(7 not in primes)\n",
        "print(12 not in primes)"
      ]
    },
    {
      "cell_type": "markdown",
      "metadata": {
        "id": "BM2z4c7iof0C"
      },
      "source": [
        "리스트 안의 리스트 (Nested List)"
      ]
    },
    {
      "cell_type": "code",
      "execution_count": null,
      "metadata": {
        "colab": {
          "base_uri": "https://localhost:8080/"
        },
        "id": "d0MeinrCTnnB",
        "outputId": "33b9f79f-f8e0-415a-8936-901aa0b73dc3"
      },
      "outputs": [
        {
          "name": "stdout",
          "output_type": "stream",
          "text": [
            "[62, 75, 77]\n",
            "[85, 91, 89]\n",
            "62\n",
            "91\n",
            "75.0\n"
          ]
        }
      ],
      "source": [
        "grades = [[62, 75, 77], [78, 81, 86], [85, 91, 89]]\n",
        "print(grades[0])\n",
        "print(grades[2])\n",
        "print(grades[0][0])\n",
        "print(grades[2][1])\n",
        "print((grades[0][0] + grades[1][0] + grades[2][0]) / 3)"
      ]
    },
    {
      "cell_type": "markdown",
      "metadata": {
        "id": "siTIc0VAokn3"
      },
      "source": [
        "sort 메소드\n",
        "- sorted 함수는 새로운 리스트를 리턴시키는 반면\n",
        "- sort()는 새로운 리스트를 생성하지 않고 정렬된 상태로 바꿔줌"
      ]
    },
    {
      "cell_type": "code",
      "execution_count": null,
      "metadata": {
        "colab": {
          "base_uri": "https://localhost:8080/"
        },
        "id": "MgLF3MuGTzlm",
        "outputId": "48b3a3e0-2a83-4e19-9846-04c1883e311d"
      },
      "outputs": [
        {
          "name": "stdout",
          "output_type": "stream",
          "text": [
            "[1, 3, 5, 7]\n"
          ]
        }
      ],
      "source": [
        "numbers = [5, 3, 7, 1]\n",
        "numbers.sort()\n",
        "print(numbers)"
      ]
    },
    {
      "cell_type": "markdown",
      "metadata": {
        "id": "HRSiYddVonLb"
      },
      "source": [
        "reverse 메소드\n",
        "- 원소들을 뒤집어진 순서로 배치"
      ]
    },
    {
      "cell_type": "code",
      "execution_count": null,
      "metadata": {
        "colab": {
          "base_uri": "https://localhost:8080/"
        },
        "id": "J_af6ZUBUUCj",
        "outputId": "43476cb8-acd8-406a-d159-c202e07c0c98"
      },
      "outputs": [
        {
          "name": "stdout",
          "output_type": "stream",
          "text": [
            "[1, 7, 3, 5]\n"
          ]
        }
      ],
      "source": [
        "numbers = [5, 3, 7, 1]\n",
        "numbers.reverse()\n",
        "print(numbers)"
      ]
    },
    {
      "cell_type": "markdown",
      "metadata": {
        "id": "J7j_RN1Lopn6"
      },
      "source": [
        "index 메소드\n",
        "- 인덱스의 값을 리턴해줌"
      ]
    },
    {
      "cell_type": "code",
      "execution_count": null,
      "metadata": {
        "colab": {
          "base_uri": "https://localhost:8080/"
        },
        "id": "s0pWsNf4UlpL",
        "outputId": "252498a3-6f39-40af-d8c3-12fc0ae30c20"
      },
      "outputs": [
        {
          "name": "stdout",
          "output_type": "stream",
          "text": [
            "1\n",
            "2\n"
          ]
        }
      ],
      "source": [
        "members = [\"영훈\", \"윤수\", \"태호\", \"혜린\"]\n",
        "print(members.index(\"윤수\"))\n",
        "print(members.index(\"태호\"))"
      ]
    },
    {
      "cell_type": "markdown",
      "metadata": {
        "id": "tgqLz8S3osNj"
      },
      "source": [
        "remove 메소드\n",
        "- 첫 번째로 x의 값을 가지고 있는 원소를 삭제"
      ]
    },
    {
      "cell_type": "code",
      "execution_count": null,
      "metadata": {
        "colab": {
          "base_uri": "https://localhost:8080/"
        },
        "id": "TziMQOFIU9QA",
        "outputId": "5d566c0c-9da7-4ae7-ba9c-11c103f036b7"
      },
      "outputs": [
        {
          "name": "stdout",
          "output_type": "stream",
          "text": [
            "['딸기', '당근', '수박', '참외', '메론']\n"
          ]
        }
      ],
      "source": [
        "fruits = [\"딸기\", \"당근\", \"파인애플\", \"수박\", \"참외\", \"메론\"]\n",
        "fruits.remove(\"파인애플\")\n",
        "print(fruits)"
      ]
    },
    {
      "cell_type": "markdown",
      "metadata": {
        "id": "o-hPSBBToxDP"
      },
      "source": [
        "##for 반복문\n",
        "- for문은 while문과는 다르게 조건 부분이 없음"
      ]
    },
    {
      "cell_type": "code",
      "execution_count": null,
      "metadata": {
        "colab": {
          "base_uri": "https://localhost:8080/"
        },
        "id": "N7Rm9LmFYMxP",
        "outputId": "a4f9db6b-a3a9-422c-d1db-01224075e731"
      },
      "outputs": [
        {
          "name": "stdout",
          "output_type": "stream",
          "text": [
            "2\n",
            "3\n",
            "5\n",
            "7\n",
            "11\n"
          ]
        }
      ],
      "source": [
        "my_list = [2, 3, 5, 7, 11]\n",
        "\n",
        "for num in my_list:\n",
        "  print(num)"
      ]
    },
    {
      "cell_type": "markdown",
      "metadata": {
        "id": "EYBZZEkho1R5"
      },
      "source": [
        "### range 함수\n",
        "- 파라미터 1개 버전 : range(stop) -> 0부터 stop-1까지\n",
        "- 파라미터 2개 버전 : range(start, stop) -> start부터 stop-1까지의 범위\n",
        "- 파라미터 3개 버전 : range(start, stop, step) -> start부터 stop-1까지의 범위, 간격 step\n",
        "- range 함수의 장점 1) 간편함 2) 깔끔함 3) 메모리 효율성"
      ]
    },
    {
      "cell_type": "code",
      "execution_count": null,
      "metadata": {
        "colab": {
          "base_uri": "https://localhost:8080/"
        },
        "id": "DgWJVna0Y9V-",
        "outputId": "8dd519ef-f6a5-4899-dfe5-b63218d9d1e0"
      },
      "outputs": [
        {
          "name": "stdout",
          "output_type": "stream",
          "text": [
            "1\n",
            "2\n",
            "3\n",
            "4\n",
            "5\n",
            "6\n",
            "7\n",
            "8\n",
            "9\n",
            "10\n"
          ]
        }
      ],
      "source": [
        "for i in range(1, 11):\n",
        "  print(i)"
      ]
    },
    {
      "cell_type": "markdown",
      "metadata": {
        "id": "xlpM-Xwjo5pw"
      },
      "source": [
        "### 퀴즈) range 연습\n",
        "https://www.codeit.kr/topics/python-programming-and-data/lessons/2799"
      ]
    },
    {
      "cell_type": "code",
      "execution_count": null,
      "metadata": {
        "colab": {
          "base_uri": "https://localhost:8080/"
        },
        "id": "QPjqN3TtaKTy",
        "outputId": "ed6340e5-e2bb-4b33-d5ab-889891744716"
      },
      "outputs": [
        {
          "name": "stdout",
          "output_type": "stream",
          "text": [
            "0 2\n",
            "1 3\n",
            "2 5\n",
            "3 7\n",
            "4 11\n",
            "5 13\n",
            "6 17\n",
            "7 19\n",
            "8 23\n",
            "9 29\n",
            "10 31\n"
          ]
        }
      ],
      "source": [
        "numbers = [2, 3, 5, 7, 11, 13, 17, 19, 23, 29, 31]\n",
        "\n",
        "i = 0\n",
        "for num in numbers:\n",
        "  print(i, num)\n",
        "  i += 1"
      ]
    },
    {
      "cell_type": "markdown",
      "metadata": {
        "id": "7uB76zZAo9h4"
      },
      "source": [
        "### 퀴즈) 거듭제곱\n",
        "https://www.codeit.kr/topics/python-programming-and-data/lessons/2800"
      ]
    },
    {
      "cell_type": "code",
      "execution_count": null,
      "metadata": {
        "colab": {
          "base_uri": "https://localhost:8080/"
        },
        "id": "kXSrFOSebEVS",
        "outputId": "29168ae4-8c46-402c-80cd-7ed68d857505"
      },
      "outputs": [
        {
          "name": "stdout",
          "output_type": "stream",
          "text": [
            "2^0 = 1\n",
            "2^1 = 2\n",
            "2^2 = 4\n",
            "2^3 = 8\n",
            "2^4 = 16\n",
            "2^5 = 32\n",
            "2^6 = 64\n",
            "2^7 = 128\n",
            "2^8 = 256\n",
            "2^9 = 512\n",
            "2^10 = 1024\n"
          ]
        }
      ],
      "source": [
        "for i in range(11):\n",
        "  print(\"2^{} = {}\".format(i, 2 ** i))"
      ]
    },
    {
      "cell_type": "markdown",
      "metadata": {
        "id": "4Cqzw7xdpBbh"
      },
      "source": [
        "### 퀴즈) for문으로 구구단\n",
        "https://www.codeit.kr/topics/python-programming-and-data/lessons/2801"
      ]
    },
    {
      "cell_type": "code",
      "execution_count": null,
      "metadata": {
        "colab": {
          "base_uri": "https://localhost:8080/"
        },
        "id": "yr3J0LSCbSI2",
        "outputId": "fa61ff19-92db-4107-b01b-11b1c4db8406"
      },
      "outputs": [
        {
          "name": "stdout",
          "output_type": "stream",
          "text": [
            "1 * 1 = 1\n",
            "1 * 2 = 2\n",
            "1 * 3 = 3\n",
            "1 * 4 = 4\n",
            "1 * 5 = 5\n",
            "1 * 6 = 6\n",
            "1 * 7 = 7\n",
            "1 * 8 = 8\n",
            "1 * 9 = 9\n",
            "2 * 1 = 2\n",
            "2 * 2 = 4\n",
            "2 * 3 = 6\n",
            "2 * 4 = 8\n",
            "2 * 5 = 10\n",
            "2 * 6 = 12\n",
            "2 * 7 = 14\n",
            "2 * 8 = 16\n",
            "2 * 9 = 18\n",
            "3 * 1 = 3\n",
            "3 * 2 = 6\n",
            "3 * 3 = 9\n",
            "3 * 4 = 12\n",
            "3 * 5 = 15\n",
            "3 * 6 = 18\n",
            "3 * 7 = 21\n",
            "3 * 8 = 24\n",
            "3 * 9 = 27\n",
            "4 * 1 = 4\n",
            "4 * 2 = 8\n",
            "4 * 3 = 12\n",
            "4 * 4 = 16\n",
            "4 * 5 = 20\n",
            "4 * 6 = 24\n",
            "4 * 7 = 28\n",
            "4 * 8 = 32\n",
            "4 * 9 = 36\n",
            "5 * 1 = 5\n",
            "5 * 2 = 10\n",
            "5 * 3 = 15\n",
            "5 * 4 = 20\n",
            "5 * 5 = 25\n",
            "5 * 6 = 30\n",
            "5 * 7 = 35\n",
            "5 * 8 = 40\n",
            "5 * 9 = 45\n",
            "6 * 1 = 6\n",
            "6 * 2 = 12\n",
            "6 * 3 = 18\n",
            "6 * 4 = 24\n",
            "6 * 5 = 30\n",
            "6 * 6 = 36\n",
            "6 * 7 = 42\n",
            "6 * 8 = 48\n",
            "6 * 9 = 54\n",
            "7 * 1 = 7\n",
            "7 * 2 = 14\n",
            "7 * 3 = 21\n",
            "7 * 4 = 28\n",
            "7 * 5 = 35\n",
            "7 * 6 = 42\n",
            "7 * 7 = 49\n",
            "7 * 8 = 56\n",
            "7 * 9 = 63\n",
            "8 * 1 = 8\n",
            "8 * 2 = 16\n",
            "8 * 3 = 24\n",
            "8 * 4 = 32\n",
            "8 * 5 = 40\n",
            "8 * 6 = 48\n",
            "8 * 7 = 56\n",
            "8 * 8 = 64\n",
            "8 * 9 = 72\n",
            "9 * 1 = 9\n",
            "9 * 2 = 18\n",
            "9 * 3 = 27\n",
            "9 * 4 = 36\n",
            "9 * 5 = 45\n",
            "9 * 6 = 54\n",
            "9 * 7 = 63\n",
            "9 * 8 = 72\n",
            "9 * 9 = 81\n"
          ]
        }
      ],
      "source": [
        "for i in range(1, 10):\n",
        "  for j in range(1, 10):\n",
        "    print(\"{} * {} = {}\".format(i, j, i*j))"
      ]
    },
    {
      "cell_type": "markdown",
      "metadata": {
        "id": "QvoUFmxHpGfM"
      },
      "source": [
        "### 퀴즈) 피타고라스 삼조\n",
        "https://www.codeit.kr/topics/python-programming-and-data/lessons/2802"
      ]
    },
    {
      "cell_type": "code",
      "execution_count": null,
      "metadata": {
        "colab": {
          "base_uri": "https://localhost:8080/"
        },
        "id": "HspQP6wvb-5s",
        "outputId": "9e9e947d-1896-42fd-8edd-ba2fcb77cf35"
      },
      "outputs": [
        {
          "name": "stdout",
          "output_type": "stream",
          "text": [
            "2040000\n"
          ]
        }
      ],
      "source": [
        "for a in range(1,400):\n",
        "  for b in range(1, 400):\n",
        "    c = 400 - a - b # 계산 속도를 빠르게 하기 위함\n",
        "    if (a < b < c) & (a*a + b*b == c*c):\n",
        "      print(a * b * c)"
      ]
    },
    {
      "cell_type": "markdown",
      "metadata": {
        "id": "LsbA7ZlKpKzS"
      },
      "source": [
        "### 퀴즈) 리스트 뒤집기\n",
        "https://www.codeit.kr/topics/python-programming-and-data/lessons/2803"
      ]
    },
    {
      "cell_type": "code",
      "execution_count": null,
      "metadata": {
        "id": "yqDza_BfVfJO"
      },
      "outputs": [],
      "source": [
        "numbers = [2, 3, 5, 7, 11, 13, 17, 19]"
      ]
    },
    {
      "cell_type": "code",
      "execution_count": null,
      "metadata": {
        "colab": {
          "base_uri": "https://localhost:8080/"
        },
        "id": "ty9LSXPTe565",
        "outputId": "b7094c41-0ee4-4168-b332-71ea34effcf1"
      },
      "outputs": [
        {
          "name": "stdout",
          "output_type": "stream",
          "text": [
            "[19, 17, 13, 11, 7, 5, 3, 2]\n"
          ]
        }
      ],
      "source": [
        "for left in range(len(numbers) // 2):\n",
        "  right = len(numbers) - left - 1\n",
        "  numbers[left], numbers[right] = numbers[right], numbers[left]\n",
        "\n",
        "print(numbers)"
      ]
    },
    {
      "cell_type": "markdown",
      "metadata": {
        "id": "thbK0ilmpNw7"
      },
      "source": [
        "##사전 (dictionary)"
      ]
    },
    {
      "cell_type": "markdown",
      "metadata": {
        "id": "koZBMdJ2pQwr"
      },
      "source": [
        "key-value pair (키-값 쌍)"
      ]
    },
    {
      "cell_type": "code",
      "execution_count": null,
      "metadata": {
        "id": "g0jVDpashWkg"
      },
      "outputs": [],
      "source": [
        "my_dictionary = {\n",
        "    5: 25,\n",
        "    2: 4,\n",
        "    3: 9\n",
        "}"
      ]
    },
    {
      "cell_type": "code",
      "execution_count": null,
      "metadata": {
        "colab": {
          "base_uri": "https://localhost:8080/"
        },
        "id": "DNVFnoFRhWpE",
        "outputId": "3c6873ad-4e2c-4da0-cffc-f458d61ddfcd"
      },
      "outputs": [
        {
          "data": {
            "text/plain": [
              "{5: 25, 2: 4, 3: 9}"
            ]
          },
          "execution_count": 622,
          "metadata": {},
          "output_type": "execute_result"
        }
      ],
      "source": [
        "my_dictionary"
      ]
    },
    {
      "cell_type": "code",
      "execution_count": null,
      "metadata": {
        "colab": {
          "base_uri": "https://localhost:8080/"
        },
        "id": "7mF5aTu8hWvp",
        "outputId": "f9a988cc-20b6-4729-ac18-9be84ca61549"
      },
      "outputs": [
        {
          "name": "stdout",
          "output_type": "stream",
          "text": [
            "<class 'dict'>\n"
          ]
        }
      ],
      "source": [
        "print(type(my_dictionary))"
      ]
    },
    {
      "cell_type": "code",
      "execution_count": null,
      "metadata": {
        "colab": {
          "base_uri": "https://localhost:8080/"
        },
        "id": "lmXeuU95hnKS",
        "outputId": "c0539569-ab06-4222-ab13-4357e056b5d7"
      },
      "outputs": [
        {
          "name": "stdout",
          "output_type": "stream",
          "text": [
            "9\n"
          ]
        }
      ],
      "source": [
        "print(my_dictionary[3])"
      ]
    },
    {
      "cell_type": "code",
      "execution_count": null,
      "metadata": {
        "id": "KYu43ryehnOk"
      },
      "outputs": [],
      "source": [
        "my_dictionary[9] = 81"
      ]
    },
    {
      "cell_type": "code",
      "execution_count": null,
      "metadata": {
        "colab": {
          "base_uri": "https://localhost:8080/"
        },
        "id": "UMoFq1fChnS5",
        "outputId": "7a315db3-1963-489d-da8e-72ad40ddf6b3"
      },
      "outputs": [
        {
          "data": {
            "text/plain": [
              "{5: 25, 2: 4, 3: 9, 9: 81}"
            ]
          },
          "execution_count": 629,
          "metadata": {},
          "output_type": "execute_result"
        }
      ],
      "source": [
        "my_dictionary"
      ]
    },
    {
      "cell_type": "code",
      "execution_count": null,
      "metadata": {
        "id": "EreK6mSThnYR"
      },
      "outputs": [],
      "source": [
        "my_family = {\n",
        "    '엄마': '김자옥',\n",
        "    '아빠': '이석진',\n",
        "    '아들': '이동민',\n",
        "    '딸': '이지영'\n",
        "}"
      ]
    },
    {
      "cell_type": "code",
      "execution_count": null,
      "metadata": {
        "colab": {
          "base_uri": "https://localhost:8080/"
        },
        "id": "BdFTopKChncw",
        "outputId": "933684a8-d403-47f0-daf4-9db07554c15f"
      },
      "outputs": [
        {
          "name": "stdout",
          "output_type": "stream",
          "text": [
            "이석진\n"
          ]
        }
      ],
      "source": [
        "print(my_family['아빠'])"
      ]
    },
    {
      "cell_type": "markdown",
      "metadata": {
        "id": "zlaXwZQCpT9M"
      },
      "source": [
        "### 퀴즈) 영어 단어장\n",
        "https://www.codeit.kr/topics/python-programming-and-data/lessons/2807"
      ]
    },
    {
      "cell_type": "code",
      "execution_count": null,
      "metadata": {
        "colab": {
          "base_uri": "https://localhost:8080/"
        },
        "id": "H5ZOv9zEjBVL",
        "outputId": "e1395563-5459-4128-8e7b-bfb48ef990cf"
      },
      "outputs": [
        {
          "name": "stdout",
          "output_type": "stream",
          "text": [
            "{'sanitizer': '살균제', 'ambition': '야망', 'conscience': '양심', 'civilization': '문명'}\n"
          ]
        }
      ],
      "source": [
        "vocab = {\n",
        "    'sanitizer': '살균제',\n",
        "    'ambition': '야망',\n",
        "    'conscience': '양심',\n",
        "    'civilization': '문명'\n",
        "}\n",
        "print(vocab)"
      ]
    },
    {
      "cell_type": "code",
      "execution_count": null,
      "metadata": {
        "colab": {
          "base_uri": "https://localhost:8080/"
        },
        "id": "3uPPjtrMjOqO",
        "outputId": "a817da11-4815-4f21-95a6-2c8bced8bf18"
      },
      "outputs": [
        {
          "name": "stdout",
          "output_type": "stream",
          "text": [
            "{'sanitizer': '살균제', 'ambition': '야망', 'conscience': '양심', 'civilization': '문명', 'privilege': '특권', 'principle': '원칙'}\n"
          ]
        }
      ],
      "source": [
        "vocab['privilege'] = '특권'\n",
        "vocab['principle'] = '원칙'\n",
        "print(vocab)"
      ]
    },
    {
      "cell_type": "markdown",
      "metadata": {
        "id": "7evddfqQpXY-"
      },
      "source": [
        "사전 활용법"
      ]
    },
    {
      "cell_type": "code",
      "execution_count": null,
      "metadata": {
        "colab": {
          "base_uri": "https://localhost:8080/"
        },
        "id": "qjTP4g60jbIy",
        "outputId": "bd9920d1-817f-45c6-93ec-35d3e1939718"
      },
      "outputs": [
        {
          "name": "stdout",
          "output_type": "stream",
          "text": [
            "True\n"
          ]
        }
      ],
      "source": [
        "my_family = {\n",
        "    '엄마': '김자옥',\n",
        "    '아빠': '이석진',\n",
        "    '아들': '이동민',\n",
        "    '딸': '이지영'\n",
        "}\n",
        "print('이지영' in my_family.values())"
      ]
    },
    {
      "cell_type": "code",
      "execution_count": null,
      "metadata": {
        "colab": {
          "base_uri": "https://localhost:8080/"
        },
        "id": "8UZXe5rAjmJW",
        "outputId": "318366a2-7d66-4187-ebc3-a8cbee1feb09"
      },
      "outputs": [
        {
          "name": "stdout",
          "output_type": "stream",
          "text": [
            "김자옥\n",
            "이석진\n",
            "이동민\n",
            "이지영\n"
          ]
        }
      ],
      "source": [
        "for value in my_family.values():\n",
        "  print(value)"
      ]
    },
    {
      "cell_type": "code",
      "execution_count": null,
      "metadata": {
        "colab": {
          "base_uri": "https://localhost:8080/"
        },
        "id": "aFGp3jqHjsIb",
        "outputId": "e4efedbc-b775-4317-fabb-e75d734d349e"
      },
      "outputs": [
        {
          "name": "stdout",
          "output_type": "stream",
          "text": [
            "dict_keys(['엄마', '아빠', '아들', '딸'])\n"
          ]
        }
      ],
      "source": [
        "print(my_family.keys())"
      ]
    },
    {
      "cell_type": "code",
      "execution_count": null,
      "metadata": {
        "colab": {
          "base_uri": "https://localhost:8080/"
        },
        "id": "9V8pL7TRju3m",
        "outputId": "802fff3d-0b1d-4451-9de0-0c6a396eecce"
      },
      "outputs": [
        {
          "name": "stdout",
          "output_type": "stream",
          "text": [
            "엄마\n",
            "아빠\n",
            "아들\n",
            "딸\n"
          ]
        }
      ],
      "source": [
        "for key in my_family.keys():\n",
        "  print(key)"
      ]
    },
    {
      "cell_type": "code",
      "execution_count": null,
      "metadata": {
        "colab": {
          "base_uri": "https://localhost:8080/"
        },
        "id": "36LeK3nQjyFD",
        "outputId": "5e7a1067-4152-4827-8d2b-7955295fde21"
      },
      "outputs": [
        {
          "name": "stdout",
          "output_type": "stream",
          "text": [
            "엄마 김자옥\n",
            "아빠 이석진\n",
            "아들 이동민\n",
            "딸 이지영\n"
          ]
        }
      ],
      "source": [
        "for key, value in my_family.items():\n",
        "  print(key, value)"
      ]
    },
    {
      "cell_type": "code",
      "execution_count": null,
      "metadata": {
        "colab": {
          "base_uri": "https://localhost:8080/"
        },
        "id": "pwaOUUyTkAQ3",
        "outputId": "eee11849-faa6-400e-e3ed-3bb9e22092dd"
      },
      "outputs": [
        {
          "data": {
            "text/plain": [
              "dict_items([('엄마', '김자옥'), ('아빠', '이석진'), ('아들', '이동민'), ('딸', '이지영')])"
            ]
          },
          "execution_count": 645,
          "metadata": {},
          "output_type": "execute_result"
        }
      ],
      "source": [
        "my_family.items()"
      ]
    },
    {
      "cell_type": "markdown",
      "metadata": {
        "id": "LpA2GQO0pcu3"
      },
      "source": [
        "### 퀴즈) 사전 뒤집기\n",
        "https://www.codeit.kr/topics/python-programming-and-data/lessons/2808"
      ]
    },
    {
      "cell_type": "code",
      "execution_count": null,
      "metadata": {
        "id": "QKqJSCsukrT_"
      },
      "outputs": [],
      "source": [
        "# 영-한 단어장\n",
        "vocab = {\n",
        "    'sanitizer': '살균제',\n",
        "    'ambition': '야망',\n",
        "    'conscience': '양심',\n",
        "    'civilization': '문명',\n",
        "    'privilege': '특권',\n",
        "    'principles': '원칙'\n",
        "}"
      ]
    },
    {
      "cell_type": "code",
      "execution_count": null,
      "metadata": {
        "colab": {
          "base_uri": "https://localhost:8080/"
        },
        "id": "nOYMKDCekvMp",
        "outputId": "542ff7be-7a89-4da2-e6bd-f3eef31a6bcf"
      },
      "outputs": [
        {
          "name": "stdout",
          "output_type": "stream",
          "text": [
            "영-한 단어장\n",
            "{'sanitizer': '살균제', 'ambition': '야망', 'conscience': '양심', 'civilization': '문명', 'privilege': '특권', 'principles': '원칙'}\n",
            "\n"
          ]
        }
      ],
      "source": [
        "# 기존 단어장 출력\n",
        "print(\"영-한 단어장\\n{}\\n\".format(vocab))"
      ]
    },
    {
      "cell_type": "code",
      "execution_count": null,
      "metadata": {
        "colab": {
          "base_uri": "https://localhost:8080/"
        },
        "id": "5h68pjftkxic",
        "outputId": "74218dad-df9b-45f1-f52a-081dc0be0440"
      },
      "outputs": [
        {
          "data": {
            "text/plain": [
              "dict_keys(['sanitizer', 'ambition', 'conscience', 'civilization', 'privilege', 'principles'])"
            ]
          },
          "execution_count": 652,
          "metadata": {},
          "output_type": "execute_result"
        }
      ],
      "source": [
        "vocab.keys()"
      ]
    },
    {
      "cell_type": "code",
      "execution_count": null,
      "metadata": {
        "colab": {
          "base_uri": "https://localhost:8080/"
        },
        "id": "j4TfX7h3k95s",
        "outputId": "d26d99be-1cf4-4d9c-b049-ecebe7d4dca3"
      },
      "outputs": [
        {
          "data": {
            "text/plain": [
              "dict_values(['살균제', '야망', '양심', '문명', '특권', '원칙'])"
            ]
          },
          "execution_count": 653,
          "metadata": {},
          "output_type": "execute_result"
        }
      ],
      "source": [
        "vocab.values()"
      ]
    },
    {
      "cell_type": "code",
      "execution_count": null,
      "metadata": {
        "colab": {
          "base_uri": "https://localhost:8080/"
        },
        "id": "oTrekkTHlYmX",
        "outputId": "52f2e682-9c3e-4370-b5cd-a2425dcb22cd"
      },
      "outputs": [
        {
          "name": "stdout",
          "output_type": "stream",
          "text": [
            "sanitizer 살균제\n",
            "ambition 야망\n",
            "conscience 양심\n",
            "civilization 문명\n",
            "privilege 특권\n",
            "principles 원칙\n"
          ]
        }
      ],
      "source": [
        "for key, value in vocab.items():\n",
        "  print(key, value)"
      ]
    },
    {
      "cell_type": "code",
      "execution_count": null,
      "metadata": {
        "colab": {
          "base_uri": "https://localhost:8080/"
        },
        "id": "SBe9EgG9hkuq",
        "outputId": "7c4fb6eb-aec0-4fa1-aea5-f325e61a9eca"
      },
      "outputs": [
        {
          "name": "stdout",
          "output_type": "stream",
          "text": [
            "영-한 단어장\n",
            "{'sanitizer': '살균제', 'ambition': '야망', 'conscience': '양심', 'civilization': '문명', 'privilege': '특권', 'principles': '원칙'}\n",
            "\n",
            "한-영 단어장\n",
            "{'살균제': 'sanitizer', '야망': 'ambition', '양심': 'conscience', '문명': 'civilization', '특권': 'privilege', '원칙': 'principles'}\n"
          ]
        }
      ],
      "source": [
        "# 언어 사전의 단어와 뜻을 서로 바꿔주는 함수\n",
        "def reverse_dict(old_dict):\n",
        "    new_dict = {}  # 새로운 사전\n",
        "\n",
        "    for key, value in old_dict.items():\n",
        "      new_dict[value] = key\n",
        "    return new_dict  # 변환한 새로운 사전 리턴\n",
        "\n",
        "# 영-한 단어장\n",
        "vocab = {\n",
        "    'sanitizer': '살균제',\n",
        "    'ambition': '야망',\n",
        "    'conscience': '양심',\n",
        "    'civilization': '문명',\n",
        "    'privilege': '특권',\n",
        "    'principles': '원칙'\n",
        "}\n",
        "\n",
        "# 기존 단어장 출력\n",
        "print(\"영-한 단어장\\n{}\\n\".format(vocab))\n",
        "\n",
        "# 변환된 단어장 출력\n",
        "reversed_vocab = reverse_dict(vocab)\n",
        "print(\"한-영 단어장\\n{}\".format(reversed_vocab))"
      ]
    },
    {
      "cell_type": "markdown",
      "metadata": {
        "id": "v4WTdqCOpj-k"
      },
      "source": [
        "### 퀴즈) 투표 집계하기\n",
        "https://www.codeit.kr/topics/python-programming-and-data/lessons/2809"
      ]
    },
    {
      "cell_type": "code",
      "execution_count": null,
      "metadata": {
        "id": "0AztMqtzmsui"
      },
      "outputs": [],
      "source": [
        "votes = ['김영자', '강승기', '최만수', '김영자', '강승기', '강승기', '최만수', '김영자', '최만수', '김영자', '최만수', '김영자', '김영자', '최만수', '최만수', '최만수', '강승기', '강승기', '김영자', '김영자', '최만수', '김영자', '김영자', '강승기', '김영자']"
      ]
    },
    {
      "cell_type": "code",
      "execution_count": null,
      "metadata": {
        "colab": {
          "base_uri": "https://localhost:8080/"
        },
        "id": "7PYh00YumtLX",
        "outputId": "6560ccf2-df76-436d-fbb9-c545e9c1f562"
      },
      "outputs": [
        {
          "name": "stdout",
          "output_type": "stream",
          "text": [
            "{'김영자': 11, '강승기': 6, '최만수': 8}\n"
          ]
        }
      ],
      "source": [
        "vote_counter = {}\n",
        "\n",
        "for name in votes:\n",
        "  if name not in vote_counter:\n",
        "    vote_counter[name] = 1\n",
        "  else:\n",
        "    vote_counter[name] += 1\n",
        "\n",
        "print(vote_counter)"
      ]
    },
    {
      "cell_type": "markdown",
      "metadata": {
        "id": "LXTWYwu_pmw6"
      },
      "source": [
        "###파이썬 데이터의 비밀"
      ]
    },
    {
      "cell_type": "markdown",
      "metadata": {
        "id": "ou_UVpoLppgI"
      },
      "source": [
        "Aliasing"
      ]
    },
    {
      "cell_type": "code",
      "execution_count": null,
      "metadata": {
        "colab": {
          "base_uri": "https://localhost:8080/"
        },
        "id": "-prHz7NdnyCd",
        "outputId": "4d780320-4ebc-4845-f2ec-ac9e6af4cbe7"
      },
      "outputs": [
        {
          "name": "stdout",
          "output_type": "stream",
          "text": [
            "5\n",
            "3\n"
          ]
        }
      ],
      "source": [
        "x = 5\n",
        "y = x\n",
        "y = 3\n",
        "\n",
        "print(x)\n",
        "print(y)"
      ]
    },
    {
      "cell_type": "code",
      "execution_count": null,
      "metadata": {
        "colab": {
          "base_uri": "https://localhost:8080/"
        },
        "id": "_vBNQpDOn10s",
        "outputId": "774822cf-f862-4ac3-af39-2e6a175e4e89"
      },
      "outputs": [
        {
          "name": "stdout",
          "output_type": "stream",
          "text": [
            "[2, 3, 4, 7, 11]\n",
            "[2, 3, 4, 7, 11]\n"
          ]
        }
      ],
      "source": [
        "# 헷갈릴 수 있지만 같은 리스트에 같은 태그가 붙임\n",
        "# y는 가명 (alias)\n",
        "x = [2, 3, 5, 7, 11]\n",
        "y = x\n",
        "y[2] = 4\n",
        "\n",
        "print(x)\n",
        "print(y)"
      ]
    },
    {
      "cell_type": "code",
      "execution_count": null,
      "metadata": {
        "colab": {
          "base_uri": "https://localhost:8080/"
        },
        "id": "FH8Lw6O3n1_c",
        "outputId": "81580c00-1d13-45ce-9d3e-68503ca0f212"
      },
      "outputs": [
        {
          "name": "stdout",
          "output_type": "stream",
          "text": [
            "[2, 3, 5, 7, 11]\n",
            "[2, 3, 4, 7, 11]\n"
          ]
        }
      ],
      "source": [
        "# y는 alias가 아님\n",
        "x = [2, 3, 5, 7, 11]\n",
        "y = list(x) # 리스트 함수의 역할은 리스트를 복사해줌\n",
        "y[2] = 4\n",
        "\n",
        "print(x)\n",
        "print(y)"
      ]
    },
    {
      "cell_type": "markdown",
      "metadata": {
        "id": "8gZ_KrJ0pwOn"
      },
      "source": [
        "### 퀴즈) Aliasing 퀴즈\n",
        "https://www.codeit.kr/topics/python-programming-and-data/lessons/2811"
      ]
    },
    {
      "cell_type": "code",
      "execution_count": null,
      "metadata": {
        "colab": {
          "base_uri": "https://localhost:8080/"
        },
        "id": "vq_IyycEozTs",
        "outputId": "f80a8ba3-1b4a-4a85-dde1-f718c580ba8f"
      },
      "outputs": [
        {
          "name": "stdout",
          "output_type": "stream",
          "text": [
            "[2, 3, 11, 7, 13]\n"
          ]
        }
      ],
      "source": [
        "# Q1.\n",
        "x = [2, 3, 5, 7, 9]\n",
        "y = x\n",
        "y[2] = 11\n",
        "x[4] = 13\n",
        "\n",
        "print(y)"
      ]
    },
    {
      "cell_type": "code",
      "execution_count": null,
      "metadata": {
        "colab": {
          "base_uri": "https://localhost:8080/"
        },
        "id": "7OZdQhlopA4H",
        "outputId": "6af17d74-0666-4b88-b6cd-bb5cc12b2aab"
      },
      "outputs": [
        {
          "name": "stdout",
          "output_type": "stream",
          "text": [
            "['이기훈', '김원일', '최고은', '우설희', '최규호']\n"
          ]
        }
      ],
      "source": [
        "# Q2.\n",
        "x = [\"이기훈\", \"김민주\", \"최고은\", \"우설희\", \"최규호\"]\n",
        "y = list(x)\n",
        "y[0] = \"강귀윤\"\n",
        "x[1] = \"김원일\"\n",
        "print(x)"
      ]
    },
    {
      "cell_type": "code",
      "execution_count": null,
      "metadata": {
        "colab": {
          "base_uri": "https://localhost:8080/"
        },
        "id": "defhxq6vpOtN",
        "outputId": "bd0ab2c2-cc41-4c7c-f2e5-8321c2fe5b4e"
      },
      "outputs": [
        {
          "name": "stdout",
          "output_type": "stream",
          "text": [
            "['이기훈', '김원일', '성재훈', '우설희', '최규호']\n"
          ]
        }
      ],
      "source": [
        "# Q3.\n",
        "x = [\"이기훈\", \"김민주\", \"최고은\", \"우설희\", \"최규호\"]\n",
        "y = list(x)\n",
        "z = x\n",
        "y[0] = \"강귀윤\"\n",
        "x[1] = \"김원일\"\n",
        "z[2] = \"성재훈\"\n",
        "print(x)"
      ]
    },
    {
      "cell_type": "markdown",
      "metadata": {
        "id": "fONfCGVtp0yg"
      },
      "source": [
        "###리스트와 문자열\n",
        "- 리스트는 자료형을 나열한 것\n",
        "- 문자열은 문자를 나열한 것"
      ]
    },
    {
      "cell_type": "code",
      "execution_count": null,
      "metadata": {
        "colab": {
          "base_uri": "https://localhost:8080/"
        },
        "id": "9rOm6IxipiOy",
        "outputId": "f19691df-afa5-4114-a074-7de32135da37"
      },
      "outputs": [
        {
          "name": "stdout",
          "output_type": "stream",
          "text": [
            "A\n",
            "B\n",
            "E\n",
            "J\n",
            "['A', 'B', 'C', 'D', 'E']\n",
            "['E', 'F', 'G', 'H', 'I', 'J']\n",
            "['A', 'B', 'C', 'D']\n"
          ]
        }
      ],
      "source": [
        "alphabet_list = ['A', 'B', 'C', 'D', 'E', 'F', 'G', 'H', 'I', 'J']\n",
        "\n",
        "print(alphabet_list[0])\n",
        "print(alphabet_list[1])\n",
        "print(alphabet_list[4])\n",
        "print(alphabet_list[-1])\n",
        "\n",
        "print(alphabet_list[0:5])\n",
        "print(alphabet_list[4:])\n",
        "print(alphabet_list[:4])"
      ]
    },
    {
      "cell_type": "code",
      "execution_count": null,
      "metadata": {
        "colab": {
          "base_uri": "https://localhost:8080/"
        },
        "id": "SteIdQzTqakb",
        "outputId": "c36b9997-65b5-487f-ff56-3d9761700838"
      },
      "outputs": [
        {
          "name": "stdout",
          "output_type": "stream",
          "text": [
            "A\n",
            "B\n",
            "E\n",
            "J\n",
            "ABCDE\n",
            "EFGHIJ\n",
            "ABCD\n"
          ]
        }
      ],
      "source": [
        "alphabet_string = 'ABCDEFGHIJ'\n",
        "\n",
        "print(alphabet_string[0])\n",
        "print(alphabet_string[1])\n",
        "print(alphabet_string[4])\n",
        "print(alphabet_string[-1])\n",
        "\n",
        "print(alphabet_string[0:5])\n",
        "print(alphabet_string[4:])\n",
        "print(alphabet_string[:4])"
      ]
    },
    {
      "cell_type": "code",
      "execution_count": null,
      "metadata": {
        "colab": {
          "base_uri": "https://localhost:8080/"
        },
        "id": "GIUfI5eDq7Eo",
        "outputId": "98bc8498-b689-4811-f5d0-5665995ed439"
      },
      "outputs": [
        {
          "name": "stdout",
          "output_type": "stream",
          "text": [
            "HelloWorld\n"
          ]
        }
      ],
      "source": [
        "str_1 = \"Hello\"\n",
        "str_2 = \"World\"\n",
        "str_3 = str_1 + str_2\n",
        "print(str_3)"
      ]
    },
    {
      "cell_type": "code",
      "execution_count": null,
      "metadata": {
        "colab": {
          "base_uri": "https://localhost:8080/"
        },
        "id": "ybfndU5nrCKb",
        "outputId": "c8531aec-8dbf-45b2-a776-5a07aa528cd1"
      },
      "outputs": [
        {
          "name": "stdout",
          "output_type": "stream",
          "text": [
            "[1, 2, 3, 4, 5, 6, 7, 8]\n"
          ]
        }
      ],
      "source": [
        "list_1 = [1, 2, 3, 4]\n",
        "list_2 = [5, 6, 7, 8]\n",
        "list_3 = list_1 + list_2\n",
        "print(list_3)"
      ]
    },
    {
      "cell_type": "code",
      "execution_count": null,
      "metadata": {
        "colab": {
          "base_uri": "https://localhost:8080/"
        },
        "id": "z1j3zc3VrQFD",
        "outputId": "741a31e3-3ee9-49a0-bc66-f74c1e0bfa15"
      },
      "outputs": [
        {
          "name": "stdout",
          "output_type": "stream",
          "text": [
            "5\n"
          ]
        }
      ],
      "source": [
        "my_list = [2, 3, 5, 7, 11]\n",
        "print(len(my_list))"
      ]
    },
    {
      "cell_type": "code",
      "execution_count": null,
      "metadata": {
        "colab": {
          "base_uri": "https://localhost:8080/"
        },
        "id": "cLsgXIqNrQKt",
        "outputId": "95c4f770-6911-40b3-a018-da1b9bbc9291"
      },
      "outputs": [
        {
          "name": "stdout",
          "output_type": "stream",
          "text": [
            "12\n"
          ]
        }
      ],
      "source": [
        "my_string = \"Hello World!\"\n",
        "print(len(my_string))"
      ]
    },
    {
      "cell_type": "code",
      "execution_count": null,
      "metadata": {
        "colab": {
          "base_uri": "https://localhost:8080/"
        },
        "id": "0V2CjbbTrZzS",
        "outputId": "443d6384-4400-41f7-a3d9-38fb502fec10"
      },
      "outputs": [
        {
          "name": "stdout",
          "output_type": "stream",
          "text": [
            "[5, 2, 3, 4]\n"
          ]
        }
      ],
      "source": [
        "numbers = [1, 2, 3, 4]\n",
        "numbers[0] = 5\n",
        "print(numbers)"
      ]
    },
    {
      "cell_type": "code",
      "execution_count": null,
      "metadata": {
        "colab": {
          "base_uri": "https://localhost:8080/",
          "height": 181
        },
        "id": "GtfbYpVmreGM",
        "outputId": "ec3d83d2-cbb3-4914-8a61-7f5094310d14"
      },
      "outputs": [
        {
          "ename": "TypeError",
          "evalue": "'str' object does not support item assignment",
          "output_type": "error",
          "traceback": [
            "\u001b[0;31m---------------------------------------------------------------------------\u001b[0m",
            "\u001b[0;31mTypeError\u001b[0m                                 Traceback (most recent call last)",
            "\u001b[0;32m<ipython-input-688-355c51e305c5>\u001b[0m in \u001b[0;36m<cell line: 2>\u001b[0;34m()\u001b[0m\n\u001b[1;32m      1\u001b[0m \u001b[0mname\u001b[0m \u001b[0;34m=\u001b[0m \u001b[0;34m\"codeit\"\u001b[0m\u001b[0;34m\u001b[0m\u001b[0;34m\u001b[0m\u001b[0m\n\u001b[0;32m----> 2\u001b[0;31m \u001b[0mname\u001b[0m\u001b[0;34m[\u001b[0m\u001b[0;36m0\u001b[0m\u001b[0;34m]\u001b[0m \u001b[0;34m=\u001b[0m \u001b[0;34m\"C\"\u001b[0m\u001b[0;34m\u001b[0m\u001b[0;34m\u001b[0m\u001b[0m\n\u001b[0m\u001b[1;32m      3\u001b[0m \u001b[0mprint\u001b[0m\u001b[0;34m(\u001b[0m\u001b[0mname\u001b[0m\u001b[0;34m)\u001b[0m\u001b[0;34m\u001b[0m\u001b[0;34m\u001b[0m\u001b[0m\n",
            "\u001b[0;31mTypeError\u001b[0m: 'str' object does not support item assignment"
          ]
        }
      ],
      "source": [
        "# 문자열은 리스트와 달리 수정이 불가능\n",
        "name = \"codeit\"\n",
        "name[0] = \"C\"\n",
        "print(name)"
      ]
    },
    {
      "cell_type": "markdown",
      "metadata": {
        "id": "DvQ5z1fDp5TT"
      },
      "source": [
        "## 리스트와 문자열 정리"
      ]
    },
    {
      "cell_type": "markdown",
      "metadata": {
        "id": "SHwROIfFp67h"
      },
      "source": [
        "인덱싱 (Indexing)"
      ]
    },
    {
      "cell_type": "code",
      "execution_count": null,
      "metadata": {
        "colab": {
          "base_uri": "https://localhost:8080/"
        },
        "id": "-mHxd0ygsLgw",
        "outputId": "1952e790-e524-41bb-f056-e6141d613644"
      },
      "outputs": [
        {
          "name": "stdout",
          "output_type": "stream",
          "text": [
            "A\n",
            "B\n",
            "E\n",
            "J\n",
            "A\n",
            "B\n",
            "E\n",
            "J\n"
          ]
        }
      ],
      "source": [
        "alphabet_list = ['A', 'B', 'C', 'D', 'E', 'F', 'G', 'H', 'I', 'J']\n",
        "print(alphabet_list[0])\n",
        "print(alphabet_list[1])\n",
        "print(alphabet_list[4])\n",
        "print(alphabet_list[-1])\n",
        "\n",
        "alphabet_string = \"ABCDEFGHIJ\"\n",
        "print(alphabet_string[0])\n",
        "print(alphabet_string[1])\n",
        "print(alphabet_string[4])\n",
        "print(alphabet_string[-1])"
      ]
    },
    {
      "cell_type": "markdown",
      "metadata": {
        "id": "Dt5t9Y0Yp9oc"
      },
      "source": [
        "for 반복문"
      ]
    },
    {
      "cell_type": "code",
      "execution_count": null,
      "metadata": {
        "colab": {
          "base_uri": "https://localhost:8080/"
        },
        "id": "ZzvC1TQysLyE",
        "outputId": "95fc95fa-31ef-41ee-814b-023957a0c761"
      },
      "outputs": [
        {
          "name": "stdout",
          "output_type": "stream",
          "text": [
            "C\n",
            "O\n",
            "D\n",
            "E\n",
            "I\n",
            "T\n"
          ]
        }
      ],
      "source": [
        "alphabet_list = ['C', 'O', 'D', 'E', 'I', 'T']\n",
        "\n",
        "for alphabet in alphabet_list:\n",
        "  print(alphabet)"
      ]
    },
    {
      "cell_type": "code",
      "execution_count": null,
      "metadata": {
        "colab": {
          "base_uri": "https://localhost:8080/"
        },
        "id": "gknX7YPbsL5i",
        "outputId": "fa85414a-0ad2-4c7d-e558-99a02bec3753"
      },
      "outputs": [
        {
          "name": "stdout",
          "output_type": "stream",
          "text": [
            "C\n",
            "O\n",
            "D\n",
            "E\n",
            "I\n",
            "T\n"
          ]
        }
      ],
      "source": [
        "alphabets_string = 'CODEIT'\n",
        "\n",
        "for alphabet in alphabets_string:\n",
        "  print(alphabet)"
      ]
    },
    {
      "cell_type": "markdown",
      "metadata": {
        "id": "N6fcKv4uqAFh"
      },
      "source": [
        "슬라이싱 (Slicing)"
      ]
    },
    {
      "cell_type": "code",
      "execution_count": null,
      "metadata": {
        "colab": {
          "base_uri": "https://localhost:8080/"
        },
        "id": "xQQYQm6-tDuo",
        "outputId": "3f426876-82a1-4458-d8b3-16b5e9ff3ca8"
      },
      "outputs": [
        {
          "name": "stdout",
          "output_type": "stream",
          "text": [
            "['A', 'B', 'C', 'D', 'E']\n",
            "['E', 'F', 'G', 'H', 'I', 'J']\n",
            "['A', 'B', 'C', 'D']\n",
            "ABCDE\n",
            "EFGHIJ\n",
            "ABCD\n"
          ]
        }
      ],
      "source": [
        "alphabet_list = ['A', 'B', 'C', 'D', 'E', 'F', 'G', 'H', 'I', 'J']\n",
        "print(alphabet_list[0:5])\n",
        "print(alphabet_list[4:])\n",
        "print(alphabet_list[:4])\n",
        "\n",
        "alphabet_string = \"ABCDEFGHIJ\"\n",
        "print(alphabet_string[0:5])\n",
        "print(alphabet_string[4:])\n",
        "print(alphabet_string[:4])"
      ]
    },
    {
      "cell_type": "markdown",
      "metadata": {
        "id": "5pofXg4JqCze"
      },
      "source": [
        "덧셈 연산, 연결하는 연산"
      ]
    },
    {
      "cell_type": "code",
      "execution_count": null,
      "metadata": {
        "colab": {
          "base_uri": "https://localhost:8080/"
        },
        "id": "wIR-VQ_ItDyv",
        "outputId": "91a29bdb-3b9e-4a76-802b-5a4df5ef49c0"
      },
      "outputs": [
        {
          "name": "stdout",
          "output_type": "stream",
          "text": [
            "[1, 2, 3, 4, 5, 6, 7, 8]\n",
            "12345678\n"
          ]
        }
      ],
      "source": [
        "list1 = [1, 2, 3, 4]\n",
        "list2 = [5, 6, 7, 8]\n",
        "list3 = list1 + list2\n",
        "print(list3)\n",
        "\n",
        "string1 = '1234'\n",
        "string2 = '5678'\n",
        "string3 = string1 + string2\n",
        "print(string3)"
      ]
    },
    {
      "cell_type": "markdown",
      "metadata": {
        "id": "HzJ8jfzeqFcK"
      },
      "source": [
        "len함수"
      ]
    },
    {
      "cell_type": "code",
      "execution_count": null,
      "metadata": {
        "colab": {
          "base_uri": "https://localhost:8080/"
        },
        "id": "R_bv6vjLtD24",
        "outputId": "366bb312-a6e8-4959-ee97-796b45f50cc3"
      },
      "outputs": [
        {
          "name": "stdout",
          "output_type": "stream",
          "text": [
            "5\n",
            "13\n"
          ]
        }
      ],
      "source": [
        "print(len(['H', 'E', 'L', 'L', 'O']))\n",
        "print(len(\"Hello, world!\"))"
      ]
    },
    {
      "cell_type": "markdown",
      "metadata": {
        "id": "CYHKSZtoqHaf"
      },
      "source": [
        "Mutable (수정 가능) vs. Immutable (수정 불가능)\n",
        "- 리스트는 mutable하지만, 숫자, 불린, 문자형은 immutable한 자료형\n",
        "\n"
      ]
    },
    {
      "cell_type": "code",
      "execution_count": null,
      "metadata": {
        "colab": {
          "base_uri": "https://localhost:8080/"
        },
        "id": "qn6ltckvtD6I",
        "outputId": "13e6888a-7b9b-4588-d551-7c24c8cd6b85"
      },
      "outputs": [
        {
          "name": "stdout",
          "output_type": "stream",
          "text": [
            "[5, 2, 3, 4]\n"
          ]
        }
      ],
      "source": [
        "numbers = [1, 2, 3, 4]\n",
        "numbers[0] = 5\n",
        "print(numbers)"
      ]
    },
    {
      "cell_type": "code",
      "execution_count": null,
      "metadata": {
        "colab": {
          "base_uri": "https://localhost:8080/",
          "height": 181
        },
        "id": "JMOY8e-JtD98",
        "outputId": "93f771dc-17ba-42a9-a1a1-c0177bdab993"
      },
      "outputs": [
        {
          "ename": "TypeError",
          "evalue": "'str' object does not support item assignment",
          "output_type": "error",
          "traceback": [
            "\u001b[0;31m---------------------------------------------------------------------------\u001b[0m",
            "\u001b[0;31mTypeError\u001b[0m                                 Traceback (most recent call last)",
            "\u001b[0;32m<ipython-input-702-355c51e305c5>\u001b[0m in \u001b[0;36m<cell line: 2>\u001b[0;34m()\u001b[0m\n\u001b[1;32m      1\u001b[0m \u001b[0mname\u001b[0m \u001b[0;34m=\u001b[0m \u001b[0;34m\"codeit\"\u001b[0m\u001b[0;34m\u001b[0m\u001b[0;34m\u001b[0m\u001b[0m\n\u001b[0;32m----> 2\u001b[0;31m \u001b[0mname\u001b[0m\u001b[0;34m[\u001b[0m\u001b[0;36m0\u001b[0m\u001b[0;34m]\u001b[0m \u001b[0;34m=\u001b[0m \u001b[0;34m\"C\"\u001b[0m\u001b[0;34m\u001b[0m\u001b[0;34m\u001b[0m\u001b[0m\n\u001b[0m\u001b[1;32m      3\u001b[0m \u001b[0mprint\u001b[0m\u001b[0;34m(\u001b[0m\u001b[0mname\u001b[0m\u001b[0;34m)\u001b[0m\u001b[0;34m\u001b[0m\u001b[0;34m\u001b[0m\u001b[0m\n",
            "\u001b[0;31mTypeError\u001b[0m: 'str' object does not support item assignment"
          ]
        }
      ],
      "source": [
        "name = \"codeit\"\n",
        "name[0] = \"C\"\n",
        "print(name)"
      ]
    },
    {
      "cell_type": "markdown",
      "metadata": {
        "id": "9NVM93WUqLzb"
      },
      "source": [
        "### 퀴즈) 자릿수 합 구하기\n",
        "https://www.codeit.kr/topics/python-programming-and-data/lessons/2814"
      ]
    },
    {
      "cell_type": "code",
      "execution_count": null,
      "metadata": {
        "colab": {
          "base_uri": "https://localhost:8080/"
        },
        "id": "_JXLxZGqudj5",
        "outputId": "c796cf73-3e48-4a58-bb30-5583d8381ef6"
      },
      "outputs": [
        {
          "name": "stdout",
          "output_type": "stream",
          "text": [
            "13501\n"
          ]
        }
      ],
      "source": [
        "def sum_digits(num):\n",
        "  total = 0\n",
        "  str_num = str(num)\n",
        "\n",
        "  for i in str_num:\n",
        "    total += int(i)\n",
        "  return total\n",
        "\n",
        "digit_total = 0\n",
        "for i in range(1, 1001):\n",
        "  digit_total += sum_digits(i)\n",
        "\n",
        "print(digit_total)"
      ]
    },
    {
      "cell_type": "markdown",
      "metadata": {
        "id": "f_qR1jLAqPZm"
      },
      "source": [
        "### 퀴즈) 주민등록번호 가리기\n",
        "https://www.codeit.kr/topics/python-programming-and-data/lessons/2815"
      ]
    },
    {
      "cell_type": "code",
      "execution_count": null,
      "metadata": {
        "colab": {
          "base_uri": "https://localhost:8080/"
        },
        "id": "P8ktEgBUxa_L",
        "outputId": "f1cb290b-715e-4e81-d081-0cfcd3049625"
      },
      "outputs": [
        {
          "name": "stdout",
          "output_type": "stream",
          "text": [
            "880720-123****\n",
            "880720123****\n",
            "930124-765****\n",
            "930124765****\n",
            "761214-235****\n",
            "761214235****\n"
          ]
        }
      ],
      "source": [
        "asterisk_count = 4\n",
        "\n",
        "def mask_security_number(security_number):\n",
        "    return security_number[0:len(security_number) - asterisk_count] + \"*\" * asterisk_count\n",
        "\n",
        "print(mask_security_number(\"880720-1234567\"))\n",
        "print(mask_security_number(\"8807201234567\"))\n",
        "print(mask_security_number(\"930124-7654321\"))\n",
        "print(mask_security_number(\"9301247654321\"))\n",
        "print(mask_security_number(\"761214-2357111\"))\n",
        "print(mask_security_number(\"7612142357111\"))"
      ]
    },
    {
      "cell_type": "markdown",
      "metadata": {
        "id": "b_xnBskKqUR3"
      },
      "source": [
        "###퀴즈) 팰린드롬\n",
        "https://www.codeit.kr/topics/python-programming-and-data/lessons/2816"
      ]
    },
    {
      "cell_type": "code",
      "execution_count": null,
      "metadata": {
        "id": "hFLlHd_0nuLv"
      },
      "outputs": [],
      "source": [
        "word = \"stars\""
      ]
    },
    {
      "cell_type": "code",
      "execution_count": null,
      "metadata": {
        "colab": {
          "base_uri": "https://localhost:8080/"
        },
        "id": "ejliPtARyuES",
        "outputId": "35d44e8e-3ba0-4b5f-e38e-a8476f07395d"
      },
      "outputs": [
        {
          "data": {
            "text/plain": [
              "5"
            ]
          },
          "execution_count": 750,
          "metadata": {},
          "output_type": "execute_result"
        }
      ],
      "source": [
        "len(word)"
      ]
    },
    {
      "cell_type": "code",
      "execution_count": null,
      "metadata": {
        "colab": {
          "base_uri": "https://localhost:8080/"
        },
        "id": "2P7ArVDly2Bf",
        "outputId": "dd84465e-c761-4878-a60c-e929fe18e593"
      },
      "outputs": [
        {
          "data": {
            "text/plain": [
              "2"
            ]
          },
          "execution_count": 751,
          "metadata": {},
          "output_type": "execute_result"
        }
      ],
      "source": [
        "len(word) // 2"
      ]
    },
    {
      "cell_type": "code",
      "execution_count": null,
      "metadata": {
        "colab": {
          "base_uri": "https://localhost:8080/",
          "height": 35
        },
        "id": "AzVJT40ny3KE",
        "outputId": "cd09cc30-927c-4670-f1d7-897f34d3404a"
      },
      "outputs": [
        {
          "data": {
            "application/vnd.google.colaboratory.intrinsic+json": {
              "type": "string"
            },
            "text/plain": [
              "'s'"
            ]
          },
          "execution_count": 753,
          "metadata": {},
          "output_type": "execute_result"
        }
      ],
      "source": [
        "word[0]"
      ]
    },
    {
      "cell_type": "code",
      "execution_count": null,
      "metadata": {
        "id": "zHClJTTUy-67"
      },
      "outputs": [],
      "source": [
        "def is_palindrome(word):\n",
        "  for left in range(len(word) // 2):\n",
        "    right = len(word) - left - 1\n",
        "    if word[left] == word[right]:\n",
        "     return True\n",
        "  return False"
      ]
    },
    {
      "cell_type": "code",
      "execution_count": null,
      "metadata": {
        "colab": {
          "base_uri": "https://localhost:8080/"
        },
        "id": "U0GXIiRFzbT2",
        "outputId": "fa3298a3-0d02-4081-dc7d-bfaddc110a08"
      },
      "outputs": [
        {
          "name": "stdout",
          "output_type": "stream",
          "text": [
            "True\n",
            "False\n",
            "True\n",
            "True\n",
            "False\n"
          ]
        }
      ],
      "source": [
        "print(is_palindrome(\"racecar\"))\n",
        "print(is_palindrome(\"stars\"))\n",
        "print(is_palindrome(\"토마토\"))\n",
        "print(is_palindrome(\"kayak\"))\n",
        "print(is_palindrome(\"hello\"))"
      ]
    }
  ],
  "metadata": {
    "colab": {
      "provenance": [],
      "toc_visible": true
    },
    "kernelspec": {
      "display_name": "Python 3",
      "name": "python3"
    },
    "language_info": {
      "name": "python",
      "version": "3.12.4"
    }
  },
  "nbformat": 4,
  "nbformat_minor": 0
}
